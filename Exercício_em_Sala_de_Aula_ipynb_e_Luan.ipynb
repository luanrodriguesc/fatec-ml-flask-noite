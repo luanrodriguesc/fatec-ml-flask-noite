{
  "nbformat": 4,
  "nbformat_minor": 0,
  "metadata": {
    "colab": {
      "name": "Exercício em Sala de Aula.ipynb // Andre e Luan",
      "provenance": [],
      "collapsed_sections": [],
      "include_colab_link": true
    },
    "kernelspec": {
      "name": "python3",
      "display_name": "Python 3"
    },
    "language_info": {
      "name": "python"
    }
  },
  "cells": [
    {
      "cell_type": "markdown",
      "metadata": {
        "id": "view-in-github",
        "colab_type": "text"
      },
      "source": [
        "<a href=\"https://colab.research.google.com/github/luanrodriguesc/fatec-ml-flask-noite/blob/main/Exerc%C3%ADcio_em_Sala_de_Aula_ipynb_e_Luan.ipynb\" target=\"_parent\"><img src=\"https://colab.research.google.com/assets/colab-badge.svg\" alt=\"Open In Colab\"/></a>"
      ]
    },
    {
      "cell_type": "markdown",
      "source": [
        "# Exercício em Sala de Aula (3,0 pontos)\n",
        "\n",
        "Acesse o link abaixo, escolha um dataset e realize o processo de análise exploratório, limpeza dos dados, extração de características, treinamento e avaliação de um modelo de Machine Learning.\n",
        "\n",
        "https://www.kaggle.com/datasets?fileType=csv&tags=14101-Tabular+Data%2C14201-Binary+Classification\n",
        "\n",
        "Atenção: O exercício deverá ser feito em dupla ou individualmente e não será permitido repetir o dataset entre duas duplas ou mais. Portanto, ao escolher o seu, preencha a planilha disponível no link abaixo.\n",
        "\n",
        "https://docs.google.com/spreadsheets/d/1XiIaEOQTMTNrdVyTuJ9JRs8_NsmJTseFMiBHDocGIY8/edit?usp=sharing"
      ],
      "metadata": {
        "id": "a3FsLUC0LEqW"
      }
    },
    {
      "cell_type": "markdown",
      "source": [
        "## Leitura da base de dados"
      ],
      "metadata": {
        "id": "rM3FCbLAMclE"
      }
    },
    {
      "cell_type": "code",
      "source": [
        "#https://www.kaggle.com/datasets/sagnik1511/car-insurance-data DATASET PARA DOWNLOAD"
      ],
      "metadata": {
        "id": "1Qtf7uAPN1a7"
      },
      "execution_count": 55,
      "outputs": []
    },
    {
      "cell_type": "code",
      "source": [
        "import pandas as pd\n",
        "import matplotlib.pyplot as plt\n",
        "import seaborn as sns\n",
        "import numpy as np\n",
        "\n",
        "dataframe = pd.read_csv('Car_Insurance_Claim.csv')"
      ],
      "metadata": {
        "id": "rWpPBS4GYXag"
      },
      "execution_count": 56,
      "outputs": []
    },
    {
      "cell_type": "code",
      "source": [
        "dataframe.head(15)"
      ],
      "metadata": {
        "id": "lvXycdawYZIZ",
        "colab": {
          "base_uri": "https://localhost:8080/",
          "height": 0
        },
        "outputId": "ab1e3816-6028-4ecc-9767-0be57a0f79c3"
      },
      "execution_count": 57,
      "outputs": [
        {
          "output_type": "execute_result",
          "data": {
            "text/plain": [
              "        ID    AGE  GENDER      RACE DRIVING_EXPERIENCE    EDUCATION  \\\n",
              "0   569520    65+  female  majority               0-9y  high school   \n",
              "1   750365  16-25    male  majority               0-9y         none   \n",
              "2   199901  16-25  female  majority               0-9y  high school   \n",
              "3   478866  16-25    male  majority               0-9y   university   \n",
              "4   731664  26-39    male  majority             10-19y         none   \n",
              "5   877557  40-64  female  majority             20-29y  high school   \n",
              "6   930134    65+    male  majority               30y+  high school   \n",
              "7   461006  26-39  female  majority               0-9y   university   \n",
              "8    68366  40-64  female  majority             20-29y   university   \n",
              "9   445911  40-64  female  majority               0-9y  high school   \n",
              "10  275820    65+    male  majority               30y+  high school   \n",
              "11  521399    65+  female  majority               30y+  high school   \n",
              "12  429728  40-64    male  majority             20-29y  high school   \n",
              "13  569640  16-25  female  majority               0-9y   university   \n",
              "14  980181  26-39    male  majority             10-19y  high school   \n",
              "\n",
              "           INCOME  CREDIT_SCORE  VEHICLE_OWNERSHIP VEHICLE_YEAR  MARRIED  \\\n",
              "0     upper class      0.629027                1.0   after 2015      0.0   \n",
              "1         poverty      0.357757                0.0  before 2015      0.0   \n",
              "2   working class      0.493146                1.0  before 2015      0.0   \n",
              "3   working class      0.206013                1.0  before 2015      0.0   \n",
              "4   working class      0.388366                1.0  before 2015      0.0   \n",
              "5     upper class      0.619127                1.0   after 2015      0.0   \n",
              "6     upper class      0.492944                0.0   after 2015      1.0   \n",
              "7   working class      0.468689                0.0   after 2015      0.0   \n",
              "8   working class      0.521815                0.0  before 2015      1.0   \n",
              "9     upper class      0.561531                1.0  before 2015      0.0   \n",
              "10    upper class      0.620361                1.0   after 2015      1.0   \n",
              "11    upper class      0.729831                1.0   after 2015      1.0   \n",
              "12    upper class      0.637045                1.0  before 2015      1.0   \n",
              "13    upper class      0.591260                1.0  before 2015      0.0   \n",
              "14   middle class      0.461568                1.0  before 2015      1.0   \n",
              "\n",
              "    CHILDREN  POSTAL_CODE  ANNUAL_MILEAGE VEHICLE_TYPE  SPEEDING_VIOLATIONS  \\\n",
              "0        1.0        10238         12000.0        sedan                    0   \n",
              "1        0.0        10238         16000.0        sedan                    0   \n",
              "2        0.0        10238         11000.0        sedan                    0   \n",
              "3        1.0        32765         11000.0        sedan                    0   \n",
              "4        0.0        32765         12000.0        sedan                    2   \n",
              "5        1.0        10238         13000.0        sedan                    3   \n",
              "6        1.0        10238         13000.0        sedan                    7   \n",
              "7        1.0        10238         14000.0        sedan                    0   \n",
              "8        0.0        10238         13000.0        sedan                    0   \n",
              "9        1.0        32765         11000.0        sedan                    0   \n",
              "10       1.0        10238         10000.0        sedan                    6   \n",
              "11       0.0        32765         12000.0        sedan                    4   \n",
              "12       1.0        10238          8000.0        sedan                    4   \n",
              "13       1.0        10238             NaN        sedan                    0   \n",
              "14       1.0        10238         12000.0        sedan                    0   \n",
              "\n",
              "    DUIS  PAST_ACCIDENTS  OUTCOME  \n",
              "0      0               0      0.0  \n",
              "1      0               0      1.0  \n",
              "2      0               0      0.0  \n",
              "3      0               0      0.0  \n",
              "4      0               1      1.0  \n",
              "5      0               3      0.0  \n",
              "6      0               3      0.0  \n",
              "7      0               0      1.0  \n",
              "8      0               0      0.0  \n",
              "9      0               0      1.0  \n",
              "10     2               7      0.0  \n",
              "11     0               0      0.0  \n",
              "12     1               2      0.0  \n",
              "13     0               0      0.0  \n",
              "14     2               1      0.0  "
            ],
            "text/html": [
              "\n",
              "  <div id=\"df-6def3b48-f7b0-4c8b-bfbf-7a1731e293b2\">\n",
              "    <div class=\"colab-df-container\">\n",
              "      <div>\n",
              "<style scoped>\n",
              "    .dataframe tbody tr th:only-of-type {\n",
              "        vertical-align: middle;\n",
              "    }\n",
              "\n",
              "    .dataframe tbody tr th {\n",
              "        vertical-align: top;\n",
              "    }\n",
              "\n",
              "    .dataframe thead th {\n",
              "        text-align: right;\n",
              "    }\n",
              "</style>\n",
              "<table border=\"1\" class=\"dataframe\">\n",
              "  <thead>\n",
              "    <tr style=\"text-align: right;\">\n",
              "      <th></th>\n",
              "      <th>ID</th>\n",
              "      <th>AGE</th>\n",
              "      <th>GENDER</th>\n",
              "      <th>RACE</th>\n",
              "      <th>DRIVING_EXPERIENCE</th>\n",
              "      <th>EDUCATION</th>\n",
              "      <th>INCOME</th>\n",
              "      <th>CREDIT_SCORE</th>\n",
              "      <th>VEHICLE_OWNERSHIP</th>\n",
              "      <th>VEHICLE_YEAR</th>\n",
              "      <th>MARRIED</th>\n",
              "      <th>CHILDREN</th>\n",
              "      <th>POSTAL_CODE</th>\n",
              "      <th>ANNUAL_MILEAGE</th>\n",
              "      <th>VEHICLE_TYPE</th>\n",
              "      <th>SPEEDING_VIOLATIONS</th>\n",
              "      <th>DUIS</th>\n",
              "      <th>PAST_ACCIDENTS</th>\n",
              "      <th>OUTCOME</th>\n",
              "    </tr>\n",
              "  </thead>\n",
              "  <tbody>\n",
              "    <tr>\n",
              "      <th>0</th>\n",
              "      <td>569520</td>\n",
              "      <td>65+</td>\n",
              "      <td>female</td>\n",
              "      <td>majority</td>\n",
              "      <td>0-9y</td>\n",
              "      <td>high school</td>\n",
              "      <td>upper class</td>\n",
              "      <td>0.629027</td>\n",
              "      <td>1.0</td>\n",
              "      <td>after 2015</td>\n",
              "      <td>0.0</td>\n",
              "      <td>1.0</td>\n",
              "      <td>10238</td>\n",
              "      <td>12000.0</td>\n",
              "      <td>sedan</td>\n",
              "      <td>0</td>\n",
              "      <td>0</td>\n",
              "      <td>0</td>\n",
              "      <td>0.0</td>\n",
              "    </tr>\n",
              "    <tr>\n",
              "      <th>1</th>\n",
              "      <td>750365</td>\n",
              "      <td>16-25</td>\n",
              "      <td>male</td>\n",
              "      <td>majority</td>\n",
              "      <td>0-9y</td>\n",
              "      <td>none</td>\n",
              "      <td>poverty</td>\n",
              "      <td>0.357757</td>\n",
              "      <td>0.0</td>\n",
              "      <td>before 2015</td>\n",
              "      <td>0.0</td>\n",
              "      <td>0.0</td>\n",
              "      <td>10238</td>\n",
              "      <td>16000.0</td>\n",
              "      <td>sedan</td>\n",
              "      <td>0</td>\n",
              "      <td>0</td>\n",
              "      <td>0</td>\n",
              "      <td>1.0</td>\n",
              "    </tr>\n",
              "    <tr>\n",
              "      <th>2</th>\n",
              "      <td>199901</td>\n",
              "      <td>16-25</td>\n",
              "      <td>female</td>\n",
              "      <td>majority</td>\n",
              "      <td>0-9y</td>\n",
              "      <td>high school</td>\n",
              "      <td>working class</td>\n",
              "      <td>0.493146</td>\n",
              "      <td>1.0</td>\n",
              "      <td>before 2015</td>\n",
              "      <td>0.0</td>\n",
              "      <td>0.0</td>\n",
              "      <td>10238</td>\n",
              "      <td>11000.0</td>\n",
              "      <td>sedan</td>\n",
              "      <td>0</td>\n",
              "      <td>0</td>\n",
              "      <td>0</td>\n",
              "      <td>0.0</td>\n",
              "    </tr>\n",
              "    <tr>\n",
              "      <th>3</th>\n",
              "      <td>478866</td>\n",
              "      <td>16-25</td>\n",
              "      <td>male</td>\n",
              "      <td>majority</td>\n",
              "      <td>0-9y</td>\n",
              "      <td>university</td>\n",
              "      <td>working class</td>\n",
              "      <td>0.206013</td>\n",
              "      <td>1.0</td>\n",
              "      <td>before 2015</td>\n",
              "      <td>0.0</td>\n",
              "      <td>1.0</td>\n",
              "      <td>32765</td>\n",
              "      <td>11000.0</td>\n",
              "      <td>sedan</td>\n",
              "      <td>0</td>\n",
              "      <td>0</td>\n",
              "      <td>0</td>\n",
              "      <td>0.0</td>\n",
              "    </tr>\n",
              "    <tr>\n",
              "      <th>4</th>\n",
              "      <td>731664</td>\n",
              "      <td>26-39</td>\n",
              "      <td>male</td>\n",
              "      <td>majority</td>\n",
              "      <td>10-19y</td>\n",
              "      <td>none</td>\n",
              "      <td>working class</td>\n",
              "      <td>0.388366</td>\n",
              "      <td>1.0</td>\n",
              "      <td>before 2015</td>\n",
              "      <td>0.0</td>\n",
              "      <td>0.0</td>\n",
              "      <td>32765</td>\n",
              "      <td>12000.0</td>\n",
              "      <td>sedan</td>\n",
              "      <td>2</td>\n",
              "      <td>0</td>\n",
              "      <td>1</td>\n",
              "      <td>1.0</td>\n",
              "    </tr>\n",
              "    <tr>\n",
              "      <th>5</th>\n",
              "      <td>877557</td>\n",
              "      <td>40-64</td>\n",
              "      <td>female</td>\n",
              "      <td>majority</td>\n",
              "      <td>20-29y</td>\n",
              "      <td>high school</td>\n",
              "      <td>upper class</td>\n",
              "      <td>0.619127</td>\n",
              "      <td>1.0</td>\n",
              "      <td>after 2015</td>\n",
              "      <td>0.0</td>\n",
              "      <td>1.0</td>\n",
              "      <td>10238</td>\n",
              "      <td>13000.0</td>\n",
              "      <td>sedan</td>\n",
              "      <td>3</td>\n",
              "      <td>0</td>\n",
              "      <td>3</td>\n",
              "      <td>0.0</td>\n",
              "    </tr>\n",
              "    <tr>\n",
              "      <th>6</th>\n",
              "      <td>930134</td>\n",
              "      <td>65+</td>\n",
              "      <td>male</td>\n",
              "      <td>majority</td>\n",
              "      <td>30y+</td>\n",
              "      <td>high school</td>\n",
              "      <td>upper class</td>\n",
              "      <td>0.492944</td>\n",
              "      <td>0.0</td>\n",
              "      <td>after 2015</td>\n",
              "      <td>1.0</td>\n",
              "      <td>1.0</td>\n",
              "      <td>10238</td>\n",
              "      <td>13000.0</td>\n",
              "      <td>sedan</td>\n",
              "      <td>7</td>\n",
              "      <td>0</td>\n",
              "      <td>3</td>\n",
              "      <td>0.0</td>\n",
              "    </tr>\n",
              "    <tr>\n",
              "      <th>7</th>\n",
              "      <td>461006</td>\n",
              "      <td>26-39</td>\n",
              "      <td>female</td>\n",
              "      <td>majority</td>\n",
              "      <td>0-9y</td>\n",
              "      <td>university</td>\n",
              "      <td>working class</td>\n",
              "      <td>0.468689</td>\n",
              "      <td>0.0</td>\n",
              "      <td>after 2015</td>\n",
              "      <td>0.0</td>\n",
              "      <td>1.0</td>\n",
              "      <td>10238</td>\n",
              "      <td>14000.0</td>\n",
              "      <td>sedan</td>\n",
              "      <td>0</td>\n",
              "      <td>0</td>\n",
              "      <td>0</td>\n",
              "      <td>1.0</td>\n",
              "    </tr>\n",
              "    <tr>\n",
              "      <th>8</th>\n",
              "      <td>68366</td>\n",
              "      <td>40-64</td>\n",
              "      <td>female</td>\n",
              "      <td>majority</td>\n",
              "      <td>20-29y</td>\n",
              "      <td>university</td>\n",
              "      <td>working class</td>\n",
              "      <td>0.521815</td>\n",
              "      <td>0.0</td>\n",
              "      <td>before 2015</td>\n",
              "      <td>1.0</td>\n",
              "      <td>0.0</td>\n",
              "      <td>10238</td>\n",
              "      <td>13000.0</td>\n",
              "      <td>sedan</td>\n",
              "      <td>0</td>\n",
              "      <td>0</td>\n",
              "      <td>0</td>\n",
              "      <td>0.0</td>\n",
              "    </tr>\n",
              "    <tr>\n",
              "      <th>9</th>\n",
              "      <td>445911</td>\n",
              "      <td>40-64</td>\n",
              "      <td>female</td>\n",
              "      <td>majority</td>\n",
              "      <td>0-9y</td>\n",
              "      <td>high school</td>\n",
              "      <td>upper class</td>\n",
              "      <td>0.561531</td>\n",
              "      <td>1.0</td>\n",
              "      <td>before 2015</td>\n",
              "      <td>0.0</td>\n",
              "      <td>1.0</td>\n",
              "      <td>32765</td>\n",
              "      <td>11000.0</td>\n",
              "      <td>sedan</td>\n",
              "      <td>0</td>\n",
              "      <td>0</td>\n",
              "      <td>0</td>\n",
              "      <td>1.0</td>\n",
              "    </tr>\n",
              "    <tr>\n",
              "      <th>10</th>\n",
              "      <td>275820</td>\n",
              "      <td>65+</td>\n",
              "      <td>male</td>\n",
              "      <td>majority</td>\n",
              "      <td>30y+</td>\n",
              "      <td>high school</td>\n",
              "      <td>upper class</td>\n",
              "      <td>0.620361</td>\n",
              "      <td>1.0</td>\n",
              "      <td>after 2015</td>\n",
              "      <td>1.0</td>\n",
              "      <td>1.0</td>\n",
              "      <td>10238</td>\n",
              "      <td>10000.0</td>\n",
              "      <td>sedan</td>\n",
              "      <td>6</td>\n",
              "      <td>2</td>\n",
              "      <td>7</td>\n",
              "      <td>0.0</td>\n",
              "    </tr>\n",
              "    <tr>\n",
              "      <th>11</th>\n",
              "      <td>521399</td>\n",
              "      <td>65+</td>\n",
              "      <td>female</td>\n",
              "      <td>majority</td>\n",
              "      <td>30y+</td>\n",
              "      <td>high school</td>\n",
              "      <td>upper class</td>\n",
              "      <td>0.729831</td>\n",
              "      <td>1.0</td>\n",
              "      <td>after 2015</td>\n",
              "      <td>1.0</td>\n",
              "      <td>0.0</td>\n",
              "      <td>32765</td>\n",
              "      <td>12000.0</td>\n",
              "      <td>sedan</td>\n",
              "      <td>4</td>\n",
              "      <td>0</td>\n",
              "      <td>0</td>\n",
              "      <td>0.0</td>\n",
              "    </tr>\n",
              "    <tr>\n",
              "      <th>12</th>\n",
              "      <td>429728</td>\n",
              "      <td>40-64</td>\n",
              "      <td>male</td>\n",
              "      <td>majority</td>\n",
              "      <td>20-29y</td>\n",
              "      <td>high school</td>\n",
              "      <td>upper class</td>\n",
              "      <td>0.637045</td>\n",
              "      <td>1.0</td>\n",
              "      <td>before 2015</td>\n",
              "      <td>1.0</td>\n",
              "      <td>1.0</td>\n",
              "      <td>10238</td>\n",
              "      <td>8000.0</td>\n",
              "      <td>sedan</td>\n",
              "      <td>4</td>\n",
              "      <td>1</td>\n",
              "      <td>2</td>\n",
              "      <td>0.0</td>\n",
              "    </tr>\n",
              "    <tr>\n",
              "      <th>13</th>\n",
              "      <td>569640</td>\n",
              "      <td>16-25</td>\n",
              "      <td>female</td>\n",
              "      <td>majority</td>\n",
              "      <td>0-9y</td>\n",
              "      <td>university</td>\n",
              "      <td>upper class</td>\n",
              "      <td>0.591260</td>\n",
              "      <td>1.0</td>\n",
              "      <td>before 2015</td>\n",
              "      <td>0.0</td>\n",
              "      <td>1.0</td>\n",
              "      <td>10238</td>\n",
              "      <td>NaN</td>\n",
              "      <td>sedan</td>\n",
              "      <td>0</td>\n",
              "      <td>0</td>\n",
              "      <td>0</td>\n",
              "      <td>0.0</td>\n",
              "    </tr>\n",
              "    <tr>\n",
              "      <th>14</th>\n",
              "      <td>980181</td>\n",
              "      <td>26-39</td>\n",
              "      <td>male</td>\n",
              "      <td>majority</td>\n",
              "      <td>10-19y</td>\n",
              "      <td>high school</td>\n",
              "      <td>middle class</td>\n",
              "      <td>0.461568</td>\n",
              "      <td>1.0</td>\n",
              "      <td>before 2015</td>\n",
              "      <td>1.0</td>\n",
              "      <td>1.0</td>\n",
              "      <td>10238</td>\n",
              "      <td>12000.0</td>\n",
              "      <td>sedan</td>\n",
              "      <td>0</td>\n",
              "      <td>2</td>\n",
              "      <td>1</td>\n",
              "      <td>0.0</td>\n",
              "    </tr>\n",
              "  </tbody>\n",
              "</table>\n",
              "</div>\n",
              "      <button class=\"colab-df-convert\" onclick=\"convertToInteractive('df-6def3b48-f7b0-4c8b-bfbf-7a1731e293b2')\"\n",
              "              title=\"Convert this dataframe to an interactive table.\"\n",
              "              style=\"display:none;\">\n",
              "        \n",
              "  <svg xmlns=\"http://www.w3.org/2000/svg\" height=\"24px\"viewBox=\"0 0 24 24\"\n",
              "       width=\"24px\">\n",
              "    <path d=\"M0 0h24v24H0V0z\" fill=\"none\"/>\n",
              "    <path d=\"M18.56 5.44l.94 2.06.94-2.06 2.06-.94-2.06-.94-.94-2.06-.94 2.06-2.06.94zm-11 1L8.5 8.5l.94-2.06 2.06-.94-2.06-.94L8.5 2.5l-.94 2.06-2.06.94zm10 10l.94 2.06.94-2.06 2.06-.94-2.06-.94-.94-2.06-.94 2.06-2.06.94z\"/><path d=\"M17.41 7.96l-1.37-1.37c-.4-.4-.92-.59-1.43-.59-.52 0-1.04.2-1.43.59L10.3 9.45l-7.72 7.72c-.78.78-.78 2.05 0 2.83L4 21.41c.39.39.9.59 1.41.59.51 0 1.02-.2 1.41-.59l7.78-7.78 2.81-2.81c.8-.78.8-2.07 0-2.86zM5.41 20L4 18.59l7.72-7.72 1.47 1.35L5.41 20z\"/>\n",
              "  </svg>\n",
              "      </button>\n",
              "      \n",
              "  <style>\n",
              "    .colab-df-container {\n",
              "      display:flex;\n",
              "      flex-wrap:wrap;\n",
              "      gap: 12px;\n",
              "    }\n",
              "\n",
              "    .colab-df-convert {\n",
              "      background-color: #E8F0FE;\n",
              "      border: none;\n",
              "      border-radius: 50%;\n",
              "      cursor: pointer;\n",
              "      display: none;\n",
              "      fill: #1967D2;\n",
              "      height: 32px;\n",
              "      padding: 0 0 0 0;\n",
              "      width: 32px;\n",
              "    }\n",
              "\n",
              "    .colab-df-convert:hover {\n",
              "      background-color: #E2EBFA;\n",
              "      box-shadow: 0px 1px 2px rgba(60, 64, 67, 0.3), 0px 1px 3px 1px rgba(60, 64, 67, 0.15);\n",
              "      fill: #174EA6;\n",
              "    }\n",
              "\n",
              "    [theme=dark] .colab-df-convert {\n",
              "      background-color: #3B4455;\n",
              "      fill: #D2E3FC;\n",
              "    }\n",
              "\n",
              "    [theme=dark] .colab-df-convert:hover {\n",
              "      background-color: #434B5C;\n",
              "      box-shadow: 0px 1px 3px 1px rgba(0, 0, 0, 0.15);\n",
              "      filter: drop-shadow(0px 1px 2px rgba(0, 0, 0, 0.3));\n",
              "      fill: #FFFFFF;\n",
              "    }\n",
              "  </style>\n",
              "\n",
              "      <script>\n",
              "        const buttonEl =\n",
              "          document.querySelector('#df-6def3b48-f7b0-4c8b-bfbf-7a1731e293b2 button.colab-df-convert');\n",
              "        buttonEl.style.display =\n",
              "          google.colab.kernel.accessAllowed ? 'block' : 'none';\n",
              "\n",
              "        async function convertToInteractive(key) {\n",
              "          const element = document.querySelector('#df-6def3b48-f7b0-4c8b-bfbf-7a1731e293b2');\n",
              "          const dataTable =\n",
              "            await google.colab.kernel.invokeFunction('convertToInteractive',\n",
              "                                                     [key], {});\n",
              "          if (!dataTable) return;\n",
              "\n",
              "          const docLinkHtml = 'Like what you see? Visit the ' +\n",
              "            '<a target=\"_blank\" href=https://colab.research.google.com/notebooks/data_table.ipynb>data table notebook</a>'\n",
              "            + ' to learn more about interactive tables.';\n",
              "          element.innerHTML = '';\n",
              "          dataTable['output_type'] = 'display_data';\n",
              "          await google.colab.output.renderOutput(dataTable, element);\n",
              "          const docLink = document.createElement('div');\n",
              "          docLink.innerHTML = docLinkHtml;\n",
              "          element.appendChild(docLink);\n",
              "        }\n",
              "      </script>\n",
              "    </div>\n",
              "  </div>\n",
              "  "
            ]
          },
          "metadata": {},
          "execution_count": 57
        }
      ]
    },
    {
      "cell_type": "markdown",
      "source": [
        "## Análise Exploratória"
      ],
      "metadata": {
        "id": "Lm9v50GnMfBz"
      }
    },
    {
      "cell_type": "code",
      "source": [
        "dataframe.shape"
      ],
      "metadata": {
        "id": "7S5MxCNOMhA0",
        "colab": {
          "base_uri": "https://localhost:8080/"
        },
        "outputId": "116f4bda-0680-4b8f-9177-1010dc228bbb"
      },
      "execution_count": 58,
      "outputs": [
        {
          "output_type": "execute_result",
          "data": {
            "text/plain": [
              "(10000, 19)"
            ]
          },
          "metadata": {},
          "execution_count": 58
        }
      ]
    },
    {
      "cell_type": "code",
      "source": [
        "dataframe.info()"
      ],
      "metadata": {
        "id": "mk8LPdmjX4nO",
        "colab": {
          "base_uri": "https://localhost:8080/"
        },
        "outputId": "de9856be-92ee-4686-9d17-cfc2836daf27"
      },
      "execution_count": 59,
      "outputs": [
        {
          "output_type": "stream",
          "name": "stdout",
          "text": [
            "<class 'pandas.core.frame.DataFrame'>\n",
            "RangeIndex: 10000 entries, 0 to 9999\n",
            "Data columns (total 19 columns):\n",
            " #   Column               Non-Null Count  Dtype  \n",
            "---  ------               --------------  -----  \n",
            " 0   ID                   10000 non-null  int64  \n",
            " 1   AGE                  10000 non-null  object \n",
            " 2   GENDER               10000 non-null  object \n",
            " 3   RACE                 10000 non-null  object \n",
            " 4   DRIVING_EXPERIENCE   10000 non-null  object \n",
            " 5   EDUCATION            10000 non-null  object \n",
            " 6   INCOME               10000 non-null  object \n",
            " 7   CREDIT_SCORE         9018 non-null   float64\n",
            " 8   VEHICLE_OWNERSHIP    10000 non-null  float64\n",
            " 9   VEHICLE_YEAR         10000 non-null  object \n",
            " 10  MARRIED              10000 non-null  float64\n",
            " 11  CHILDREN             10000 non-null  float64\n",
            " 12  POSTAL_CODE          10000 non-null  int64  \n",
            " 13  ANNUAL_MILEAGE       9043 non-null   float64\n",
            " 14  VEHICLE_TYPE         10000 non-null  object \n",
            " 15  SPEEDING_VIOLATIONS  10000 non-null  int64  \n",
            " 16  DUIS                 10000 non-null  int64  \n",
            " 17  PAST_ACCIDENTS       10000 non-null  int64  \n",
            " 18  OUTCOME              10000 non-null  float64\n",
            "dtypes: float64(6), int64(5), object(8)\n",
            "memory usage: 1.4+ MB\n"
          ]
        }
      ]
    },
    {
      "cell_type": "code",
      "source": [
        "dataframe.isnull().sum()"
      ],
      "metadata": {
        "id": "OHLEq459YC5e",
        "colab": {
          "base_uri": "https://localhost:8080/"
        },
        "outputId": "500a2aa1-d2e0-4739-8591-4adf6966fc65"
      },
      "execution_count": 60,
      "outputs": [
        {
          "output_type": "execute_result",
          "data": {
            "text/plain": [
              "ID                       0\n",
              "AGE                      0\n",
              "GENDER                   0\n",
              "RACE                     0\n",
              "DRIVING_EXPERIENCE       0\n",
              "EDUCATION                0\n",
              "INCOME                   0\n",
              "CREDIT_SCORE           982\n",
              "VEHICLE_OWNERSHIP        0\n",
              "VEHICLE_YEAR             0\n",
              "MARRIED                  0\n",
              "CHILDREN                 0\n",
              "POSTAL_CODE              0\n",
              "ANNUAL_MILEAGE         957\n",
              "VEHICLE_TYPE             0\n",
              "SPEEDING_VIOLATIONS      0\n",
              "DUIS                     0\n",
              "PAST_ACCIDENTS           0\n",
              "OUTCOME                  0\n",
              "dtype: int64"
            ]
          },
          "metadata": {},
          "execution_count": 60
        }
      ]
    },
    {
      "cell_type": "markdown",
      "source": [
        "## Limpeza dos dados"
      ],
      "metadata": {
        "id": "3qHq2i3LMhdN"
      }
    },
    {
      "cell_type": "code",
      "source": [
        "dataframe['INCOME'].value_counts()"
      ],
      "metadata": {
        "id": "PvCmnm5dMjjX",
        "colab": {
          "base_uri": "https://localhost:8080/"
        },
        "outputId": "adcca8db-8932-41f7-8278-f1a635db753a"
      },
      "execution_count": 61,
      "outputs": [
        {
          "output_type": "execute_result",
          "data": {
            "text/plain": [
              "upper class      4336\n",
              "middle class     2138\n",
              "poverty          1814\n",
              "working class    1712\n",
              "Name: INCOME, dtype: int64"
            ]
          },
          "metadata": {},
          "execution_count": 61
        }
      ]
    },
    {
      "cell_type": "code",
      "source": [
        "upper_class_median = dataframe[dataframe['INCOME'] == 'upper class']['CREDIT_SCORE'].median()\n",
        "middle_class_median = dataframe[dataframe['INCOME'] == 'middle class']['CREDIT_SCORE'].median()\n",
        "poverty_class_median = dataframe[dataframe['INCOME'] == 'poverty']['CREDIT_SCORE'].median()\n",
        "working_class_median = dataframe[dataframe['INCOME'] == 'working class']['CREDIT_SCORE'].median()"
      ],
      "metadata": {
        "id": "fx0m8jukaJdt"
      },
      "execution_count": 62,
      "outputs": []
    },
    {
      "cell_type": "code",
      "source": [
        "dataframe[(dataframe['INCOME'] == 'working class') & dataframe['CREDIT_SCORE'].isnull()].index"
      ],
      "metadata": {
        "id": "fd8_9qeXaX_n",
        "colab": {
          "base_uri": "https://localhost:8080/"
        },
        "outputId": "2f7f34b0-aa12-470f-d385-37f778f432dc"
      },
      "execution_count": 63,
      "outputs": [
        {
          "output_type": "execute_result",
          "data": {
            "text/plain": [
              "Int64Index([  72,   73,  136,  145,  241,  265,  380,  402,  410,  497,\n",
              "            ...\n",
              "            9676, 9722, 9762, 9785, 9832, 9870, 9881, 9901, 9981, 9985],\n",
              "           dtype='int64', length=190)"
            ]
          },
          "metadata": {},
          "execution_count": 63
        }
      ]
    },
    {
      "cell_type": "code",
      "source": [
        "dataframe.loc[(dataframe[(dataframe['INCOME'] == 'working class') & dataframe['CREDIT_SCORE'].isnull()].index),'CREDIT_SCORE'] = dataframe[dataframe['INCOME'] == 'working class']['CREDIT_SCORE'].fillna(working_class_median)\n",
        "dataframe.loc[(dataframe[(dataframe['INCOME'] == 'poverty') & dataframe['CREDIT_SCORE'].isnull()].index),'CREDIT_SCORE'] = dataframe[dataframe['INCOME'] == 'poverty']['CREDIT_SCORE'].fillna(poverty_class_median)\n",
        "dataframe.loc[(dataframe[(dataframe['INCOME'] == 'middle class') & dataframe['CREDIT_SCORE'].isnull()].index),'CREDIT_SCORE'] = dataframe[dataframe['INCOME'] == 'middle class']['CREDIT_SCORE'].fillna(middle_class_median)\n",
        "dataframe.loc[(dataframe[(dataframe['INCOME'] == 'upper class') & dataframe['CREDIT_SCORE'].isnull()].index),'CREDIT_SCORE'] = dataframe[dataframe['INCOME'] == 'upper class']['CREDIT_SCORE'].fillna(upper_class_median)"
      ],
      "metadata": {
        "id": "7-oFJ3jWad3i"
      },
      "execution_count": 64,
      "outputs": []
    },
    {
      "cell_type": "code",
      "source": [
        "dataframe['ANNUAL_MILEAGE'] = dataframe['ANNUAL_MILEAGE'].fillna(dataframe['ANNUAL_MILEAGE'].median())"
      ],
      "metadata": {
        "id": "HS4dz8y9PWEY"
      },
      "execution_count": 65,
      "outputs": []
    },
    {
      "cell_type": "code",
      "source": [
        "dataframe.info()"
      ],
      "metadata": {
        "id": "H5mqcMPAakCK",
        "colab": {
          "base_uri": "https://localhost:8080/"
        },
        "outputId": "d9312494-c94b-4f6d-a1cd-9eb7c3c37e9f"
      },
      "execution_count": 66,
      "outputs": [
        {
          "output_type": "stream",
          "name": "stdout",
          "text": [
            "<class 'pandas.core.frame.DataFrame'>\n",
            "RangeIndex: 10000 entries, 0 to 9999\n",
            "Data columns (total 19 columns):\n",
            " #   Column               Non-Null Count  Dtype  \n",
            "---  ------               --------------  -----  \n",
            " 0   ID                   10000 non-null  int64  \n",
            " 1   AGE                  10000 non-null  object \n",
            " 2   GENDER               10000 non-null  object \n",
            " 3   RACE                 10000 non-null  object \n",
            " 4   DRIVING_EXPERIENCE   10000 non-null  object \n",
            " 5   EDUCATION            10000 non-null  object \n",
            " 6   INCOME               10000 non-null  object \n",
            " 7   CREDIT_SCORE         10000 non-null  float64\n",
            " 8   VEHICLE_OWNERSHIP    10000 non-null  float64\n",
            " 9   VEHICLE_YEAR         10000 non-null  object \n",
            " 10  MARRIED              10000 non-null  float64\n",
            " 11  CHILDREN             10000 non-null  float64\n",
            " 12  POSTAL_CODE          10000 non-null  int64  \n",
            " 13  ANNUAL_MILEAGE       10000 non-null  float64\n",
            " 14  VEHICLE_TYPE         10000 non-null  object \n",
            " 15  SPEEDING_VIOLATIONS  10000 non-null  int64  \n",
            " 16  DUIS                 10000 non-null  int64  \n",
            " 17  PAST_ACCIDENTS       10000 non-null  int64  \n",
            " 18  OUTCOME              10000 non-null  float64\n",
            "dtypes: float64(6), int64(5), object(8)\n",
            "memory usage: 1.4+ MB\n"
          ]
        }
      ]
    },
    {
      "cell_type": "markdown",
      "source": [
        "## Extração de características"
      ],
      "metadata": {
        "id": "03_v0azfMkFD"
      }
    },
    {
      "cell_type": "code",
      "source": [
        "#eliminar a coluna que nao tem relevancia CEP\n",
        "dataframe.drop(columns=['POSTAL_CODE'], inplace=True)\n",
        "\n",
        "#eliminar a coluna que nao tem relevancia TIPO DE VEICULO\n",
        "dataframe.drop(columns=['VEHICLE_TYPE'], inplace=True)\n",
        "\n",
        "#eliminar a coluna que nao tem relevancia VENCIMENTO\n",
        "dataframe.drop(columns=['DUIS'], inplace=True)\n",
        "\n",
        "#eliminar a coluna que nao tem relevancia \n",
        "dataframe.drop(columns=['RACE'], inplace=True)\n",
        "\n",
        "#eliminar a coluna que nao tem relevancia \n",
        "dataframe.drop(columns=['VEHICLE_OWNERSHIP'], inplace=True)\n",
        "\n",
        "#eliminar a coluna que nao tem relevancia \n",
        "dataframe.drop(columns=['ANNUAL_MILEAGE'], inplace=True)\n",
        "\n",
        "#eliminar a coluna que nao tem relevancia ID\n",
        "dataframe.drop(columns=['ID'], inplace=True)\n",
        "\n"
      ],
      "metadata": {
        "id": "PIzYghUSMmDO"
      },
      "execution_count": 67,
      "outputs": []
    },
    {
      "cell_type": "code",
      "source": [
        "#eliminar a coluna que nao tem relevancia Estado civil\n",
        "dataframe.drop(columns=['MARRIED'], inplace=True)\n",
        "\n",
        "#eliminar a coluna que nao tem relevancia Filhos\n",
        "dataframe.drop(columns=['CHILDREN'], inplace=True)"
      ],
      "metadata": {
        "id": "nv5XX3qt24y5"
      },
      "execution_count": 68,
      "outputs": []
    },
    {
      "cell_type": "code",
      "source": [
        "#eliminar a coluna que nao tem relevancia EDUCAÇÃO\n",
        "dataframe.drop(columns=['EDUCATION'], inplace=True)"
      ],
      "metadata": {
        "id": "uCYWTyVQYKTf"
      },
      "execution_count": 69,
      "outputs": []
    },
    {
      "cell_type": "code",
      "source": [
        "#eliminar a coluna que nao tem relevancia SCORE CREDITO\n",
        "dataframe.drop(columns=['CREDIT_SCORE'], inplace=True)"
      ],
      "metadata": {
        "id": "z5urupAaYX9H"
      },
      "execution_count": 70,
      "outputs": []
    },
    {
      "cell_type": "code",
      "source": [
        "X = dataframe"
      ],
      "metadata": {
        "id": "oENxapWnQGcd"
      },
      "execution_count": 71,
      "outputs": []
    },
    {
      "cell_type": "code",
      "source": [
        "X.head(2)"
      ],
      "metadata": {
        "id": "Mo4-wqDbACf7",
        "colab": {
          "base_uri": "https://localhost:8080/",
          "height": 112
        },
        "outputId": "3086bfbd-de2e-4764-add7-844695926a9b"
      },
      "execution_count": 72,
      "outputs": [
        {
          "output_type": "execute_result",
          "data": {
            "text/plain": [
              "     AGE  GENDER DRIVING_EXPERIENCE       INCOME VEHICLE_YEAR  \\\n",
              "0    65+  female               0-9y  upper class   after 2015   \n",
              "1  16-25    male               0-9y      poverty  before 2015   \n",
              "\n",
              "   SPEEDING_VIOLATIONS  PAST_ACCIDENTS  OUTCOME  \n",
              "0                    0               0      0.0  \n",
              "1                    0               0      1.0  "
            ],
            "text/html": [
              "\n",
              "  <div id=\"df-75697863-d17d-4e36-89ff-d9c7487036a7\">\n",
              "    <div class=\"colab-df-container\">\n",
              "      <div>\n",
              "<style scoped>\n",
              "    .dataframe tbody tr th:only-of-type {\n",
              "        vertical-align: middle;\n",
              "    }\n",
              "\n",
              "    .dataframe tbody tr th {\n",
              "        vertical-align: top;\n",
              "    }\n",
              "\n",
              "    .dataframe thead th {\n",
              "        text-align: right;\n",
              "    }\n",
              "</style>\n",
              "<table border=\"1\" class=\"dataframe\">\n",
              "  <thead>\n",
              "    <tr style=\"text-align: right;\">\n",
              "      <th></th>\n",
              "      <th>AGE</th>\n",
              "      <th>GENDER</th>\n",
              "      <th>DRIVING_EXPERIENCE</th>\n",
              "      <th>INCOME</th>\n",
              "      <th>VEHICLE_YEAR</th>\n",
              "      <th>SPEEDING_VIOLATIONS</th>\n",
              "      <th>PAST_ACCIDENTS</th>\n",
              "      <th>OUTCOME</th>\n",
              "    </tr>\n",
              "  </thead>\n",
              "  <tbody>\n",
              "    <tr>\n",
              "      <th>0</th>\n",
              "      <td>65+</td>\n",
              "      <td>female</td>\n",
              "      <td>0-9y</td>\n",
              "      <td>upper class</td>\n",
              "      <td>after 2015</td>\n",
              "      <td>0</td>\n",
              "      <td>0</td>\n",
              "      <td>0.0</td>\n",
              "    </tr>\n",
              "    <tr>\n",
              "      <th>1</th>\n",
              "      <td>16-25</td>\n",
              "      <td>male</td>\n",
              "      <td>0-9y</td>\n",
              "      <td>poverty</td>\n",
              "      <td>before 2015</td>\n",
              "      <td>0</td>\n",
              "      <td>0</td>\n",
              "      <td>1.0</td>\n",
              "    </tr>\n",
              "  </tbody>\n",
              "</table>\n",
              "</div>\n",
              "      <button class=\"colab-df-convert\" onclick=\"convertToInteractive('df-75697863-d17d-4e36-89ff-d9c7487036a7')\"\n",
              "              title=\"Convert this dataframe to an interactive table.\"\n",
              "              style=\"display:none;\">\n",
              "        \n",
              "  <svg xmlns=\"http://www.w3.org/2000/svg\" height=\"24px\"viewBox=\"0 0 24 24\"\n",
              "       width=\"24px\">\n",
              "    <path d=\"M0 0h24v24H0V0z\" fill=\"none\"/>\n",
              "    <path d=\"M18.56 5.44l.94 2.06.94-2.06 2.06-.94-2.06-.94-.94-2.06-.94 2.06-2.06.94zm-11 1L8.5 8.5l.94-2.06 2.06-.94-2.06-.94L8.5 2.5l-.94 2.06-2.06.94zm10 10l.94 2.06.94-2.06 2.06-.94-2.06-.94-.94-2.06-.94 2.06-2.06.94z\"/><path d=\"M17.41 7.96l-1.37-1.37c-.4-.4-.92-.59-1.43-.59-.52 0-1.04.2-1.43.59L10.3 9.45l-7.72 7.72c-.78.78-.78 2.05 0 2.83L4 21.41c.39.39.9.59 1.41.59.51 0 1.02-.2 1.41-.59l7.78-7.78 2.81-2.81c.8-.78.8-2.07 0-2.86zM5.41 20L4 18.59l7.72-7.72 1.47 1.35L5.41 20z\"/>\n",
              "  </svg>\n",
              "      </button>\n",
              "      \n",
              "  <style>\n",
              "    .colab-df-container {\n",
              "      display:flex;\n",
              "      flex-wrap:wrap;\n",
              "      gap: 12px;\n",
              "    }\n",
              "\n",
              "    .colab-df-convert {\n",
              "      background-color: #E8F0FE;\n",
              "      border: none;\n",
              "      border-radius: 50%;\n",
              "      cursor: pointer;\n",
              "      display: none;\n",
              "      fill: #1967D2;\n",
              "      height: 32px;\n",
              "      padding: 0 0 0 0;\n",
              "      width: 32px;\n",
              "    }\n",
              "\n",
              "    .colab-df-convert:hover {\n",
              "      background-color: #E2EBFA;\n",
              "      box-shadow: 0px 1px 2px rgba(60, 64, 67, 0.3), 0px 1px 3px 1px rgba(60, 64, 67, 0.15);\n",
              "      fill: #174EA6;\n",
              "    }\n",
              "\n",
              "    [theme=dark] .colab-df-convert {\n",
              "      background-color: #3B4455;\n",
              "      fill: #D2E3FC;\n",
              "    }\n",
              "\n",
              "    [theme=dark] .colab-df-convert:hover {\n",
              "      background-color: #434B5C;\n",
              "      box-shadow: 0px 1px 3px 1px rgba(0, 0, 0, 0.15);\n",
              "      filter: drop-shadow(0px 1px 2px rgba(0, 0, 0, 0.3));\n",
              "      fill: #FFFFFF;\n",
              "    }\n",
              "  </style>\n",
              "\n",
              "      <script>\n",
              "        const buttonEl =\n",
              "          document.querySelector('#df-75697863-d17d-4e36-89ff-d9c7487036a7 button.colab-df-convert');\n",
              "        buttonEl.style.display =\n",
              "          google.colab.kernel.accessAllowed ? 'block' : 'none';\n",
              "\n",
              "        async function convertToInteractive(key) {\n",
              "          const element = document.querySelector('#df-75697863-d17d-4e36-89ff-d9c7487036a7');\n",
              "          const dataTable =\n",
              "            await google.colab.kernel.invokeFunction('convertToInteractive',\n",
              "                                                     [key], {});\n",
              "          if (!dataTable) return;\n",
              "\n",
              "          const docLinkHtml = 'Like what you see? Visit the ' +\n",
              "            '<a target=\"_blank\" href=https://colab.research.google.com/notebooks/data_table.ipynb>data table notebook</a>'\n",
              "            + ' to learn more about interactive tables.';\n",
              "          element.innerHTML = '';\n",
              "          dataTable['output_type'] = 'display_data';\n",
              "          await google.colab.output.renderOutput(dataTable, element);\n",
              "          const docLink = document.createElement('div');\n",
              "          docLink.innerHTML = docLinkHtml;\n",
              "          element.appendChild(docLink);\n",
              "        }\n",
              "      </script>\n",
              "    </div>\n",
              "  </div>\n",
              "  "
            ]
          },
          "metadata": {},
          "execution_count": 72
        }
      ]
    },
    {
      "cell_type": "code",
      "source": [
        "#transforma GENDER em numero\n",
        "generos = []\n",
        "for x in X['GENDER']:\n",
        "  if x == 'male':\n",
        "    generos.append(1)\n",
        "  else:\n",
        "    generos.append(0)"
      ],
      "metadata": {
        "id": "GCdjJWQo9S47"
      },
      "execution_count": 73,
      "outputs": []
    },
    {
      "cell_type": "code",
      "source": [
        "X['GENDER'] = [1 if x == 'male' else 0 for x in X['GENDER']]"
      ],
      "metadata": {
        "id": "7-EqM0HC9qSc"
      },
      "execution_count": 74,
      "outputs": []
    },
    {
      "cell_type": "code",
      "source": [
        "X.head(2)"
      ],
      "metadata": {
        "id": "JaVRK6rOBEPS",
        "colab": {
          "base_uri": "https://localhost:8080/",
          "height": 112
        },
        "outputId": "be40420a-de2c-462d-9d9b-925195e43a97"
      },
      "execution_count": 75,
      "outputs": [
        {
          "output_type": "execute_result",
          "data": {
            "text/plain": [
              "     AGE  GENDER DRIVING_EXPERIENCE       INCOME VEHICLE_YEAR  \\\n",
              "0    65+       0               0-9y  upper class   after 2015   \n",
              "1  16-25       1               0-9y      poverty  before 2015   \n",
              "\n",
              "   SPEEDING_VIOLATIONS  PAST_ACCIDENTS  OUTCOME  \n",
              "0                    0               0      0.0  \n",
              "1                    0               0      1.0  "
            ],
            "text/html": [
              "\n",
              "  <div id=\"df-8c374dca-0de5-4511-adeb-f11572262c75\">\n",
              "    <div class=\"colab-df-container\">\n",
              "      <div>\n",
              "<style scoped>\n",
              "    .dataframe tbody tr th:only-of-type {\n",
              "        vertical-align: middle;\n",
              "    }\n",
              "\n",
              "    .dataframe tbody tr th {\n",
              "        vertical-align: top;\n",
              "    }\n",
              "\n",
              "    .dataframe thead th {\n",
              "        text-align: right;\n",
              "    }\n",
              "</style>\n",
              "<table border=\"1\" class=\"dataframe\">\n",
              "  <thead>\n",
              "    <tr style=\"text-align: right;\">\n",
              "      <th></th>\n",
              "      <th>AGE</th>\n",
              "      <th>GENDER</th>\n",
              "      <th>DRIVING_EXPERIENCE</th>\n",
              "      <th>INCOME</th>\n",
              "      <th>VEHICLE_YEAR</th>\n",
              "      <th>SPEEDING_VIOLATIONS</th>\n",
              "      <th>PAST_ACCIDENTS</th>\n",
              "      <th>OUTCOME</th>\n",
              "    </tr>\n",
              "  </thead>\n",
              "  <tbody>\n",
              "    <tr>\n",
              "      <th>0</th>\n",
              "      <td>65+</td>\n",
              "      <td>0</td>\n",
              "      <td>0-9y</td>\n",
              "      <td>upper class</td>\n",
              "      <td>after 2015</td>\n",
              "      <td>0</td>\n",
              "      <td>0</td>\n",
              "      <td>0.0</td>\n",
              "    </tr>\n",
              "    <tr>\n",
              "      <th>1</th>\n",
              "      <td>16-25</td>\n",
              "      <td>1</td>\n",
              "      <td>0-9y</td>\n",
              "      <td>poverty</td>\n",
              "      <td>before 2015</td>\n",
              "      <td>0</td>\n",
              "      <td>0</td>\n",
              "      <td>1.0</td>\n",
              "    </tr>\n",
              "  </tbody>\n",
              "</table>\n",
              "</div>\n",
              "      <button class=\"colab-df-convert\" onclick=\"convertToInteractive('df-8c374dca-0de5-4511-adeb-f11572262c75')\"\n",
              "              title=\"Convert this dataframe to an interactive table.\"\n",
              "              style=\"display:none;\">\n",
              "        \n",
              "  <svg xmlns=\"http://www.w3.org/2000/svg\" height=\"24px\"viewBox=\"0 0 24 24\"\n",
              "       width=\"24px\">\n",
              "    <path d=\"M0 0h24v24H0V0z\" fill=\"none\"/>\n",
              "    <path d=\"M18.56 5.44l.94 2.06.94-2.06 2.06-.94-2.06-.94-.94-2.06-.94 2.06-2.06.94zm-11 1L8.5 8.5l.94-2.06 2.06-.94-2.06-.94L8.5 2.5l-.94 2.06-2.06.94zm10 10l.94 2.06.94-2.06 2.06-.94-2.06-.94-.94-2.06-.94 2.06-2.06.94z\"/><path d=\"M17.41 7.96l-1.37-1.37c-.4-.4-.92-.59-1.43-.59-.52 0-1.04.2-1.43.59L10.3 9.45l-7.72 7.72c-.78.78-.78 2.05 0 2.83L4 21.41c.39.39.9.59 1.41.59.51 0 1.02-.2 1.41-.59l7.78-7.78 2.81-2.81c.8-.78.8-2.07 0-2.86zM5.41 20L4 18.59l7.72-7.72 1.47 1.35L5.41 20z\"/>\n",
              "  </svg>\n",
              "      </button>\n",
              "      \n",
              "  <style>\n",
              "    .colab-df-container {\n",
              "      display:flex;\n",
              "      flex-wrap:wrap;\n",
              "      gap: 12px;\n",
              "    }\n",
              "\n",
              "    .colab-df-convert {\n",
              "      background-color: #E8F0FE;\n",
              "      border: none;\n",
              "      border-radius: 50%;\n",
              "      cursor: pointer;\n",
              "      display: none;\n",
              "      fill: #1967D2;\n",
              "      height: 32px;\n",
              "      padding: 0 0 0 0;\n",
              "      width: 32px;\n",
              "    }\n",
              "\n",
              "    .colab-df-convert:hover {\n",
              "      background-color: #E2EBFA;\n",
              "      box-shadow: 0px 1px 2px rgba(60, 64, 67, 0.3), 0px 1px 3px 1px rgba(60, 64, 67, 0.15);\n",
              "      fill: #174EA6;\n",
              "    }\n",
              "\n",
              "    [theme=dark] .colab-df-convert {\n",
              "      background-color: #3B4455;\n",
              "      fill: #D2E3FC;\n",
              "    }\n",
              "\n",
              "    [theme=dark] .colab-df-convert:hover {\n",
              "      background-color: #434B5C;\n",
              "      box-shadow: 0px 1px 3px 1px rgba(0, 0, 0, 0.15);\n",
              "      filter: drop-shadow(0px 1px 2px rgba(0, 0, 0, 0.3));\n",
              "      fill: #FFFFFF;\n",
              "    }\n",
              "  </style>\n",
              "\n",
              "      <script>\n",
              "        const buttonEl =\n",
              "          document.querySelector('#df-8c374dca-0de5-4511-adeb-f11572262c75 button.colab-df-convert');\n",
              "        buttonEl.style.display =\n",
              "          google.colab.kernel.accessAllowed ? 'block' : 'none';\n",
              "\n",
              "        async function convertToInteractive(key) {\n",
              "          const element = document.querySelector('#df-8c374dca-0de5-4511-adeb-f11572262c75');\n",
              "          const dataTable =\n",
              "            await google.colab.kernel.invokeFunction('convertToInteractive',\n",
              "                                                     [key], {});\n",
              "          if (!dataTable) return;\n",
              "\n",
              "          const docLinkHtml = 'Like what you see? Visit the ' +\n",
              "            '<a target=\"_blank\" href=https://colab.research.google.com/notebooks/data_table.ipynb>data table notebook</a>'\n",
              "            + ' to learn more about interactive tables.';\n",
              "          element.innerHTML = '';\n",
              "          dataTable['output_type'] = 'display_data';\n",
              "          await google.colab.output.renderOutput(dataTable, element);\n",
              "          const docLink = document.createElement('div');\n",
              "          docLink.innerHTML = docLinkHtml;\n",
              "          element.appendChild(docLink);\n",
              "        }\n",
              "      </script>\n",
              "    </div>\n",
              "  </div>\n",
              "  "
            ]
          },
          "metadata": {},
          "execution_count": 75
        }
      ]
    },
    {
      "cell_type": "code",
      "source": [
        "#transforma idade em numero\n",
        "idade = []\n",
        "for x in X['AGE']:\n",
        "  if x == '16-25':\n",
        "    idade.append(1)\n",
        "  elif x == '40-64':\n",
        "    idade.append(2)\n",
        "  else :\n",
        "    idade.append(0)"
      ],
      "metadata": {
        "id": "8tHPACp9H9S8"
      },
      "execution_count": 76,
      "outputs": []
    },
    {
      "cell_type": "code",
      "source": [
        "#transforma experiencia em numero\n",
        "experiencia = []\n",
        "for x in X['DRIVING_EXPERIENCE']:\n",
        "  if x == '0-9y':\n",
        "    experiencia.append(1)\n",
        "  elif x == '10-9y':\n",
        "    experiencia.append(2)\n",
        "  else :\n",
        "    experiencia.append(0)"
      ],
      "metadata": {
        "id": "1Rslk0mu9N4i"
      },
      "execution_count": 77,
      "outputs": []
    },
    {
      "cell_type": "code",
      "source": [
        "print(idade)"
      ],
      "metadata": {
        "colab": {
          "base_uri": "https://localhost:8080/"
        },
        "id": "OPnzEUJe8yMQ",
        "outputId": "99134a41-55dd-4263-b145-35ffb20f6255"
      },
      "execution_count": 78,
      "outputs": [
        {
          "output_type": "stream",
          "name": "stdout",
          "text": [
            "[0, 1, 1, 1, 0, 2, 0, 0, 2, 2, 0, 0, 2, 1, 0, 0, 0, 1, 0, 1, 1, 1, 2, 1, 0, 0, 2, 0, 0, 0, 2, 0, 1, 1, 0, 1, 0, 2, 0, 2, 0, 2, 2, 1, 0, 2, 0, 2, 0, 0, 2, 0, 0, 1, 1, 0, 1, 2, 2, 0, 2, 0, 2, 1, 2, 2, 2, 2, 0, 0, 0, 0, 2, 0, 1, 0, 2, 2, 2, 1, 2, 2, 1, 0, 0, 0, 1, 2, 0, 1, 0, 2, 0, 2, 2, 2, 0, 0, 2, 0, 2, 1, 1, 0, 1, 1, 0, 2, 0, 1, 0, 0, 1, 1, 1, 1, 1, 0, 2, 1, 1, 0, 0, 0, 0, 0, 1, 1, 1, 1, 0, 2, 0, 1, 1, 2, 0, 2, 0, 0, 2, 0, 2, 0, 0, 0, 0, 1, 0, 2, 0, 0, 0, 0, 0, 0, 1, 0, 2, 2, 0, 0, 1, 0, 0, 0, 0, 2, 2, 0, 2, 1, 2, 0, 0, 0, 2, 0, 1, 0, 0, 2, 0, 0, 2, 1, 0, 1, 1, 2, 2, 2, 0, 0, 0, 0, 2, 1, 2, 2, 0, 1, 1, 0, 0, 0, 0, 0, 0, 0, 1, 0, 0, 1, 0, 1, 1, 2, 0, 0, 2, 1, 2, 0, 0, 0, 2, 2, 1, 2, 1, 1, 2, 0, 2, 2, 1, 0, 2, 0, 2, 0, 0, 2, 1, 2, 1, 1, 0, 1, 0, 1, 0, 2, 2, 0, 0, 1, 1, 0, 1, 1, 2, 0, 0, 1, 2, 2, 2, 1, 0, 1, 0, 0, 1, 1, 2, 2, 0, 1, 2, 0, 1, 0, 0, 0, 1, 0, 0, 0, 2, 2, 0, 2, 1, 1, 0, 0, 1, 0, 0, 0, 0, 1, 2, 1, 1, 1, 0, 0, 2, 2, 2, 2, 0, 2, 2, 0, 0, 1, 0, 1, 0, 0, 0, 0, 0, 1, 0, 2, 0, 2, 0, 2, 2, 2, 0, 0, 2, 2, 1, 1, 0, 0, 2, 0, 0, 0, 0, 2, 0, 1, 2, 2, 2, 2, 0, 1, 0, 0, 0, 0, 0, 0, 0, 0, 2, 0, 1, 0, 0, 1, 0, 2, 0, 0, 1, 2, 0, 1, 1, 2, 2, 2, 0, 0, 2, 2, 0, 0, 2, 0, 2, 0, 0, 0, 0, 2, 0, 0, 0, 0, 0, 0, 2, 1, 2, 2, 0, 2, 0, 0, 0, 0, 0, 0, 0, 0, 0, 1, 2, 2, 1, 0, 1, 0, 0, 0, 0, 2, 2, 0, 2, 0, 2, 2, 2, 2, 0, 0, 2, 2, 2, 2, 2, 2, 0, 0, 0, 0, 2, 2, 1, 0, 1, 0, 0, 0, 2, 0, 0, 0, 0, 0, 0, 1, 2, 0, 2, 2, 0, 2, 0, 1, 0, 0, 0, 1, 0, 2, 0, 0, 0, 0, 0, 1, 0, 2, 2, 1, 0, 1, 1, 0, 0, 2, 1, 1, 0, 0, 1, 0, 0, 1, 2, 0, 0, 0, 1, 0, 1, 0, 0, 2, 0, 2, 2, 1, 2, 1, 2, 0, 0, 0, 2, 2, 0, 0, 1, 2, 0, 0, 0, 0, 2, 1, 0, 2, 1, 0, 2, 0, 2, 1, 2, 0, 0, 1, 2, 1, 2, 2, 2, 0, 2, 2, 0, 1, 2, 1, 0, 0, 0, 0, 0, 0, 2, 2, 0, 2, 2, 1, 1, 2, 2, 2, 0, 0, 2, 0, 1, 1, 0, 2, 0, 1, 1, 2, 2, 0, 0, 0, 1, 0, 1, 1, 1, 2, 1, 2, 2, 1, 0, 2, 1, 0, 2, 0, 0, 1, 0, 0, 0, 1, 0, 1, 0, 1, 1, 0, 1, 2, 2, 0, 0, 2, 2, 2, 2, 2, 2, 0, 2, 0, 0, 0, 2, 0, 1, 1, 0, 0, 2, 2, 0, 0, 0, 0, 2, 0, 0, 1, 2, 2, 1, 0, 0, 1, 0, 0, 0, 0, 1, 1, 0, 0, 2, 2, 0, 2, 0, 0, 2, 1, 0, 1, 0, 1, 0, 2, 0, 0, 0, 0, 0, 2, 0, 1, 1, 0, 0, 0, 1, 2, 0, 2, 2, 2, 0, 0, 0, 2, 0, 2, 0, 1, 1, 0, 0, 0, 0, 2, 0, 2, 0, 0, 2, 0, 2, 2, 0, 2, 0, 0, 0, 2, 0, 0, 0, 0, 1, 0, 1, 1, 0, 2, 0, 1, 0, 0, 1, 0, 0, 1, 0, 0, 0, 2, 0, 2, 2, 0, 2, 2, 0, 0, 2, 2, 0, 0, 0, 2, 1, 2, 1, 0, 0, 0, 0, 0, 2, 1, 0, 0, 0, 2, 0, 1, 0, 1, 0, 0, 2, 0, 0, 0, 0, 1, 2, 0, 0, 2, 0, 0, 1, 2, 1, 0, 2, 2, 2, 2, 0, 2, 1, 0, 1, 1, 0, 1, 1, 2, 0, 0, 0, 0, 0, 0, 0, 1, 0, 0, 0, 1, 0, 0, 0, 0, 2, 2, 0, 0, 1, 0, 0, 0, 0, 2, 0, 2, 0, 1, 1, 0, 0, 0, 1, 2, 0, 0, 2, 0, 0, 0, 0, 1, 2, 2, 2, 2, 2, 0, 1, 2, 2, 1, 0, 0, 0, 0, 2, 2, 0, 0, 2, 2, 0, 1, 1, 0, 0, 0, 0, 0, 0, 2, 2, 0, 0, 0, 0, 0, 0, 1, 2, 0, 0, 0, 0, 2, 0, 1, 2, 0, 0, 2, 1, 1, 0, 0, 2, 1, 1, 0, 0, 2, 2, 2, 1, 2, 0, 0, 2, 1, 0, 2, 0, 0, 0, 1, 0, 0, 1, 0, 2, 2, 2, 1, 0, 1, 0, 0, 2, 0, 1, 2, 0, 2, 2, 2, 1, 2, 0, 0, 1, 1, 0, 2, 0, 0, 0, 1, 2, 1, 1, 2, 1, 0, 2, 0, 1, 0, 0, 0, 0, 2, 2, 1, 0, 0, 1, 0, 0, 2, 0, 0, 0, 0, 2, 0, 0, 2, 1, 1, 0, 2, 1, 2, 2, 2, 2, 0, 2, 0, 1, 0, 2, 0, 0, 2, 2, 0, 0, 0, 2, 0, 0, 2, 1, 0, 0, 0, 2, 1, 0, 0, 2, 2, 0, 0, 0, 1, 1, 0, 0, 2, 0, 0, 1, 0, 1, 0, 2, 0, 2, 2, 1, 1, 1, 0, 2, 0, 2, 2, 2, 0, 1, 2, 2, 0, 0, 0, 1, 1, 0, 0, 0, 0, 2, 0, 0, 0, 1, 0, 2, 2, 0, 1, 2, 0, 0, 0, 0, 2, 1, 0, 1, 1, 1, 0, 0, 2, 2, 2, 0, 0, 0, 0, 2, 0, 0, 1, 0, 2, 1, 2, 2, 1, 0, 0, 1, 2, 0, 0, 1, 2, 1, 0, 0, 2, 0, 2, 2, 2, 2, 0, 0, 2, 2, 1, 0, 1, 0, 0, 1, 2, 0, 0, 2, 0, 0, 1, 0, 2, 2, 0, 0, 1, 0, 0, 1, 0, 2, 2, 0, 2, 0, 2, 2, 2, 2, 0, 0, 0, 0, 1, 0, 0, 2, 2, 0, 0, 2, 0, 1, 2, 0, 0, 0, 1, 0, 1, 2, 0, 2, 1, 2, 2, 0, 1, 0, 0, 0, 0, 0, 0, 0, 2, 0, 0, 0, 0, 0, 0, 1, 0, 2, 2, 2, 0, 2, 0, 2, 1, 1, 0, 1, 0, 1, 2, 1, 0, 1, 2, 0, 2, 0, 0, 0, 0, 0, 0, 2, 0, 0, 0, 1, 2, 0, 0, 0, 0, 0, 0, 2, 0, 0, 0, 0, 0, 1, 0, 1, 0, 0, 0, 0, 0, 2, 1, 0, 2, 0, 2, 0, 0, 2, 0, 0, 0, 1, 2, 0, 0, 1, 2, 0, 2, 0, 0, 2, 2, 0, 0, 2, 0, 1, 2, 0, 0, 2, 1, 2, 0, 0, 0, 1, 0, 0, 2, 0, 0, 0, 0, 1, 1, 2, 2, 0, 2, 0, 2, 2, 0, 0, 0, 2, 1, 2, 0, 0, 0, 1, 0, 0, 0, 2, 2, 0, 2, 0, 1, 1, 2, 0, 1, 2, 0, 2, 2, 2, 0, 1, 0, 2, 0, 1, 1, 0, 0, 2, 0, 0, 0, 0, 0, 2, 0, 2, 0, 0, 0, 1, 1, 0, 2, 1, 2, 0, 1, 0, 2, 2, 2, 0, 0, 2, 0, 0, 1, 2, 0, 0, 0, 0, 0, 0, 0, 0, 2, 2, 0, 2, 1, 2, 0, 2, 1, 0, 1, 0, 0, 2, 2, 2, 0, 0, 0, 0, 1, 2, 0, 1, 1, 0, 0, 0, 0, 1, 1, 0, 1, 0, 0, 0, 1, 0, 2, 2, 2, 2, 0, 0, 0, 0, 0, 0, 0, 2, 0, 2, 0, 1, 0, 0, 0, 0, 1, 2, 1, 0, 0, 2, 2, 2, 2, 1, 0, 1, 0, 2, 0, 2, 0, 0, 0, 0, 2, 2, 2, 1, 0, 0, 0, 2, 0, 0, 2, 0, 1, 1, 2, 0, 2, 2, 0, 1, 1, 2, 0, 0, 0, 0, 2, 2, 0, 2, 2, 1, 0, 0, 0, 2, 2, 0, 2, 0, 0, 2, 2, 0, 0, 0, 0, 2, 0, 0, 0, 1, 2, 2, 1, 0, 2, 1, 1, 0, 0, 0, 0, 2, 1, 2, 0, 0, 0, 0, 2, 2, 0, 2, 2, 2, 2, 2, 2, 0, 1, 2, 2, 0, 0, 1, 0, 0, 2, 1, 1, 2, 1, 0, 0, 2, 0, 0, 0, 0, 2, 2, 0, 0, 0, 0, 0, 0, 1, 2, 0, 1, 0, 0, 0, 0, 2, 2, 1, 2, 2, 2, 0, 2, 0, 1, 0, 0, 2, 0, 2, 0, 2, 1, 2, 1, 0, 0, 2, 1, 0, 2, 2, 0, 2, 1, 1, 1, 0, 0, 0, 0, 0, 2, 0, 0, 2, 0, 2, 2, 2, 0, 0, 0, 0, 1, 0, 2, 0, 0, 0, 0, 0, 0, 0, 0, 0, 2, 1, 0, 0, 2, 0, 0, 1, 2, 0, 1, 0, 2, 2, 1, 1, 0, 0, 2, 0, 1, 0, 1, 0, 1, 0, 0, 0, 1, 0, 0, 1, 2, 0, 2, 0, 2, 1, 2, 1, 2, 0, 2, 2, 0, 0, 0, 0, 1, 1, 1, 1, 1, 0, 0, 0, 0, 2, 0, 0, 2, 2, 2, 0, 1, 1, 0, 0, 2, 2, 1, 2, 0, 0, 1, 0, 1, 0, 2, 1, 1, 0, 0, 0, 0, 0, 0, 1, 2, 1, 1, 0, 1, 2, 2, 2, 0, 2, 0, 0, 0, 0, 0, 0, 1, 1, 0, 1, 0, 0, 2, 2, 0, 2, 2, 2, 0, 2, 1, 2, 1, 1, 0, 2, 0, 2, 2, 0, 0, 1, 0, 1, 0, 1, 1, 0, 2, 2, 1, 2, 1, 1, 0, 0, 1, 1, 0, 0, 2, 0, 2, 1, 0, 2, 0, 2, 2, 2, 2, 0, 0, 0, 0, 2, 2, 0, 0, 0, 0, 2, 0, 2, 0, 0, 0, 1, 2, 0, 1, 2, 2, 1, 2, 1, 1, 0, 0, 2, 1, 0, 0, 2, 0, 2, 0, 2, 2, 2, 2, 1, 2, 0, 2, 2, 0, 0, 2, 0, 0, 0, 1, 2, 1, 0, 2, 0, 1, 0, 0, 0, 1, 2, 0, 0, 1, 2, 2, 0, 1, 2, 1, 2, 0, 0, 1, 1, 1, 2, 1, 2, 0, 0, 2, 2, 2, 1, 1, 2, 0, 1, 0, 2, 2, 0, 1, 1, 2, 1, 1, 2, 0, 1, 1, 0, 0, 1, 2, 0, 1, 2, 1, 0, 0, 0, 2, 1, 2, 0, 1, 0, 0, 2, 0, 0, 1, 2, 2, 0, 1, 0, 2, 1, 0, 0, 2, 1, 2, 1, 2, 0, 2, 0, 1, 2, 0, 2, 2, 0, 1, 1, 0, 2, 0, 0, 1, 0, 2, 0, 2, 0, 2, 0, 0, 1, 0, 0, 2, 0, 0, 2, 1, 2, 0, 0, 0, 0, 0, 2, 0, 0, 1, 2, 0, 1, 2, 0, 0, 2, 0, 2, 2, 2, 0, 0, 1, 2, 2, 1, 0, 0, 0, 0, 1, 0, 0, 1, 0, 2, 1, 2, 2, 2, 0, 0, 0, 0, 2, 0, 0, 1, 0, 0, 2, 2, 2, 2, 0, 0, 2, 2, 2, 2, 2, 0, 1, 0, 0, 0, 0, 1, 0, 1, 0, 2, 1, 0, 1, 1, 1, 2, 1, 0, 0, 0, 0, 0, 0, 2, 1, 0, 0, 0, 2, 0, 0, 0, 1, 1, 0, 1, 0, 1, 0, 1, 2, 0, 2, 2, 1, 0, 0, 0, 2, 0, 0, 1, 0, 1, 1, 0, 0, 2, 1, 2, 0, 1, 2, 1, 1, 0, 0, 1, 0, 2, 0, 0, 0, 2, 2, 0, 0, 2, 0, 1, 2, 2, 0, 2, 0, 0, 0, 0, 1, 0, 1, 2, 0, 1, 0, 2, 0, 0, 0, 1, 1, 2, 0, 0, 1, 2, 0, 2, 2, 1, 2, 0, 2, 1, 1, 0, 2, 0, 0, 2, 2, 1, 0, 0, 0, 1, 2, 0, 0, 2, 1, 0, 0, 2, 0, 0, 2, 0, 2, 2, 0, 0, 2, 0, 2, 1, 2, 1, 2, 2, 1, 0, 2, 0, 0, 2, 2, 0, 2, 1, 2, 1, 0, 0, 0, 2, 0, 0, 0, 0, 0, 2, 2, 0, 0, 0, 0, 1, 2, 0, 0, 0, 1, 2, 2, 2, 0, 0, 0, 0, 2, 2, 1, 0, 2, 0, 2, 1, 1, 0, 1, 0, 2, 2, 2, 0, 0, 1, 0, 2, 0, 2, 2, 0, 0, 1, 0, 1, 0, 0, 0, 2, 0, 2, 0, 2, 0, 0, 1, 0, 0, 1, 2, 2, 0, 2, 0, 0, 0, 0, 2, 0, 1, 2, 0, 1, 2, 1, 0, 1, 2, 1, 2, 0, 0, 0, 0, 2, 0, 2, 0, 0, 1, 2, 1, 1, 0, 0, 0, 1, 1, 0, 0, 0, 0, 0, 2, 0, 0, 0, 2, 0, 0, 1, 0, 1, 0, 0, 1, 1, 0, 0, 1, 0, 0, 1, 1, 2, 0, 0, 0, 0, 2, 0, 2, 1, 0, 0, 1, 1, 2, 1, 2, 0, 0, 2, 0, 0, 0, 0, 0, 2, 0, 1, 1, 2, 2, 2, 2, 0, 1, 0, 1, 2, 2, 0, 2, 2, 2, 0, 2, 0, 2, 1, 1, 2, 0, 0, 0, 0, 0, 0, 0, 0, 2, 0, 2, 2, 2, 0, 0, 0, 2, 0, 0, 2, 2, 0, 2, 0, 0, 0, 0, 0, 0, 2, 1, 1, 2, 2, 1, 2, 1, 1, 0, 1, 2, 2, 1, 0, 1, 0, 0, 1, 1, 0, 2, 0, 1, 2, 0, 0, 2, 0, 0, 2, 0, 2, 0, 2, 2, 2, 0, 0, 0, 2, 1, 0, 0, 0, 1, 0, 1, 0, 1, 0, 0, 2, 0, 0, 2, 0, 0, 1, 1, 0, 1, 0, 0, 1, 0, 0, 0, 0, 2, 0, 2, 0, 0, 1, 2, 2, 2, 2, 1, 0, 2, 2, 0, 1, 1, 1, 0, 2, 2, 2, 2, 0, 0, 2, 0, 0, 0, 1, 0, 2, 1, 0, 0, 0, 0, 0, 2, 0, 0, 0, 0, 2, 1, 1, 2, 2, 2, 0, 2, 0, 2, 1, 0, 0, 0, 1, 0, 0, 0, 0, 2, 2, 1, 0, 2, 2, 1, 2, 0, 0, 0, 1, 0, 0, 0, 0, 0, 1, 1, 0, 0, 2, 0, 0, 0, 0, 2, 2, 0, 0, 0, 2, 0, 0, 2, 2, 0, 0, 2, 0, 2, 2, 1, 0, 0, 1, 2, 2, 1, 2, 2, 0, 0, 0, 0, 1, 1, 0, 2, 2, 2, 2, 1, 0, 0, 0, 1, 1, 0, 0, 0, 0, 2, 0, 0, 2, 2, 2, 1, 0, 0, 0, 0, 0, 1, 1, 0, 2, 2, 0, 0, 1, 2, 2, 0, 1, 1, 2, 2, 2, 2, 0, 0, 2, 0, 0, 2, 0, 0, 0, 2, 0, 0, 2, 1, 1, 0, 0, 0, 0, 2, 0, 0, 0, 1, 1, 0, 2, 0, 2, 1, 1, 0, 2, 1, 0, 2, 2, 0, 2, 0, 1, 1, 0, 1, 1, 0, 0, 0, 0, 0, 2, 0, 2, 0, 0, 0, 0, 2, 2, 2, 0, 0, 2, 0, 0, 0, 1, 0, 1, 0, 2, 0, 2, 0, 0, 2, 0, 2, 0, 0, 0, 0, 0, 0, 1, 2, 2, 2, 0, 0, 0, 0, 2, 0, 0, 0, 0, 0, 2, 2, 0, 0, 0, 0, 1, 0, 2, 1, 1, 2, 0, 1, 2, 0, 2, 0, 1, 0, 0, 0, 1, 1, 1, 0, 0, 1, 0, 0, 1, 2, 1, 0, 0, 1, 0, 2, 0, 1, 0, 0, 0, 0, 0, 2, 1, 0, 2, 0, 0, 0, 2, 2, 1, 1, 1, 0, 2, 2, 1, 0, 0, 0, 2, 0, 0, 0, 0, 0, 0, 2, 1, 0, 1, 1, 2, 1, 0, 0, 0, 0, 2, 1, 0, 0, 0, 0, 1, 1, 2, 0, 0, 2, 0, 1, 0, 2, 2, 0, 0, 2, 0, 1, 1, 0, 0, 1, 0, 2, 1, 0, 0, 1, 0, 2, 0, 2, 2, 2, 0, 2, 0, 0, 2, 0, 0, 0, 2, 0, 1, 2, 1, 0, 1, 0, 2, 0, 2, 1, 0, 1, 1, 2, 1, 0, 0, 0, 1, 0, 0, 0, 2, 2, 0, 0, 0, 0, 2, 2, 0, 2, 1, 0, 0, 0, 1, 0, 0, 2, 2, 0, 0, 0, 0, 0, 0, 0, 1, 1, 2, 0, 0, 2, 1, 1, 0, 2, 1, 0, 2, 2, 0, 1, 0, 2, 0, 2, 2, 0, 0, 1, 1, 0, 0, 0, 0, 0, 2, 2, 0, 0, 0, 0, 0, 0, 0, 1, 2, 1, 0, 0, 0, 0, 2, 2, 2, 2, 2, 0, 0, 0, 0, 1, 0, 0, 0, 0, 0, 0, 0, 2, 1, 2, 1, 2, 2, 0, 0, 2, 0, 1, 2, 2, 0, 2, 2, 0, 1, 0, 1, 2, 2, 0, 1, 1, 0, 0, 2, 1, 1, 0, 2, 0, 1, 2, 0, 1, 2, 0, 1, 2, 2, 0, 0, 2, 1, 1, 2, 2, 2, 0, 0, 0, 1, 2, 0, 1, 0, 0, 2, 0, 1, 0, 2, 2, 2, 1, 0, 2, 1, 1, 2, 2, 2, 0, 2, 1, 0, 1, 1, 1, 0, 0, 0, 2, 1, 2, 0, 0, 0, 0, 0, 0, 0, 0, 1, 0, 1, 1, 1, 0, 0, 2, 2, 0, 2, 2, 0, 2, 1, 1, 2, 0, 1, 1, 2, 0, 0, 0, 1, 1, 0, 2, 0, 2, 2, 1, 0, 1, 1, 1, 2, 2, 0, 0, 2, 1, 0, 0, 0, 0, 0, 0, 2, 1, 2, 2, 0, 0, 0, 2, 1, 0, 0, 0, 1, 2, 0, 0, 1, 2, 2, 1, 2, 0, 0, 2, 0, 0, 0, 0, 1, 1, 0, 0, 0, 2, 0, 0, 0, 2, 0, 1, 0, 2, 2, 1, 0, 0, 0, 2, 0, 2, 2, 0, 2, 2, 1, 0, 2, 1, 0, 0, 0, 0, 0, 0, 2, 0, 0, 0, 1, 2, 0, 2, 1, 1, 0, 0, 0, 0, 0, 2, 2, 2, 1, 0, 1, 2, 0, 0, 0, 0, 2, 2, 2, 2, 1, 0, 0, 1, 0, 0, 0, 1, 0, 2, 0, 2, 2, 0, 1, 2, 2, 0, 2, 0, 0, 0, 0, 0, 2, 1, 1, 1, 1, 0, 0, 0, 2, 2, 0, 0, 2, 0, 2, 1, 0, 0, 0, 1, 2, 1, 0, 0, 0, 2, 2, 0, 1, 1, 0, 2, 1, 2, 2, 0, 0, 0, 0, 2, 0, 0, 0, 0, 0, 1, 0, 2, 2, 1, 0, 0, 0, 2, 1, 1, 2, 0, 0, 1, 1, 0, 2, 0, 1, 0, 1, 0, 0, 0, 1, 2, 2, 2, 0, 1, 1, 0, 2, 1, 2, 0, 2, 0, 0, 2, 0, 2, 0, 0, 0, 1, 1, 0, 1, 2, 1, 2, 2, 1, 2, 1, 2, 0, 1, 0, 0, 2, 0, 1, 1, 0, 0, 2, 0, 2, 1, 2, 2, 0, 0, 0, 0, 2, 0, 1, 0, 0, 2, 2, 2, 1, 0, 2, 0, 0, 2, 0, 2, 0, 2, 1, 0, 1, 2, 1, 1, 0, 1, 0, 0, 1, 0, 0, 2, 0, 2, 1, 0, 0, 0, 0, 0, 1, 0, 0, 0, 0, 2, 1, 0, 0, 0, 2, 0, 0, 1, 0, 2, 0, 0, 1, 2, 1, 2, 2, 0, 0, 0, 0, 0, 0, 2, 0, 2, 0, 2, 0, 0, 2, 1, 0, 1, 0, 0, 1, 0, 0, 1, 0, 0, 0, 0, 0, 1, 2, 0, 0, 0, 0, 1, 0, 0, 1, 2, 2, 0, 2, 0, 0, 1, 1, 2, 0, 2, 0, 0, 0, 0, 0, 0, 0, 1, 0, 2, 2, 0, 0, 0, 0, 0, 0, 0, 0, 2, 0, 1, 2, 2, 0, 0, 2, 0, 1, 1, 0, 0, 0, 0, 0, 2, 2, 2, 2, 2, 2, 1, 0, 2, 0, 0, 0, 0, 0, 0, 0, 0, 1, 2, 0, 2, 2, 0, 2, 0, 2, 0, 2, 0, 0, 0, 0, 2, 0, 2, 0, 0, 2, 0, 1, 0, 2, 0, 0, 0, 2, 0, 2, 0, 1, 0, 0, 1, 1, 2, 0, 0, 0, 2, 0, 0, 2, 1, 2, 0, 0, 0, 1, 0, 2, 0, 2, 0, 1, 2, 1, 0, 2, 0, 0, 0, 1, 2, 1, 0, 0, 0, 0, 2, 2, 0, 2, 0, 0, 2, 1, 0, 2, 1, 0, 1, 0, 0, 1, 2, 2, 1, 1, 1, 1, 2, 2, 0, 2, 0, 0, 1, 0, 2, 2, 2, 2, 2, 0, 0, 0, 0, 1, 2, 0, 2, 0, 0, 1, 1, 1, 2, 2, 0, 0, 0, 0, 0, 0, 1, 1, 1, 0, 0, 0, 0, 1, 0, 0, 0, 2, 2, 0, 1, 0, 1, 2, 0, 0, 1, 1, 2, 2, 1, 0, 0, 0, 0, 0, 2, 2, 2, 2, 0, 0, 0, 0, 1, 0, 0, 2, 1, 1, 2, 1, 2, 1, 0, 0, 2, 1, 1, 1, 0, 0, 2, 0, 2, 0, 0, 0, 0, 0, 1, 0, 0, 0, 0, 2, 2, 0, 0, 1, 1, 2, 2, 0, 2, 2, 1, 1, 0, 2, 0, 0, 1, 0, 0, 2, 0, 2, 2, 0, 2, 2, 0, 0, 0, 0, 1, 1, 0, 0, 2, 0, 1, 1, 0, 0, 2, 0, 0, 0, 0, 0, 0, 2, 0, 1, 2, 0, 0, 2, 2, 0, 0, 2, 1, 0, 2, 0, 1, 0, 0, 0, 0, 0, 2, 1, 0, 0, 0, 2, 1, 1, 0, 2, 1, 0, 1, 2, 2, 2, 0, 0, 2, 0, 0, 0, 0, 1, 0, 1, 0, 0, 0, 0, 0, 0, 0, 0, 0, 0, 0, 0, 1, 0, 2, 1, 2, 2, 2, 2, 0, 2, 0, 0, 2, 2, 2, 2, 1, 0, 0, 0, 1, 0, 2, 2, 0, 2, 0, 0, 2, 0, 2, 2, 1, 0, 1, 1, 0, 0, 0, 2, 0, 1, 0, 0, 1, 0, 2, 1, 0, 1, 2, 1, 0, 0, 0, 0, 0, 2, 0, 0, 2, 0, 0, 2, 0, 0, 2, 1, 1, 0, 2, 0, 0, 1, 1, 2, 1, 1, 0, 2, 0, 2, 2, 0, 0, 2, 0, 2, 2, 0, 0, 2, 0, 1, 1, 1, 2, 1, 0, 0, 2, 2, 0, 2, 1, 0, 2, 1, 0, 0, 1, 1, 2, 2, 0, 0, 1, 0, 2, 2, 2, 0, 2, 2, 0, 0, 0, 0, 0, 1, 1, 2, 0, 2, 0, 0, 2, 0, 2, 2, 0, 1, 0, 0, 1, 2, 0, 2, 0, 2, 2, 2, 2, 2, 0, 2, 0, 0, 1, 2, 2, 1, 1, 0, 0, 2, 1, 0, 0, 1, 0, 2, 0, 0, 2, 2, 2, 2, 0, 0, 2, 1, 1, 2, 2, 1, 1, 0, 2, 0, 0, 0, 1, 0, 2, 2, 0, 1, 0, 1, 2, 1, 0, 0, 0, 0, 0, 2, 0, 1, 2, 0, 1, 0, 0, 0, 0, 0, 2, 0, 0, 1, 2, 1, 1, 2, 2, 0, 0, 1, 1, 0, 1, 0, 2, 2, 2, 0, 2, 2, 0, 0, 0, 0, 0, 2, 0, 2, 1, 1, 0, 0, 1, 2, 0, 0, 2, 0, 0, 2, 0, 0, 2, 2, 2, 2, 0, 2, 1, 0, 0, 2, 2, 2, 1, 2, 0, 0, 0, 2, 0, 0, 0, 0, 2, 2, 1, 2, 2, 2, 1, 0, 2, 0, 1, 0, 0, 0, 0, 0, 2, 0, 0, 0, 2, 0, 2, 0, 0, 2, 0, 2, 0, 2, 0, 0, 0, 0, 0, 2, 0, 2, 2, 2, 0, 0, 0, 2, 2, 0, 1, 1, 0, 2, 0, 0, 2, 0, 0, 0, 2, 2, 2, 2, 1, 1, 2, 0, 0, 0, 2, 0, 0, 0, 1, 1, 0, 0, 0, 0, 1, 0, 1, 2, 2, 2, 1, 0, 0, 0, 0, 0, 2, 0, 2, 1, 0, 0, 0, 0, 0, 0, 0, 0, 0, 2, 0, 0, 0, 0, 0, 2, 1, 1, 0, 0, 0, 0, 0, 0, 0, 2, 2, 2, 2, 0, 1, 1, 2, 1, 1, 0, 0, 1, 2, 2, 1, 0, 2, 0, 0, 0, 2, 2, 2, 0, 0, 1, 0, 0, 1, 2, 0, 0, 1, 0, 1, 0, 2, 0, 0, 2, 0, 2, 2, 0, 0, 2, 0, 1, 0, 0, 2, 2, 0, 2, 2, 0, 0, 1, 0, 2, 2, 0, 0, 1, 2, 2, 0, 1, 0, 0, 2, 0, 0, 0, 2, 0, 0, 2, 1, 0, 0, 2, 1, 0, 1, 0, 2, 1, 0, 0, 1, 2, 0, 0, 0, 0, 0, 2, 0, 0, 0, 0, 0, 0, 0, 2, 0, 0, 0, 0, 0, 2, 0, 1, 0, 0, 0, 0, 0, 0, 1, 2, 2, 2, 0, 2, 0, 1, 0, 0, 0, 0, 1, 0, 0, 2, 0, 0, 1, 0, 0, 0, 0, 0, 0, 1, 2, 1, 2, 0, 0, 0, 0, 2, 1, 0, 0, 1, 0, 0, 1, 2, 0, 0, 2, 0, 0, 2, 0, 1, 0, 0, 0, 0, 0, 0, 0, 0, 0, 1, 0, 1, 0, 0, 0, 2, 0, 0, 0, 2, 1, 1, 0, 0, 0, 1, 1, 0, 0, 1, 1, 1, 0, 0, 2, 1, 0, 0, 0, 2, 0, 0, 1, 0, 2, 2, 1, 0, 2, 1, 1, 2, 0, 0, 0, 2, 2, 1, 1, 2, 2, 0, 0, 1, 0, 0, 1, 0, 2, 0, 2, 0, 2, 1, 2, 2, 0, 2, 2, 1, 0, 0, 0, 2, 1, 0, 0, 0, 0, 0, 0, 0, 2, 1, 2, 2, 0, 0, 2, 0, 2, 0, 2, 0, 2, 0, 0, 0, 0, 1, 1, 2, 0, 1, 2, 0, 1, 0, 1, 0, 0, 1, 2, 2, 1, 0, 0, 0, 2, 2, 2, 0, 1, 1, 1, 2, 2, 0, 1, 2, 0, 1, 1, 0, 0, 0, 2, 2, 0, 0, 1, 0, 2, 0, 2, 0, 0, 0, 2, 2, 2, 2, 1, 0, 2, 0, 0, 1, 0, 0, 1, 2, 0, 0, 2, 0, 2, 0, 0, 0, 0, 0, 2, 2, 1, 2, 0, 1, 2, 0, 0, 0, 0, 0, 2, 0, 0, 0, 0, 1, 0, 0, 0, 2, 2, 0, 2, 2, 0, 0, 0, 0, 0, 0, 1, 0, 1, 0, 0, 1, 2, 0, 0, 2, 0, 2, 0, 0, 1, 0, 0, 1, 2, 2, 1, 2, 2, 0, 0, 2, 0, 0, 2, 2, 2, 2, 0, 0, 0, 0, 1, 0, 2, 2, 0, 1, 2, 2, 0, 1, 2, 0, 2, 2, 1, 2, 0, 2, 0, 0, 1, 2, 2, 1, 0, 1, 0, 0, 0, 1, 2, 1, 1, 1, 1, 1, 2, 2, 0, 2, 2, 0, 2, 0, 0, 0, 1, 2, 2, 1, 1, 0, 0, 2, 0, 1, 2, 1, 0, 0, 2, 2, 1, 2, 2, 1, 1, 2, 2, 0, 1, 1, 0, 0, 0, 0, 1, 2, 0, 2, 0, 2, 2, 1, 2, 1, 0, 0, 1, 0, 0, 0, 0, 0, 0, 2, 1, 0, 2, 0, 2, 2, 0, 0, 0, 0, 0, 1, 0, 0, 2, 0, 0, 0, 1, 2, 1, 0, 2, 0, 2, 0, 0, 2, 0, 0, 0, 0, 0, 2, 2, 0, 0, 0, 2, 2, 0, 0, 1, 0, 0, 0, 2, 0, 0, 2, 0, 2, 0, 0, 0, 2, 1, 1, 2, 0, 1, 0, 0, 1, 1, 0, 0, 1, 0, 0, 0, 0, 2, 1, 0, 0, 1, 0, 0, 0, 0, 1, 0, 0, 2, 0, 0, 0, 2, 0, 0, 0, 2, 0, 0, 2, 2, 1, 0, 2, 1, 1, 0, 0, 0, 2, 1, 0, 2, 0, 2, 1, 1, 0, 0, 2, 0, 0, 1, 0, 2, 0, 0, 0, 0, 1, 2, 0, 2, 2, 0, 0, 2, 0, 0, 0, 1, 0, 1, 2, 0, 2, 2, 0, 1, 0, 0, 1, 2, 2, 0, 1, 0, 2, 0, 0, 0, 1, 0, 0, 0, 0, 0, 0, 0, 0, 0, 0, 0, 2, 0, 2, 2, 2, 2, 2, 2, 0, 0, 0, 1, 0, 2, 0, 2, 2, 0, 1, 2, 1, 0, 1, 2, 0, 0, 0, 2, 0, 0, 0, 2, 0, 1, 1, 2, 0, 2, 0, 1, 2, 0, 0, 1, 2, 0, 0, 0, 2, 2, 1, 0, 0, 2, 2, 0, 2, 0, 0, 0, 1, 0, 0, 2, 0, 0, 2, 2, 2, 0, 1, 2, 0, 2, 0, 0, 0, 2, 1, 0, 1, 1, 2, 0, 0, 0, 0, 0, 0, 0, 1, 1, 1, 0, 1, 2, 0, 1, 2, 0, 2, 2, 1, 0, 1, 0, 2, 0, 0, 0, 2, 2, 1, 0, 1, 0, 0, 1, 0, 0, 2, 0, 2, 1, 0, 1, 1, 0, 2, 1, 1, 0, 0, 0, 0, 0, 0, 2, 1, 0, 2, 0, 0, 2, 0, 0, 2, 0, 0, 2, 0, 0, 0, 0, 1, 0, 1, 0, 0, 0, 1, 1, 0, 0, 1, 0, 0, 0, 2, 0, 2, 0, 0, 0, 0, 1, 0, 2, 0, 2, 0, 0, 2, 2, 0, 2, 0, 0, 1, 1, 0, 2, 2, 2, 0, 0, 2, 2, 2, 0, 0, 0, 0, 2, 0, 2, 0, 1, 1, 0, 1, 2, 0, 0, 2, 0, 2, 0, 2, 0, 2, 2, 2, 0, 1, 2, 2, 0, 0, 1, 1, 1, 0, 2, 0, 2, 0, 2, 2, 1, 2, 0, 2, 2, 1, 0, 1, 0, 0, 0, 0, 2, 0, 0, 0, 2, 0, 0, 2, 0, 2, 0, 0, 1, 2, 0, 0, 0, 0, 1, 2, 2, 0, 0, 0, 1, 2, 2, 0, 0, 0, 1, 1, 0, 0, 0, 0, 0, 0, 0, 2, 0, 0, 1, 0, 2, 2, 1, 1, 2, 2, 0, 0, 2, 2, 2, 0, 2, 2, 0, 1, 0, 0, 0, 2, 2, 2, 2, 1, 2, 0, 2, 2, 2, 1, 0, 0, 1, 0, 0, 2, 0, 0, 2, 0, 0, 0, 2, 1, 1, 2, 1, 0, 1, 2, 2, 0, 0, 1, 0, 0, 1, 0, 2, 1, 1, 0, 0, 0, 2, 0, 0, 0, 0, 2, 0, 2, 0, 0, 0, 2, 2, 0, 1, 2, 2, 0, 1, 1, 2, 2, 2, 2, 0, 1, 0, 0, 0, 0, 2, 0, 2, 0, 2, 0, 2, 1, 0, 0, 2, 0, 0, 2, 0, 0, 0, 1, 2, 1, 0, 0, 2, 2, 1, 2, 1, 0, 2, 1, 1, 0, 2, 0, 2, 2, 0, 0, 2, 1, 2, 2, 0, 2, 0, 2, 0, 0, 0, 0, 0, 1, 0, 1, 0, 0, 1, 2, 2, 0, 1, 2, 1, 1, 1, 0, 0, 2, 2, 0, 1, 2, 0, 0, 1, 0, 1, 0, 0, 0, 0, 2, 1, 0, 2, 0, 1, 0, 0, 0, 1, 0, 2, 0, 0, 2, 2, 0, 2, 0, 2, 0, 0, 0, 0, 0, 1, 0, 0, 0, 2, 1, 0, 0, 0, 1, 0, 0, 1, 0, 2, 1, 0, 0, 1, 0, 2, 0, 2, 2, 2, 2, 0, 0, 0, 0, 1, 0, 2, 0, 2, 1, 1, 2, 2, 2, 2, 0, 1, 0, 2, 2, 2, 0, 2, 0, 1, 0, 0, 2, 2, 0, 0, 0, 2, 1, 0, 0, 0, 2, 0, 0, 0, 1, 0, 1, 2, 2, 2, 0, 2, 2, 1, 2, 0, 0, 2, 2, 2, 0, 1, 2, 1, 0, 0, 0, 0, 2, 0, 2, 0, 2, 1, 1, 2, 2, 0, 0, 0, 0, 0, 0, 0, 0, 1, 1, 2, 2, 1, 2, 1, 0, 2, 1, 2, 0, 2, 2, 0, 2, 2, 2, 0, 1, 1, 2, 0, 0, 0, 0, 1, 1, 2, 2, 1, 1, 2, 2, 2, 0, 0, 0, 1, 0, 0, 0, 0, 1, 0, 0, 0, 0, 2, 1, 2, 0, 0, 1, 0, 0, 0, 1, 0, 2, 1, 0, 1, 1, 0, 0, 0, 0, 1, 2, 0, 0, 2, 1, 0, 1, 1, 0, 0, 0, 1, 2, 0, 0, 2, 2, 0, 0, 0, 1, 0, 2, 2, 0, 2, 1, 1, 0, 0, 0, 0, 2, 2, 2, 0, 0, 1, 1, 0, 0, 0, 2, 0, 0, 2, 1, 0, 2, 0, 0, 0, 0, 0, 1, 2, 0, 0, 2, 0, 0, 0, 0, 1, 0, 0, 0, 0, 2, 2, 1, 2, 1, 2, 2, 2, 0, 2, 0, 0, 2, 2, 0, 0, 0, 2, 1, 0, 0, 2, 2, 0, 2, 0, 1, 1, 1, 2, 0, 0, 0, 0, 0, 2, 2, 2, 1, 2, 0, 0, 0, 2, 2, 0, 2, 0, 0, 1, 0, 0, 0, 0, 2, 2, 0, 1, 0, 0, 0, 2, 2, 0, 0, 1, 1, 1, 2, 0, 1, 0, 0, 0, 0, 0, 2, 2, 2, 0, 0, 0, 2, 1, 0, 0, 0, 0, 2, 2, 0, 2, 1, 0, 2, 0, 1, 0, 1, 2, 2, 2, 0, 1, 0, 0, 2, 1, 2, 0, 0, 0, 2, 1, 1, 2, 0, 1, 2, 1, 0, 0, 1, 2, 0, 2, 0, 0, 1, 2, 1, 2, 0, 0, 0, 0, 0, 1, 0, 2, 1, 0, 0, 2, 0, 0, 0, 1, 0, 1, 0, 1, 1, 0, 2, 0, 0, 0, 0, 2, 2, 2, 0, 0, 0, 2, 0, 0, 0, 1, 1, 0, 1, 0, 2, 0, 0, 1, 1, 0, 0, 1, 2, 1, 1, 1, 2, 0, 0, 0, 1, 0, 0, 1, 1, 0, 0, 1, 0, 0, 0, 0, 2, 0, 0, 0, 0, 0, 0, 0, 1, 2, 0, 2, 0, 0, 1, 0, 0, 2, 0, 1, 0, 1, 0, 0, 0, 2, 0, 0, 0, 0, 2, 0, 2, 1, 1, 2, 1, 0, 2, 2, 1, 2, 1, 0, 2, 1, 1, 0, 1, 2, 1, 0, 0, 0, 2, 1, 1, 0, 2, 0, 0, 1, 2, 0, 0, 0, 2, 0, 0, 0, 0, 1, 0, 0, 0, 1, 2, 2, 0, 0, 0, 2, 0, 1, 0, 0, 2, 0, 2, 0, 1, 2, 1, 0, 2, 1, 0, 0, 0, 1, 0, 2, 1, 0, 2, 2, 0, 0, 2, 2, 1, 0, 0, 0, 2, 0, 0, 2, 0, 2, 2, 0, 2, 0, 1, 1, 2, 0, 0, 1, 1, 1, 0, 0, 2, 0, 1, 0, 0, 0, 2, 2, 0, 2, 0, 1, 0, 1, 2, 1, 0, 2, 0, 0, 0, 0, 1, 0, 0, 0, 2, 2, 1, 2, 0, 1, 2, 1, 1, 0, 2, 0, 2, 0, 1, 0, 0, 0, 2, 2, 2, 0, 0, 1, 0, 0, 2, 0, 0, 2, 0, 0, 1, 0, 0, 0, 2, 1, 2, 0, 0, 0, 1, 1, 2, 1, 2, 1, 0, 2, 2, 1, 0, 2, 2, 2, 1, 2, 0, 2, 2, 0, 1, 2, 2, 2, 0, 1, 0, 1, 0, 1, 0, 0, 2, 2, 2, 0, 1, 0, 0, 0, 2, 0, 0, 2, 0, 2, 2, 0, 0, 1, 0, 0, 2, 1, 1, 2, 1, 2, 0, 2, 2, 2, 2, 0, 1, 0, 2, 1, 1, 0, 1, 0, 0, 2, 0, 1, 2, 1, 2, 2, 0, 2, 0, 0, 0, 1, 2, 0, 0, 0, 0, 0, 0, 2, 0, 1, 2, 0, 0, 2, 0, 2, 2, 1, 2, 2, 0, 0, 0, 1, 0, 2, 0, 2, 2, 0, 2, 0, 0, 2, 0, 2, 0, 0, 0, 2, 2, 1, 1, 2, 2, 1, 0, 0, 2, 0, 0, 1, 2, 2, 2, 0, 0, 0, 0, 0, 2, 0, 2, 0, 0, 0, 1, 1, 0, 2, 0, 1, 2, 0, 0, 1, 0, 0, 2, 1, 0, 2, 1, 2, 1, 1, 1, 0, 1, 0, 2, 0, 0, 0, 1, 0, 0, 1, 1, 0, 0, 0, 0, 0, 2, 2, 2, 2, 2, 0, 0, 0, 1, 0, 0, 2, 0, 1, 2, 0, 0, 0, 0, 2, 2, 0, 0, 1, 2, 0, 0, 2, 2, 0, 0, 1, 1, 2, 0, 2, 2, 1, 1, 0, 2, 2, 2, 2, 0, 2, 0, 0, 0, 2, 0, 0, 2, 0, 0, 0, 1, 0, 1, 0, 1, 2, 0, 0, 1, 0, 1, 2, 1, 2, 0, 2, 2, 1, 0, 0, 0, 1, 1, 0, 2, 0, 0, 1, 2, 0, 0, 0, 0, 2, 2, 0, 1, 0, 1, 1, 2, 2, 0, 0, 2, 0, 0, 2, 0, 2, 0, 0, 1, 2, 1, 1, 0, 0, 0, 0, 2, 2, 1, 2, 2, 2, 2, 0, 0, 1, 1, 2, 1, 0, 2, 0, 1, 1, 2, 1, 0, 2, 0, 0, 0, 0, 0, 2, 1, 0, 0, 2, 0, 0, 0, 0, 2, 1, 2, 0, 1, 0, 2, 0, 1, 0, 2, 2, 2, 0, 1, 0, 1, 2, 2, 0, 2, 0, 0, 0, 0, 0, 2, 0, 0, 2, 2, 0, 2, 0, 2, 1, 0, 0, 0, 0, 0, 0, 0, 1, 2, 0, 2, 2, 1, 0, 2, 2, 0, 1, 0, 0, 0, 0, 1, 1, 2, 0, 2, 1, 1, 0, 2, 0, 0, 0, 0, 0, 0, 0, 0, 0, 2, 2, 0, 2, 1, 0, 0, 1, 0, 0, 2, 0, 2, 0, 0, 1, 0, 0, 2, 1, 1, 0, 0, 0, 0, 2, 1, 1, 1, 0, 2, 1, 0, 2, 2, 1, 0, 1, 0, 0, 1, 2, 1, 2, 0, 0, 0, 2, 0, 0, 0, 0, 2, 0, 0, 0, 2, 0, 0, 0, 1, 0, 1, 2, 0, 0, 0, 1, 0, 0, 0, 1, 0, 1, 2, 0, 2, 0, 0, 0, 1, 0, 0, 0, 1, 0, 2, 0, 2, 2, 1, 0, 0, 0, 1, 2, 1, 0, 0, 2, 1, 1, 0, 0, 0, 0, 0, 2, 2, 0, 2, 2, 2, 1, 0, 0, 2, 0, 2, 1, 2, 0, 1, 2, 0, 0, 1, 0, 1, 0, 0, 0, 0, 1, 0, 2, 0, 2, 0, 2, 0, 1, 2, 2, 0, 0, 1, 0, 1, 1, 2, 0, 0, 0, 0, 0, 0, 0, 0, 1, 1, 0, 2, 2, 1, 1, 0, 0, 0, 2, 0, 0, 0, 0, 2, 1, 2, 2, 0, 0, 0, 0, 2, 0, 2, 2, 0, 0, 1, 2, 1, 0, 0, 1, 0, 0, 1, 2, 0, 1, 1, 1, 0, 1, 0, 0, 0, 0, 2, 2, 0, 0, 2, 1, 2, 0, 2, 2, 2, 0, 0, 1, 1, 1, 0, 0, 1, 2, 0, 0, 2, 0, 2, 0, 0, 2, 0, 0, 0, 2, 1, 0, 0, 0, 1, 0, 1, 2, 0, 1, 1, 0, 2, 2, 1, 2, 2, 2, 0, 2, 0, 1, 2, 0, 0, 1, 0, 1, 0, 0, 0, 0, 0, 2, 1, 0, 1, 0, 2, 2, 0, 0, 1, 0, 0, 0, 2, 0, 1, 0, 0, 0, 0, 1, 0, 0, 2, 0, 2, 0, 2, 0, 0, 2, 0, 0, 1, 0, 2, 1, 1, 0, 2, 2, 1, 0, 0, 0, 1, 1, 0, 0, 2, 1, 1, 1, 1, 0, 2, 0, 0, 2, 1, 1, 2, 0, 2, 1, 0, 2, 2, 2, 0, 1, 0, 2, 0, 0, 2, 0, 0, 0, 1, 2, 2, 1, 0, 0, 0, 0, 1, 0, 2, 1, 0, 0, 0, 1, 2, 0, 1, 0, 1, 0, 2, 0, 0, 1, 2, 0, 0, 0, 0, 2, 2, 2, 0, 0, 2, 1, 0, 2, 0, 1, 2, 0, 2, 1, 2, 2, 0, 0, 0, 2, 0, 2, 1, 2, 0, 1, 0, 2, 2, 2, 0, 1, 0, 2, 1, 0, 1, 1, 0, 0, 0, 2, 2, 0, 2, 1, 2, 2, 0, 0, 0, 0, 2, 0, 0, 2, 0, 0, 2, 1, 0, 1, 1, 0, 2, 2, 0, 0, 0, 2, 1, 0, 2, 0, 0, 0, 1, 0, 0, 0, 0, 0, 2, 0, 2, 0, 0, 2, 2, 2, 0, 0, 2, 1, 0, 2, 1, 1, 2, 0, 2, 1, 2, 0, 0, 0, 2, 0, 0, 0, 2, 2, 2, 2, 0, 1, 0, 0, 0, 0, 0, 2, 0, 0, 2, 0, 2, 1, 1, 0, 2, 1, 2, 0, 1, 2, 0, 0, 2, 0, 2, 2, 2, 0, 0, 0, 0, 0, 1, 1, 0, 2, 0, 1, 1, 2, 0, 1, 0, 0, 0, 0, 2, 2, 1, 0, 0, 0, 2, 0, 0, 0, 0, 0, 2, 2, 2, 2, 2, 2, 0, 0, 2, 0, 1, 2, 1, 0, 1, 0, 2, 0, 0, 0, 0, 2, 1, 2, 0, 0, 0, 2, 0, 2, 0, 1, 0, 1, 2, 2, 2, 2, 1, 1, 1, 1, 0, 1, 1, 0, 2, 2, 0, 0, 1, 0, 0, 2, 0, 2, 2, 1, 2, 2, 0, 0, 1, 0, 2, 2, 0, 2, 0, 0, 1, 0, 0, 2, 1, 0, 0, 0, 2, 1, 0, 0, 1, 2, 0, 0, 0, 0, 2, 0, 2, 1, 2, 0, 0, 2, 2, 0, 2, 2, 2, 0, 0, 0, 0, 2, 0, 1, 1, 0, 1, 0, 1, 1, 2, 2, 0, 2, 1, 0, 2, 0, 0, 2, 0, 0, 1, 2, 2, 0, 2, 2, 1, 0, 2, 0, 0, 2, 0, 1, 2, 2, 0, 1, 1, 2, 2, 2, 1, 0, 1, 0, 1, 2, 0, 1, 1, 1, 0, 0, 2, 1, 2, 0, 1, 0, 2, 0, 2, 0, 0, 1, 1, 2, 0, 0, 2, 0, 2, 0, 2, 2, 2, 1, 1, 0, 0, 2, 0, 1, 1, 2, 0, 0, 1, 0, 1, 0, 2, 0, 2, 0, 2, 0, 2, 1, 0, 2, 0, 1, 2, 2, 0, 0, 2, 0, 0, 1, 0, 0, 2, 2, 0, 1, 0, 2, 0, 0, 1, 0, 0, 2, 0, 0, 0, 0, 1, 0, 1, 2, 0, 2, 0, 0, 0, 2, 1, 0, 0, 0, 1, 2, 2, 1, 1, 0, 1, 1, 1, 0, 1, 1, 2, 1, 0, 1, 0, 0, 2, 0, 0, 0, 0, 2, 2, 0, 1, 1, 0, 0, 0, 0, 0, 1, 0, 2, 0, 1, 2, 2, 2, 0, 0, 2, 0, 1, 0, 0, 0, 2, 2, 0, 0, 0, 2, 0, 0, 0, 0, 1, 0, 2, 0, 2, 0, 1, 2, 0, 1, 2, 0, 0, 0, 1, 0, 0, 0, 0, 0, 0, 2, 0, 2, 2, 0, 0, 0, 2, 1, 1, 2, 0, 0, 2, 0, 0, 0, 2, 2, 0, 0, 2, 0, 1, 2, 1, 0, 2, 1, 2, 0, 0, 1, 0, 0, 2, 2, 0, 1, 2, 1, 1, 0, 2, 0, 1, 2, 1, 0, 0, 0, 0, 2, 1, 0, 2, 0, 0, 1, 0, 2, 0, 2, 1, 1, 0, 0, 0, 0, 1, 0, 0, 2, 1, 2, 0, 0, 2, 1, 0, 0, 0, 0, 2, 1, 0, 0, 1, 2, 0, 1, 0, 0, 2, 0, 2, 0, 1, 0, 0, 0, 2, 0, 0, 0, 2, 0, 0, 0, 2, 2, 0, 0, 0, 0, 0, 0, 0, 0, 0, 2, 0, 0, 0, 0, 2, 2, 2, 2, 0, 2, 0, 0, 1, 2, 2, 0, 0, 2, 2, 0, 2, 0, 0, 1, 0, 2, 0, 0, 0, 0, 2, 0, 0, 0, 1, 0, 0, 0, 0, 2, 1, 0, 0, 0, 0, 0, 0, 0, 0, 0, 1, 2, 0, 0, 1, 1, 0, 1, 2, 0, 0, 1, 0, 0, 2, 2, 0, 2, 1, 0, 1, 2, 0, 0, 0, 0, 0, 0, 0, 0, 1, 0, 2, 1, 2, 1, 2, 0, 0, 0, 0, 0, 0, 0, 2, 1, 0, 1, 2, 0, 2, 0, 2, 2, 2, 0, 0, 0, 0, 0, 0, 2, 0, 0, 0, 0, 2, 0, 2, 1, 0, 1, 0, 1, 0, 1, 0, 0, 0, 0, 0, 2, 2, 1, 0, 1, 1, 0, 2, 2, 1, 0, 2, 0, 2, 0, 0, 2, 0, 2, 0, 0, 0, 1, 0, 2, 0, 0, 0, 0, 0, 2, 2, 2, 0, 2, 0, 0, 1, 1, 2, 2, 0, 0, 0, 0, 2, 2, 1, 2, 0, 2, 1, 2, 0, 2, 1, 1, 0, 2, 1, 2, 1, 1, 1, 1, 2, 0, 0, 0, 0, 0, 1, 0, 0, 0, 2, 1, 0, 1, 1, 1, 0, 2, 1, 0, 0, 1, 0, 2, 0, 0, 0, 2, 0, 2, 0, 2, 2, 0, 0, 2, 1, 0, 0, 0, 1, 0, 2, 1, 1, 0, 1, 0, 1, 2, 0, 2, 0, 2, 2, 2, 2, 1, 0, 1, 2, 2, 2, 0, 2, 2, 2, 0, 0, 0, 0, 0, 0, 0, 0, 0, 1, 2, 2, 0, 1, 2, 0, 0, 1, 2, 0, 1, 1, 2, 0, 1, 0, 0, 0, 1, 2, 2, 0, 0, 2, 0, 0, 2, 0, 1, 0, 2, 0, 2, 2, 2, 0, 1, 0, 0, 0, 2, 0, 0, 0, 0, 1, 0, 2, 0, 1, 0, 0, 0, 1, 0, 0, 1, 0, 0, 2, 0, 0, 2, 2, 0, 1, 0, 2, 0, 1, 0, 2, 0, 0, 0, 1, 2, 1, 0, 0, 2, 2, 0, 2, 2, 0, 1, 2, 0, 0, 2, 1, 0, 0, 1, 0, 0, 0, 0, 0, 0, 2, 2, 2, 2, 0, 0, 1, 1, 0, 2, 0, 0, 2, 1, 2, 2, 0, 2, 2, 0, 1, 0, 2, 2, 1, 0, 0, 0, 0, 1, 0, 1, 0, 0, 2, 0, 0, 0, 0, 0, 1, 2, 0, 2, 0, 0, 1, 1, 0, 1, 2, 0, 0, 1, 0, 0, 2, 2, 1, 0, 0, 0, 0, 1, 2, 0, 0, 0, 0, 0, 0, 0, 2, 2, 1, 1, 0, 0, 0, 0, 2, 0, 0, 1, 0, 2, 0, 0, 2, 0, 2, 1, 1, 2, 1, 2, 1, 2, 0, 2, 0, 0, 1, 0, 0, 2, 0, 2, 0, 0, 2, 0, 0, 2, 0, 0, 0, 0, 0, 2, 0, 2, 0, 0, 0, 0, 0, 0, 2, 1, 0, 0, 2, 0, 0, 2, 0, 0, 1, 0, 0, 2, 2, 0, 2, 0, 2, 0, 2, 1, 2, 0, 0, 0, 2, 2, 0, 0, 2, 2, 2, 0, 2, 0, 0, 2, 0, 0, 0, 1, 0, 2, 0, 1, 0, 0, 0, 0, 0, 0, 2, 1, 2, 2, 2, 0, 0, 2, 1, 0, 2, 2, 0, 0, 0, 1, 1, 0, 0, 2, 0, 0, 1, 0, 2, 0, 1, 1, 0, 2, 1, 0, 1, 0, 1, 0, 2, 0, 0, 0, 0, 0, 0, 1, 2, 2, 2, 2, 1, 1, 2, 0, 1, 0, 1, 0, 1, 1, 2, 0, 2, 0, 0, 0, 2, 1, 2, 0, 0, 0, 2, 2, 1, 0, 0, 2, 0, 1, 2, 0, 2, 0, 2, 0, 0, 0, 2, 0, 1, 2, 2, 0, 2, 0, 1, 0, 0, 2, 0, 2, 2, 0, 1, 2, 0, 0, 0, 0, 0, 0, 2, 2, 1, 2, 2, 0, 0, 2, 2, 0, 2, 2, 0, 0, 1, 0, 2, 1, 2, 0, 1, 1, 2, 2, 2, 0, 1, 2, 0, 0, 1, 2, 1, 1, 0, 2, 0, 1, 0, 1, 0, 2, 0, 0, 2, 2, 1, 2, 2, 0, 2, 0, 2, 2, 1, 1, 0, 2, 2, 1, 0, 0, 2, 2, 1, 0, 1, 0, 0, 1, 0, 0, 1, 0, 2, 1, 2, 1, 0, 0, 1, 0, 0, 1, 2, 0, 0, 0, 0, 0, 0, 0, 0, 0, 1, 2, 0, 0, 0, 0, 0, 0, 0, 1, 2, 0, 0, 2, 0, 0, 0, 0, 2, 0, 0, 0, 0, 2, 2, 2, 2, 1, 0, 1, 0, 1, 1, 0, 2, 2, 1, 2, 2, 0, 0, 0, 0, 1, 0, 0, 2, 1, 0, 0, 0, 0, 2, 1, 2, 2, 0, 0, 0, 2, 0, 0, 0, 0, 2, 0, 2, 0, 0, 0, 2, 2, 0, 0, 0, 0, 0, 2, 1, 1, 2, 1, 0, 0, 2, 0, 2, 0, 2, 0, 2, 0, 0, 1, 0, 2, 2, 0, 1, 0, 0, 1, 0, 2, 2, 0, 2, 0, 0, 0, 0, 0, 2, 0, 0, 2, 2, 1, 2, 2, 2, 0, 2, 0, 0, 0, 2, 0, 0, 0, 1, 0, 1, 2, 0, 1, 1, 2, 2, 2, 2, 0, 1, 2, 0, 1, 0, 0, 2, 2, 0, 2, 2, 2, 2, 1, 2, 0, 2, 1, 1, 2, 0, 0, 2, 0, 2, 0, 0, 1, 1, 0, 0, 2, 0, 2, 0, 1, 2, 2, 1, 0, 0, 0, 2, 0, 0, 0, 2, 2, 2, 1, 0, 2, 0, 0, 2, 0, 1, 2, 0, 0, 0, 0, 1, 0, 2, 0, 0, 2, 0, 2, 1, 2, 2, 2, 1, 0, 2, 2, 0, 2, 2, 0, 0, 0, 2, 1, 1, 2, 1, 2, 0, 0, 0, 0, 1, 0, 2, 0, 0, 1, 1, 1, 0, 0, 0, 0, 1, 0, 2, 0, 1, 1, 0, 0, 1, 0, 0, 2, 2, 0, 1, 1, 0, 1, 2, 2, 0, 1, 0, 0, 0, 2, 0, 2, 2, 2, 2, 2, 0, 2, 0, 2, 2, 2, 1, 0, 2, 0, 1, 2, 0, 2, 1, 1, 0, 0, 2, 0, 0, 2, 0, 2, 2, 2, 2, 0, 0, 1, 0, 0, 0, 0, 0, 0, 0, 0, 0, 2, 0, 0, 1, 2, 2, 0, 1, 2, 2, 1, 2, 1, 0, 1, 1, 1, 1, 2, 0, 0, 0, 0, 0, 2, 0, 1, 1, 0, 2, 2, 2, 0, 2, 0, 0, 0, 1, 0, 2, 2, 2, 2, 0, 2, 0, 0, 2, 0, 2, 0, 0, 0, 0, 0, 2, 1, 1, 0, 1, 1, 2, 2, 0, 0, 0, 0, 0, 0, 1, 0, 1, 1, 0, 2, 0, 0, 0, 1, 0, 1, 2, 1, 2, 0, 1, 1, 0, 1, 1, 0, 0, 2, 0, 0, 0, 0, 0, 0, 2, 0, 0, 0, 2, 0, 1, 0, 1, 0, 0, 1, 1, 1, 0, 1, 2, 2, 2, 2, 0, 2, 2, 0, 0, 0, 2, 0, 0, 0, 0, 2, 0, 0, 2, 2, 2, 2, 1, 2, 0, 2, 0, 1, 0, 2, 0, 1, 0, 0, 0, 1, 0, 2, 1, 1, 1, 2, 1, 2, 0, 0, 2, 0, 1, 2, 0, 0, 0, 0, 2, 0, 0, 0, 0, 0, 1, 1, 0, 0, 0, 0, 2, 0, 1, 2, 1, 0, 0, 0, 0, 0, 2, 2, 0, 0, 0, 0, 2, 1, 0, 1, 1, 0, 0, 0, 0, 0, 2, 0, 2, 2, 0, 0, 2, 1, 2, 0, 1, 0, 1, 0, 0, 0, 2, 2, 0, 0, 2, 0, 0, 1, 0, 0, 0, 2, 0, 0, 1, 0, 0, 0, 0, 2, 0, 1, 0, 0, 2, 0, 0, 2, 0, 2, 2, 0, 1, 0, 2, 1, 0, 1, 0, 0, 1, 0, 1, 1, 0, 0, 2, 0, 0, 0, 0, 2, 0, 0, 2, 1, 1, 0, 0, 2, 0, 0, 0, 1, 2, 2, 0, 0, 0, 2, 0, 0, 0, 0, 0, 0, 2, 0, 0, 2, 0, 2, 0, 0, 2, 1, 0, 0, 2, 0, 2, 0, 0, 2, 0, 0, 1, 0, 0, 0, 0, 2, 0, 2, 1, 0, 1, 2, 2, 2, 0, 0, 0, 1, 1, 0, 0, 2, 0, 2, 2, 2, 1, 1, 2, 0, 2, 0, 0, 0, 1, 2, 0, 0, 2, 2, 1, 1, 0, 0, 2, 2, 2, 0, 1, 0, 0, 1, 0, 2, 0, 0, 0, 0, 0, 2, 0, 0, 2, 0, 0, 0, 0, 1, 2, 0, 1, 1, 2, 0, 2, 2, 0, 0, 2, 0, 1, 0, 2, 2, 2, 0, 1, 0, 2, 2, 0, 0, 2, 2, 2, 0, 0, 0, 1, 2, 2, 2, 0, 2, 0, 0, 0, 2, 0, 0, 0, 0, 0, 2, 1, 1, 1, 0, 0, 2, 2, 1, 0, 0, 1, 0, 0, 0, 0, 1, 0, 0, 0, 1, 2, 0, 1, 0, 0, 1, 0, 1, 2, 0, 0, 0, 0, 0, 0, 1, 0, 0, 0, 1, 0, 1, 2, 0, 1, 0, 0, 1, 1, 2, 0, 1, 0, 2, 0, 0, 2, 0, 2, 2, 1, 0, 0, 2, 2, 1, 0, 0, 1, 0, 0, 0, 2, 2, 0, 2, 0, 0, 0, 2, 1, 2, 0, 2, 1, 1, 0, 2, 1, 2, 0, 1, 2, 2, 0, 0, 0, 1, 2, 0, 0, 0, 0, 0, 0, 1, 0, 0, 0, 0, 0, 1, 2, 0, 2, 1, 0, 0, 0, 1, 2, 0, 1, 2, 2, 2, 0, 2, 2, 0, 1, 2, 0, 1, 1, 0, 1, 0, 2, 0, 0, 2, 2, 1, 0, 0, 0, 1, 2, 2, 0, 0, 0, 2, 0, 2, 0, 0, 1, 2, 1, 2, 1, 0, 0, 2, 1, 2, 0, 1, 0, 0, 2, 2, 1, 0, 1, 0, 0, 0, 2, 0, 2, 2, 0, 2, 2, 2, 1, 2, 0, 1, 1, 0, 2, 0, 2, 1, 2, 0, 0, 0, 2, 0, 2, 2, 0, 2, 0, 2, 0, 2, 0, 0, 0, 2, 2, 0, 0, 1, 1, 2, 0, 0, 2, 0, 0, 0, 0, 0, 1, 2, 1, 2, 0, 2, 0, 0, 2, 0, 1, 2, 0, 2, 2, 1, 2, 0, 0, 0, 0, 0, 2, 1, 0, 2, 1, 2, 0, 0, 1, 0, 2, 2, 0, 2, 0, 1, 0, 0, 2, 2, 2, 0, 1, 2, 2, 1, 0, 1, 0, 2, 1, 1, 2, 2, 0, 0, 2, 0, 2, 0, 1, 2, 2, 2, 0, 0, 1, 0, 0, 2, 2, 2, 0, 0, 1, 0, 1, 2, 1, 1, 0, 0, 0, 0, 2, 2, 2, 0, 2, 2, 1, 0, 2, 1, 2, 2, 0, 2, 2, 2, 0, 0, 0, 0, 0, 2, 0, 1, 1, 0, 2, 0, 0, 1, 0, 2, 0, 2, 0, 1, 0, 1, 0, 0, 0, 2, 1, 2, 1, 0, 2, 0, 2, 0, 0, 0, 0, 0, 1, 1, 0, 2, 1, 0, 0, 0, 1, 2, 2, 0, 2, 1, 0, 0, 0, 1, 2, 0, 0, 1, 0, 1, 0, 0, 2, 2, 1, 2, 0, 0, 0, 0, 0, 2, 0, 0, 2, 0, 1, 1, 2, 0, 0, 0, 0, 1, 0, 2, 2, 2, 1, 2, 2, 0, 0, 1, 2, 0, 1, 0, 2, 0, 2, 2, 1, 0, 0, 0, 2, 1, 0, 0, 2, 2, 0, 0, 0, 0, 0, 0, 2, 0, 1, 2, 2, 0, 0, 0, 0, 2, 2, 0, 0, 2, 0, 2, 0, 0, 2, 0, 0, 0, 1, 0, 2, 0, 0, 2, 0, 2, 0, 1, 1, 0, 2, 1, 0, 0, 1, 0, 0, 2, 2, 0, 0, 0, 2, 1, 0, 0, 0, 1, 2, 1, 1, 2, 0, 1, 2, 1, 2, 2, 0, 1, 0, 0, 1, 0, 1, 2, 1, 0, 0, 0, 0, 2, 2, 2, 2, 1, 1, 0, 1, 0, 2, 0, 0, 0, 1, 0, 0, 0, 1, 0, 1, 1, 2, 2, 0, 2, 0, 0, 0, 0, 2, 2, 2, 0, 2, 2, 1, 0, 2, 2, 0, 0, 2, 0, 0, 1, 2, 0, 0, 2, 0, 0, 1, 1, 0, 0, 0, 2, 1, 0, 0, 0, 0, 2, 1, 2, 0, 1, 2, 2, 0, 0, 2, 2, 0, 0, 0, 2, 1, 2, 1, 2, 0, 0, 0, 0, 1, 1, 2, 0, 0, 0, 0, 0, 2, 0, 2, 0, 1, 0, 2, 1, 0, 0, 2, 1, 0, 0, 1, 0, 2, 1, 0, 0, 2, 0, 0, 2, 1, 2, 2, 0, 1, 2, 0, 0, 0, 0, 1, 1, 1, 2, 1, 0, 0, 0, 2, 0, 0, 2, 0, 2, 2, 0, 2, 1, 0, 1, 0, 2, 0, 0, 1, 0, 1, 0, 2, 0, 1, 1, 2, 0, 0, 2, 1, 0, 1, 0, 2, 0, 0, 2, 0, 1, 2, 2, 2, 0, 2, 0, 1, 0, 0, 2, 1, 2, 1, 0, 2, 1, 2, 0, 0, 0, 1, 1, 1, 0, 2, 0, 1, 0, 2, 0, 0, 2, 0, 2, 1, 0, 0, 2, 2, 0, 0, 0, 0, 1, 1, 1, 0, 0, 1, 0, 0, 2, 2, 1, 0, 2, 0, 2, 0, 1, 0, 2, 1, 1, 0, 1, 0, 0, 0, 0, 0, 1, 0, 0, 0, 0, 2, 0, 0, 2, 2, 2, 0, 0, 0, 2, 2, 2, 0, 2, 2, 0, 0, 0, 1, 0, 0, 2, 0, 0, 0, 0, 0, 1, 0, 2, 2, 0, 1, 0, 0, 0, 0, 1, 2, 0, 0, 2, 2, 0, 0, 0, 1, 0, 2, 0, 0, 1, 1, 0, 1, 2, 1, 0, 2, 2, 1, 0, 0, 2, 0, 2, 0, 2, 0, 2, 1, 0, 2, 0, 0, 0, 0, 0, 0, 2, 2, 2, 2, 0, 1, 2, 0, 0, 0, 2, 2, 1, 0, 2, 2, 2, 2, 0, 0, 1, 0, 0, 1, 0, 0, 0, 0, 0, 1, 0, 2, 2, 0, 1, 0, 0, 1, 2, 1, 2, 0, 2, 0, 0, 0, 0, 0, 2, 0, 0, 0, 2, 2, 0, 0, 0, 1, 0, 2, 1, 2, 2, 1, 2, 0, 0, 1, 0, 2, 0, 0, 1, 1, 1, 2, 2, 0, 0, 1, 1, 2, 0, 2, 1, 0, 1, 2, 0, 2, 0, 0, 2, 0, 2, 2, 2, 0, 0, 0, 2, 2, 2, 0, 0, 2, 0, 1, 0, 0, 0, 2, 1, 0, 0, 0, 0, 1, 0, 0, 2, 2, 2, 0, 0, 2, 0, 1, 2, 2, 0, 2, 1, 0, 0, 0, 0, 0, 0, 0, 0, 0]\n"
          ]
        }
      ]
    },
    {
      "cell_type": "code",
      "source": [
        "print(experiencia)"
      ],
      "metadata": {
        "colab": {
          "base_uri": "https://localhost:8080/"
        },
        "outputId": "8209102a-c60d-4b80-9965-6238ee6c94f0",
        "id": "09yBRNYX9znp"
      },
      "execution_count": 79,
      "outputs": [
        {
          "output_type": "stream",
          "name": "stdout",
          "text": [
            "[1, 1, 1, 1, 0, 0, 0, 1, 0, 1, 0, 0, 0, 1, 0, 1, 0, 1, 1, 1, 1, 1, 0, 1, 0, 0, 0, 0, 0, 1, 0, 0, 1, 1, 1, 1, 0, 0, 0, 0, 0, 0, 0, 1, 0, 0, 0, 0, 0, 0, 0, 1, 0, 1, 1, 0, 1, 0, 0, 0, 0, 0, 0, 1, 0, 1, 0, 1, 0, 0, 0, 1, 0, 0, 1, 1, 1, 0, 1, 1, 0, 0, 1, 0, 0, 0, 1, 0, 0, 1, 0, 0, 1, 0, 0, 1, 0, 0, 0, 0, 0, 1, 1, 1, 1, 1, 0, 0, 0, 1, 0, 0, 1, 1, 1, 1, 1, 0, 0, 1, 1, 0, 0, 0, 0, 0, 1, 1, 1, 1, 0, 0, 0, 1, 1, 0, 0, 0, 0, 0, 0, 1, 0, 1, 1, 0, 0, 1, 0, 0, 0, 0, 1, 0, 0, 0, 1, 0, 1, 0, 0, 0, 1, 0, 0, 0, 0, 0, 0, 0, 1, 1, 0, 0, 0, 0, 0, 0, 1, 0, 0, 0, 0, 0, 0, 1, 0, 1, 1, 0, 1, 0, 0, 1, 0, 0, 1, 1, 0, 0, 0, 1, 1, 0, 0, 0, 0, 1, 0, 0, 1, 0, 1, 1, 0, 1, 1, 0, 0, 0, 0, 1, 0, 0, 0, 0, 0, 0, 1, 0, 1, 1, 0, 0, 0, 1, 1, 0, 0, 0, 0, 0, 1, 0, 1, 0, 1, 1, 1, 1, 0, 1, 1, 0, 1, 0, 0, 1, 1, 1, 1, 1, 0, 1, 1, 1, 0, 0, 0, 1, 0, 1, 0, 1, 1, 1, 0, 0, 1, 1, 0, 0, 1, 0, 0, 0, 1, 0, 0, 0, 0, 0, 1, 1, 1, 1, 0, 0, 1, 0, 0, 0, 0, 1, 0, 1, 1, 1, 1, 0, 0, 0, 0, 1, 0, 0, 1, 0, 0, 1, 0, 1, 0, 0, 1, 1, 0, 1, 0, 0, 0, 0, 0, 0, 1, 0, 1, 1, 0, 0, 1, 1, 0, 1, 0, 0, 0, 0, 1, 0, 1, 1, 0, 0, 0, 0, 0, 1, 0, 0, 0, 0, 0, 0, 1, 1, 0, 0, 1, 0, 0, 1, 0, 0, 1, 0, 1, 1, 0, 1, 1, 1, 0, 0, 1, 0, 1, 1, 0, 1, 1, 0, 0, 0, 0, 0, 0, 0, 0, 0, 0, 0, 0, 1, 0, 1, 0, 0, 0, 0, 0, 0, 1, 0, 0, 0, 0, 0, 0, 1, 1, 0, 1, 0, 1, 0, 0, 1, 0, 0, 0, 1, 0, 1, 1, 0, 0, 0, 0, 0, 0, 0, 0, 0, 1, 0, 0, 0, 0, 0, 0, 0, 1, 0, 1, 0, 0, 0, 0, 0, 0, 1, 0, 1, 0, 1, 0, 0, 1, 1, 1, 0, 0, 1, 1, 0, 0, 1, 1, 0, 0, 0, 1, 0, 0, 1, 0, 0, 0, 1, 1, 1, 1, 0, 0, 1, 1, 1, 1, 0, 1, 0, 0, 1, 0, 0, 0, 0, 1, 0, 1, 0, 0, 0, 1, 0, 1, 1, 0, 1, 0, 0, 0, 0, 0, 0, 0, 1, 1, 0, 1, 0, 0, 1, 0, 1, 0, 0, 1, 0, 0, 0, 0, 1, 0, 0, 0, 1, 0, 1, 0, 0, 0, 1, 0, 0, 0, 1, 0, 1, 1, 0, 1, 0, 0, 0, 0, 0, 0, 1, 0, 1, 1, 0, 1, 0, 0, 0, 0, 0, 1, 1, 0, 0, 0, 1, 1, 0, 0, 1, 1, 0, 1, 1, 1, 1, 1, 0, 1, 1, 0, 1, 0, 1, 1, 0, 0, 0, 0, 1, 1, 0, 0, 1, 1, 1, 0, 1, 1, 1, 1, 0, 0, 1, 1, 0, 0, 1, 0, 0, 0, 0, 0, 0, 1, 0, 0, 0, 1, 1, 1, 0, 0, 0, 0, 0, 0, 0, 0, 0, 0, 1, 0, 0, 1, 1, 1, 1, 0, 0, 0, 0, 1, 1, 1, 1, 0, 1, 0, 0, 0, 0, 0, 1, 0, 1, 0, 1, 1, 0, 0, 0, 1, 0, 0, 1, 0, 1, 1, 0, 0, 0, 1, 0, 0, 0, 0, 0, 1, 1, 0, 0, 1, 0, 0, 1, 1, 0, 1, 0, 0, 1, 0, 0, 0, 0, 1, 0, 0, 0, 0, 0, 0, 0, 0, 1, 0, 0, 1, 0, 1, 1, 1, 1, 0, 0, 0, 1, 0, 0, 1, 1, 0, 1, 1, 0, 0, 0, 0, 1, 0, 0, 1, 0, 0, 1, 1, 0, 1, 1, 1, 0, 1, 1, 1, 0, 0, 0, 1, 1, 0, 1, 1, 0, 0, 0, 1, 1, 0, 1, 0, 0, 0, 0, 0, 1, 0, 1, 0, 0, 0, 0, 0, 0, 1, 0, 1, 0, 0, 0, 1, 0, 0, 0, 1, 0, 1, 1, 1, 1, 1, 0, 0, 0, 0, 0, 0, 0, 1, 1, 0, 1, 0, 1, 0, 0, 0, 0, 0, 1, 0, 0, 1, 1, 0, 1, 0, 0, 0, 0, 0, 1, 1, 0, 0, 0, 1, 0, 0, 0, 0, 0, 0, 1, 0, 1, 0, 0, 1, 0, 0, 0, 1, 1, 0, 1, 0, 0, 0, 1, 0, 1, 0, 1, 0, 0, 0, 1, 1, 0, 0, 0, 0, 0, 0, 1, 0, 1, 0, 0, 0, 0, 0, 1, 0, 0, 0, 0, 1, 0, 0, 1, 1, 0, 0, 0, 1, 1, 0, 0, 1, 1, 1, 1, 0, 0, 1, 0, 1, 0, 0, 0, 0, 1, 0, 0, 1, 0, 0, 1, 0, 0, 1, 0, 0, 0, 1, 1, 1, 1, 0, 0, 0, 0, 1, 0, 1, 0, 0, 0, 1, 0, 0, 1, 1, 1, 0, 0, 0, 0, 0, 1, 0, 1, 1, 0, 1, 0, 1, 1, 1, 0, 1, 0, 0, 1, 0, 1, 1, 1, 1, 0, 1, 0, 1, 1, 0, 0, 0, 0, 0, 0, 1, 1, 1, 0, 1, 0, 1, 0, 0, 0, 1, 1, 1, 1, 0, 0, 0, 0, 0, 0, 0, 1, 0, 0, 0, 0, 1, 0, 0, 0, 0, 1, 0, 0, 0, 0, 0, 0, 0, 1, 1, 0, 0, 0, 0, 0, 1, 0, 1, 1, 0, 0, 0, 0, 1, 1, 1, 0, 0, 0, 0, 0, 0, 1, 1, 0, 1, 0, 0, 0, 1, 1, 0, 0, 0, 0, 0, 0, 1, 0, 1, 0, 0, 0, 0, 1, 1, 1, 0, 0, 0, 0, 1, 0, 1, 1, 1, 0, 0, 0, 0, 0, 0, 0, 0, 1, 0, 0, 0, 1, 0, 1, 1, 0, 0, 1, 0, 1, 1, 0, 1, 1, 1, 0, 1, 1, 0, 1, 0, 0, 0, 0, 0, 0, 0, 0, 1, 1, 0, 1, 1, 1, 1, 0, 0, 0, 0, 0, 0, 1, 0, 0, 0, 0, 0, 1, 0, 0, 1, 0, 1, 0, 0, 0, 0, 0, 0, 0, 0, 0, 0, 1, 0, 1, 0, 0, 0, 1, 1, 0, 0, 0, 1, 1, 0, 0, 1, 1, 0, 1, 0, 0, 0, 1, 0, 0, 0, 1, 0, 0, 0, 1, 0, 1, 1, 0, 0, 0, 0, 1, 0, 0, 1, 1, 1, 0, 0, 0, 0, 0, 1, 1, 1, 1, 1, 0, 1, 0, 1, 1, 1, 0, 1, 0, 0, 0, 1, 1, 1, 0, 0, 0, 0, 0, 1, 1, 1, 0, 0, 0, 0, 1, 0, 0, 0, 1, 1, 0, 1, 1, 1, 0, 0, 0, 0, 0, 0, 1, 1, 0, 0, 0, 0, 0, 0, 0, 0, 1, 1, 0, 1, 1, 1, 1, 0, 1, 0, 0, 0, 0, 1, 0, 0, 1, 1, 0, 0, 0, 0, 1, 0, 1, 0, 0, 1, 0, 0, 0, 1, 0, 0, 0, 1, 1, 0, 1, 1, 0, 0, 0, 1, 1, 0, 0, 0, 1, 0, 0, 0, 0, 1, 0, 0, 1, 0, 0, 0, 1, 1, 1, 1, 1, 1, 1, 0, 0, 0, 0, 0, 0, 1, 0, 0, 0, 1, 1, 0, 0, 0, 1, 0, 0, 0, 1, 1, 0, 0, 0, 0, 0, 1, 1, 0, 1, 1, 0, 0, 1, 0, 0, 0, 0, 0, 0, 0, 0, 0, 1, 0, 0, 0, 1, 0, 0, 0, 0, 1, 0, 1, 0, 0, 1, 0, 0, 0, 1, 0, 1, 0, 0, 0, 1, 0, 0, 0, 1, 0, 1, 0, 0, 1, 1, 0, 0, 0, 0, 1, 1, 0, 1, 0, 1, 0, 1, 0, 1, 0, 0, 0, 0, 1, 0, 0, 0, 0, 0, 0, 0, 0, 0, 1, 0, 0, 0, 0, 1, 0, 1, 0, 0, 0, 0, 0, 0, 1, 0, 1, 1, 0, 0, 0, 0, 0, 0, 0, 0, 0, 1, 1, 1, 0, 0, 0, 0, 0, 1, 0, 1, 1, 1, 0, 0, 0, 0, 1, 1, 0, 1, 0, 0, 0, 0, 0, 0, 0, 0, 1, 0, 0, 0, 0, 0, 0, 0, 1, 0, 0, 1, 0, 0, 0, 0, 0, 0, 0, 0, 1, 0, 0, 1, 0, 0, 1, 1, 0, 0, 1, 0, 0, 1, 0, 0, 0, 0, 0, 0, 0, 0, 0, 0, 0, 1, 0, 0, 0, 1, 0, 0, 0, 1, 1, 1, 0, 0, 1, 1, 0, 1, 1, 1, 0, 0, 0, 0, 0, 0, 0, 0, 0, 0, 0, 0, 0, 1, 0, 0, 1, 0, 0, 1, 1, 0, 0, 1, 0, 0, 0, 0, 1, 1, 1, 1, 0, 0, 0, 0, 0, 1, 1, 0, 1, 0, 0, 0, 1, 0, 1, 0, 0, 1, 1, 1, 1, 0, 0, 1, 0, 0, 0, 0, 0, 0, 0, 0, 1, 0, 0, 0, 1, 0, 1, 0, 0, 0, 0, 0, 0, 0, 0, 0, 0, 0, 0, 1, 0, 0, 0, 1, 0, 1, 0, 0, 1, 0, 0, 1, 1, 1, 1, 0, 0, 0, 1, 0, 1, 0, 1, 0, 1, 0, 1, 0, 0, 1, 0, 0, 0, 0, 0, 1, 0, 1, 1, 0, 1, 1, 0, 0, 1, 0, 1, 1, 1, 1, 1, 0, 0, 1, 1, 0, 0, 0, 0, 0, 0, 1, 1, 1, 1, 0, 0, 0, 1, 0, 0, 0, 1, 0, 1, 0, 0, 1, 1, 0, 0, 0, 0, 0, 0, 1, 0, 1, 1, 0, 1, 0, 0, 1, 0, 0, 0, 0, 0, 0, 1, 0, 1, 1, 0, 1, 0, 0, 1, 0, 1, 0, 0, 0, 0, 0, 1, 0, 1, 1, 0, 0, 1, 0, 0, 0, 0, 1, 0, 1, 0, 1, 1, 1, 1, 0, 1, 0, 1, 1, 1, 1, 1, 1, 0, 0, 0, 0, 0, 1, 0, 0, 0, 0, 0, 0, 0, 0, 0, 0, 0, 0, 0, 0, 0, 0, 0, 0, 0, 0, 0, 1, 0, 1, 0, 1, 1, 0, 0, 1, 0, 1, 1, 1, 0, 0, 1, 1, 0, 0, 0, 0, 0, 1, 0, 0, 0, 1, 0, 0, 0, 0, 1, 1, 0, 1, 0, 0, 1, 0, 1, 0, 0, 0, 1, 0, 0, 0, 1, 0, 0, 0, 1, 0, 0, 0, 1, 0, 1, 1, 0, 0, 1, 1, 1, 0, 1, 0, 0, 0, 0, 0, 0, 1, 1, 0, 0, 1, 0, 0, 0, 1, 1, 1, 0, 1, 1, 0, 0, 1, 1, 0, 0, 1, 0, 0, 1, 0, 1, 1, 1, 1, 0, 1, 0, 1, 1, 0, 0, 0, 0, 0, 1, 1, 0, 0, 1, 0, 0, 1, 1, 1, 1, 1, 0, 1, 0, 0, 0, 1, 1, 0, 0, 0, 0, 0, 1, 1, 0, 0, 0, 0, 1, 0, 0, 0, 0, 0, 0, 0, 0, 1, 0, 0, 0, 1, 1, 0, 1, 0, 0, 0, 0, 1, 0, 0, 1, 0, 1, 0, 0, 1, 0, 0, 1, 0, 1, 0, 0, 0, 0, 0, 1, 0, 0, 1, 0, 0, 0, 0, 1, 0, 0, 1, 0, 0, 1, 0, 1, 0, 0, 0, 0, 0, 0, 0, 1, 1, 0, 0, 0, 0, 0, 0, 1, 0, 0, 0, 0, 0, 0, 0, 1, 0, 1, 0, 0, 1, 1, 1, 0, 0, 1, 1, 1, 1, 1, 0, 1, 0, 0, 0, 0, 0, 0, 0, 1, 0, 0, 0, 0, 0, 0, 0, 1, 1, 1, 1, 0, 1, 0, 1, 0, 1, 0, 0, 1, 1, 0, 1, 1, 1, 0, 1, 0, 1, 1, 0, 0, 0, 1, 0, 0, 1, 0, 1, 1, 0, 0, 1, 1, 0, 0, 0, 1, 0, 0, 1, 0, 0, 0, 1, 0, 0, 0, 0, 0, 0, 1, 0, 1, 0, 1, 0, 0, 1, 0, 0, 0, 0, 0, 1, 1, 0, 0, 1, 1, 1, 0, 1, 0, 1, 0, 1, 0, 1, 1, 0, 0, 1, 0, 1, 0, 1, 0, 0, 0, 1, 0, 1, 0, 0, 1, 0, 0, 0, 0, 0, 0, 1, 0, 0, 1, 0, 0, 0, 0, 1, 0, 1, 0, 0, 1, 0, 1, 1, 0, 0, 0, 0, 0, 1, 1, 1, 0, 1, 0, 0, 0, 0, 0, 0, 0, 0, 0, 0, 1, 0, 0, 1, 0, 0, 0, 0, 1, 0, 0, 1, 0, 0, 0, 0, 0, 0, 1, 0, 0, 1, 1, 1, 1, 0, 1, 0, 0, 0, 1, 0, 0, 1, 0, 0, 0, 1, 1, 0, 0, 1, 1, 1, 0, 1, 0, 0, 0, 0, 0, 0, 0, 0, 1, 0, 1, 1, 0, 0, 0, 1, 0, 0, 0, 0, 0, 1, 1, 0, 0, 1, 0, 1, 0, 1, 0, 1, 0, 0, 1, 0, 0, 0, 0, 0, 0, 0, 1, 0, 1, 1, 0, 1, 0, 1, 1, 0, 0, 0, 0, 0, 0, 0, 1, 0, 0, 0, 0, 1, 0, 1, 0, 1, 1, 1, 0, 0, 1, 0, 0, 1, 1, 0, 1, 0, 0, 0, 0, 0, 0, 1, 0, 0, 1, 1, 0, 1, 0, 0, 0, 0, 0, 1, 0, 0, 0, 0, 0, 1, 1, 0, 1, 0, 0, 0, 1, 0, 1, 1, 0, 0, 0, 0, 0, 0, 0, 0, 0, 1, 1, 0, 0, 0, 0, 0, 0, 0, 0, 0, 0, 0, 1, 0, 1, 1, 0, 0, 0, 0, 0, 1, 0, 0, 1, 0, 1, 1, 0, 0, 0, 0, 1, 1, 0, 0, 1, 0, 1, 1, 0, 1, 0, 0, 1, 1, 1, 1, 0, 1, 1, 0, 1, 1, 1, 0, 0, 0, 0, 1, 0, 0, 0, 0, 0, 0, 0, 1, 1, 0, 1, 1, 1, 0, 0, 0, 1, 0, 1, 0, 1, 0, 1, 1, 0, 0, 1, 0, 1, 1, 1, 0, 1, 0, 0, 1, 0, 1, 1, 1, 0, 1, 0, 0, 0, 1, 0, 0, 0, 0, 1, 0, 1, 0, 0, 1, 1, 1, 0, 1, 0, 0, 0, 0, 0, 0, 0, 1, 0, 1, 1, 0, 1, 0, 0, 1, 0, 1, 0, 0, 0, 0, 0, 0, 1, 1, 0, 0, 1, 0, 1, 0, 0, 1, 1, 0, 0, 1, 0, 1, 0, 1, 0, 0, 1, 0, 0, 0, 1, 0, 1, 1, 0, 1, 0, 0, 1, 0, 0, 1, 1, 0, 0, 0, 0, 0, 1, 0, 0, 0, 0, 0, 0, 1, 0, 1, 0, 0, 0, 0, 1, 1, 0, 0, 1, 0, 0, 1, 0, 1, 1, 0, 0, 0, 0, 1, 0, 1, 1, 1, 0, 0, 0, 0, 1, 0, 0, 0, 1, 1, 0, 0, 0, 1, 0, 0, 0, 1, 0, 0, 1, 0, 0, 1, 0, 1, 1, 1, 0, 0, 1, 0, 0, 1, 0, 0, 0, 1, 1, 0, 1, 0, 0, 0, 1, 0, 0, 0, 0, 0, 0, 0, 1, 1, 1, 0, 1, 1, 0, 1, 0, 0, 0, 0, 0, 0, 1, 1, 1, 0, 0, 0, 1, 1, 0, 0, 1, 0, 0, 0, 1, 1, 0, 1, 1, 0, 1, 1, 0, 0, 0, 0, 0, 1, 0, 0, 0, 0, 0, 0, 0, 0, 0, 0, 0, 0, 0, 0, 0, 1, 1, 1, 0, 0, 0, 0, 0, 0, 0, 0, 0, 0, 0, 0, 0, 0, 0, 1, 1, 0, 0, 0, 1, 0, 1, 0, 1, 0, 0, 0, 0, 1, 0, 1, 0, 0, 1, 1, 0, 1, 1, 1, 0, 0, 1, 0, 0, 1, 0, 1, 0, 0, 0, 1, 1, 1, 1, 0, 1, 1, 0, 1, 1, 1, 0, 0, 1, 0, 0, 0, 1, 1, 0, 0, 0, 1, 0, 1, 0, 0, 0, 0, 1, 0, 0, 1, 1, 1, 0, 1, 1, 1, 0, 0, 1, 0, 1, 0, 0, 0, 0, 1, 0, 1, 0, 1, 1, 0, 1, 0, 0, 0, 0, 1, 1, 0, 0, 1, 0, 1, 1, 0, 1, 0, 0, 0, 1, 0, 0, 0, 1, 0, 0, 0, 1, 1, 0, 0, 1, 1, 1, 1, 0, 1, 1, 0, 1, 0, 0, 0, 0, 0, 0, 0, 0, 0, 0, 0, 1, 0, 0, 1, 0, 1, 0, 1, 0, 0, 0, 1, 1, 0, 1, 1, 1, 1, 0, 0, 1, 1, 0, 0, 0, 0, 1, 1, 0, 0, 0, 0, 1, 0, 0, 1, 0, 0, 0, 1, 0, 0, 1, 0, 1, 0, 0, 0, 0, 0, 0, 1, 1, 0, 0, 1, 0, 1, 1, 0, 0, 1, 0, 1, 0, 0, 1, 0, 0, 1, 0, 0, 0, 0, 1, 1, 0, 0, 0, 0, 0, 1, 1, 0, 0, 0, 0, 0, 1, 0, 1, 0, 1, 0, 1, 0, 0, 0, 0, 1, 0, 0, 0, 0, 0, 0, 1, 0, 0, 0, 0, 0, 0, 0, 0, 1, 0, 1, 1, 0, 1, 0, 0, 0, 1, 1, 0, 0, 0, 0, 0, 1, 0, 1, 0, 1, 0, 1, 1, 0, 0, 0, 1, 1, 0, 1, 0, 1, 0, 0, 1, 0, 0, 1, 1, 0, 0, 0, 0, 1, 1, 0, 1, 0, 0, 0, 1, 1, 0, 0, 1, 0, 0, 0, 0, 1, 1, 0, 0, 0, 1, 0, 0, 1, 1, 0, 0, 0, 0, 0, 1, 0, 1, 1, 1, 0, 0, 0, 0, 1, 0, 0, 0, 0, 1, 0, 1, 0, 0, 1, 0, 1, 1, 1, 1, 0, 0, 0, 0, 0, 1, 0, 1, 1, 1, 1, 0, 1, 1, 0, 0, 0, 0, 1, 1, 0, 0, 0, 1, 0, 1, 0, 1, 1, 1, 0, 0, 1, 0, 0, 1, 1, 0, 0, 0, 0, 0, 0, 1, 0, 0, 0, 0, 1, 0, 1, 1, 0, 1, 1, 0, 0, 0, 1, 0, 0, 1, 1, 0, 0, 0, 0, 0, 0, 0, 1, 1, 0, 0, 0, 0, 0, 0, 1, 0, 0, 1, 0, 0, 0, 1, 0, 1, 1, 0, 1, 1, 0, 1, 0, 0, 1, 0, 0, 1, 0, 1, 0, 0, 1, 0, 0, 0, 0, 0, 1, 0, 1, 0, 1, 1, 0, 0, 0, 0, 0, 0, 0, 0, 1, 0, 1, 0, 0, 0, 0, 0, 1, 1, 0, 0, 1, 1, 1, 1, 1, 0, 0, 1, 1, 0, 1, 0, 1, 0, 1, 0, 0, 0, 1, 0, 1, 0, 0, 0, 0, 1, 1, 1, 1, 0, 0, 0, 0, 0, 0, 0, 0, 0, 0, 1, 0, 0, 0, 1, 0, 1, 0, 1, 1, 0, 0, 0, 1, 1, 0, 0, 1, 0, 1, 0, 1, 0, 0, 0, 0, 0, 0, 0, 1, 1, 0, 1, 1, 1, 0, 0, 0, 0, 1, 1, 0, 0, 0, 1, 1, 0, 0, 0, 1, 0, 1, 0, 0, 0, 1, 0, 1, 1, 0, 1, 1, 0, 0, 1, 0, 0, 0, 0, 0, 1, 1, 0, 0, 0, 0, 1, 1, 0, 1, 0, 1, 0, 0, 1, 0, 1, 0, 1, 1, 0, 0, 1, 0, 1, 1, 0, 0, 0, 0, 0, 1, 0, 1, 0, 0, 0, 0, 0, 0, 1, 0, 0, 0, 0, 0, 1, 0, 0, 0, 0, 0, 1, 0, 0, 0, 1, 0, 1, 0, 1, 1, 0, 1, 0, 0, 1, 0, 0, 0, 0, 0, 1, 0, 0, 0, 0, 0, 1, 0, 0, 0, 0, 1, 1, 0, 0, 0, 1, 0, 0, 1, 0, 0, 1, 0, 1, 0, 1, 0, 0, 1, 0, 0, 0, 0, 0, 0, 0, 0, 1, 0, 0, 0, 0, 1, 1, 1, 0, 1, 1, 1, 0, 1, 0, 1, 1, 0, 0, 1, 0, 0, 0, 0, 0, 1, 0, 0, 1, 0, 0, 0, 0, 1, 0, 1, 1, 0, 0, 0, 1, 0, 0, 0, 0, 0, 1, 1, 0, 1, 0, 0, 0, 0, 0, 1, 0, 0, 0, 0, 0, 1, 0, 0, 0, 1, 1, 1, 1, 1, 0, 0, 0, 0, 0, 0, 0, 0, 0, 0, 0, 1, 0, 0, 0, 0, 0, 0, 1, 0, 0, 0, 1, 0, 0, 0, 1, 0, 0, 0, 0, 0, 0, 0, 0, 0, 1, 0, 0, 0, 0, 0, 1, 0, 1, 0, 0, 0, 1, 0, 1, 0, 0, 0, 1, 0, 0, 1, 1, 0, 0, 0, 0, 0, 0, 0, 0, 1, 0, 0, 0, 1, 1, 0, 1, 0, 1, 0, 1, 0, 1, 0, 1, 1, 0, 1, 1, 0, 1, 0, 0, 1, 0, 0, 1, 0, 0, 0, 0, 0, 1, 0, 0, 1, 0, 1, 0, 0, 1, 0, 0, 1, 1, 1, 1, 0, 1, 0, 1, 0, 0, 1, 0, 0, 0, 1, 0, 0, 0, 1, 0, 1, 1, 1, 0, 0, 0, 0, 1, 1, 1, 0, 0, 0, 0, 0, 0, 0, 0, 1, 1, 1, 0, 0, 0, 1, 1, 0, 0, 1, 0, 0, 0, 1, 0, 1, 0, 0, 0, 1, 1, 0, 0, 1, 0, 0, 1, 0, 0, 1, 0, 0, 0, 0, 0, 0, 1, 1, 0, 0, 0, 1, 1, 0, 1, 0, 1, 0, 1, 1, 1, 1, 1, 0, 0, 0, 1, 1, 0, 0, 0, 0, 0, 1, 0, 1, 0, 0, 1, 0, 0, 1, 1, 1, 0, 0, 0, 0, 0, 1, 1, 0, 1, 1, 0, 1, 0, 0, 0, 0, 1, 0, 0, 0, 0, 0, 0, 0, 0, 1, 1, 0, 0, 0, 0, 1, 1, 0, 0, 0, 0, 0, 0, 0, 0, 0, 0, 0, 1, 0, 1, 0, 0, 0, 0, 0, 0, 1, 1, 1, 0, 1, 0, 0, 0, 0, 0, 0, 1, 1, 1, 0, 0, 1, 1, 0, 0, 1, 0, 1, 0, 0, 0, 1, 0, 0, 0, 0, 0, 1, 1, 0, 1, 1, 0, 0, 0, 0, 1, 0, 0, 1, 0, 0, 0, 1, 1, 1, 1, 0, 0, 0, 0, 0, 0, 1, 0, 0, 0, 0, 1, 1, 1, 1, 0, 1, 0, 0, 1, 0, 1, 0, 1, 0, 0, 0, 0, 1, 0, 1, 1, 0, 0, 0, 0, 0, 1, 0, 0, 1, 0, 0, 1, 0, 1, 0, 1, 0, 1, 0, 0, 0, 0, 1, 0, 1, 0, 0, 1, 1, 0, 0, 1, 1, 1, 0, 1, 0, 1, 1, 0, 1, 1, 0, 0, 0, 0, 1, 0, 0, 0, 0, 1, 1, 0, 0, 0, 0, 1, 1, 1, 0, 1, 0, 0, 1, 0, 0, 0, 1, 0, 0, 1, 0, 0, 1, 1, 1, 0, 0, 0, 1, 0, 0, 0, 0, 0, 0, 0, 0, 1, 0, 0, 0, 1, 1, 0, 0, 0, 1, 0, 1, 0, 1, 0, 0, 1, 1, 0, 1, 0, 0, 0, 0, 0, 0, 0, 0, 0, 0, 0, 0, 0, 1, 0, 1, 1, 1, 0, 0, 0, 1, 0, 0, 1, 0, 0, 0, 1, 0, 0, 0, 1, 0, 0, 1, 1, 1, 0, 0, 1, 1, 0, 0, 1, 0, 0, 1, 0, 0, 0, 0, 1, 1, 1, 0, 1, 1, 1, 0, 1, 0, 0, 0, 1, 0, 1, 1, 0, 1, 0, 0, 1, 0, 0, 1, 1, 0, 1, 1, 0, 0, 0, 0, 1, 1, 0, 1, 0, 0, 0, 0, 0, 0, 0, 0, 0, 0, 0, 0, 0, 0, 0, 1, 1, 0, 0, 1, 0, 0, 0, 0, 0, 0, 0, 1, 0, 0, 0, 0, 0, 0, 0, 1, 0, 0, 0, 0, 0, 1, 0, 0, 0, 0, 0, 0, 0, 0, 0, 1, 0, 1, 0, 0, 0, 1, 1, 1, 0, 1, 0, 0, 0, 0, 0, 1, 0, 0, 1, 0, 0, 0, 1, 1, 0, 1, 0, 0, 0, 0, 0, 0, 1, 0, 0, 1, 0, 0, 0, 0, 0, 1, 0, 0, 0, 1, 1, 0, 0, 0, 0, 0, 0, 1, 0, 0, 0, 0, 0, 1, 1, 0, 0, 0, 0, 1, 0, 1, 1, 1, 1, 0, 0, 0, 1, 1, 0, 1, 1, 1, 0, 1, 0, 0, 0, 1, 0, 1, 0, 1, 1, 0, 1, 0, 0, 0, 0, 0, 0, 0, 0, 0, 1, 1, 1, 0, 1, 1, 1, 0, 0, 0, 0, 0, 0, 0, 1, 0, 0, 0, 0, 1, 1, 0, 1, 1, 0, 0, 1, 0, 1, 1, 0, 0, 0, 1, 0, 0, 0, 1, 0, 0, 1, 0, 0, 1, 0, 0, 0, 1, 0, 1, 0, 0, 0, 0, 0, 0, 1, 0, 0, 1, 1, 0, 1, 0, 0, 0, 0, 0, 0, 0, 0, 0, 1, 0, 0, 1, 0, 1, 1, 0, 0, 0, 1, 1, 1, 0, 0, 0, 1, 0, 1, 1, 0, 1, 0, 0, 0, 1, 0, 1, 0, 0, 1, 0, 0, 1, 0, 0, 1, 0, 0, 0, 0, 0, 0, 0, 0, 1, 0, 0, 0, 0, 0, 0, 0, 1, 0, 0, 1, 1, 0, 0, 0, 0, 0, 1, 0, 0, 0, 1, 0, 0, 1, 0, 0, 0, 0, 1, 0, 1, 1, 0, 0, 1, 0, 1, 1, 0, 0, 0, 1, 1, 1, 0, 0, 0, 0, 0, 0, 1, 0, 0, 1, 0, 0, 1, 1, 1, 0, 0, 0, 0, 0, 0, 1, 0, 0, 1, 0, 0, 0, 0, 0, 0, 1, 0, 1, 1, 0, 0, 0, 0, 0, 0, 0, 1, 1, 0, 0, 0, 1, 1, 0, 1, 1, 1, 1, 0, 0, 0, 1, 0, 0, 0, 0, 0, 0, 1, 1, 0, 1, 1, 0, 0, 1, 1, 1, 0, 1, 1, 0, 0, 1, 1, 0, 0, 0, 0, 1, 0, 0, 1, 0, 1, 0, 0, 0, 0, 1, 1, 1, 1, 0, 0, 1, 1, 0, 0, 0, 1, 1, 0, 0, 0, 0, 0, 0, 0, 1, 0, 1, 0, 1, 1, 0, 0, 0, 0, 0, 0, 0, 0, 0, 0, 1, 1, 0, 0, 1, 0, 0, 1, 1, 1, 0, 1, 1, 0, 1, 1, 0, 0, 0, 0, 0, 1, 0, 1, 1, 1, 0, 0, 0, 1, 0, 0, 1, 1, 1, 0, 0, 0, 0, 0, 0, 1, 0, 0, 0, 0, 0, 0, 0, 0, 0, 0, 1, 1, 1, 0, 0, 0, 1, 0, 0, 1, 0, 0, 0, 0, 0, 0, 0, 1, 0, 0, 0, 0, 0, 1, 0, 1, 1, 0, 0, 0, 0, 0, 0, 1, 1, 0, 0, 0, 1, 0, 0, 1, 0, 0, 0, 0, 0, 0, 0, 0, 0, 0, 0, 1, 0, 1, 1, 0, 1, 0, 0, 0, 0, 0, 0, 0, 0, 1, 0, 0, 1, 1, 1, 1, 1, 0, 0, 0, 0, 0, 0, 0, 0, 0, 0, 1, 0, 1, 0, 1, 0, 0, 1, 0, 1, 1, 0, 1, 1, 1, 1, 0, 0, 1, 0, 0, 0, 0, 0, 1, 0, 0, 1, 0, 1, 0, 0, 0, 1, 1, 1, 1, 1, 1, 1, 0, 0, 0, 0, 0, 0, 0, 0, 0, 0, 1, 0, 0, 1, 1, 0, 0, 0, 0, 1, 0, 1, 0, 0, 0, 0, 1, 0, 0, 1, 1, 0, 0, 0, 1, 1, 0, 0, 0, 0, 1, 0, 0, 0, 0, 1, 0, 1, 0, 1, 0, 0, 1, 0, 1, 0, 0, 0, 0, 1, 1, 0, 1, 0, 1, 0, 0, 0, 1, 0, 0, 1, 0, 0, 0, 0, 0, 1, 1, 0, 1, 1, 0, 0, 0, 0, 0, 0, 0, 0, 0, 1, 1, 0, 0, 0, 1, 0, 0, 0, 0, 0, 1, 0, 0, 0, 0, 0, 0, 0, 0, 1, 0, 0, 0, 1, 1, 1, 1, 0, 1, 0, 0, 1, 1, 0, 0, 1, 0, 0, 1, 0, 0, 1, 0, 0, 1, 0, 0, 0, 0, 1, 0, 0, 1, 0, 1, 0, 0, 0, 0, 0, 0, 0, 0, 1, 0, 1, 0, 0, 1, 1, 0, 0, 0, 1, 1, 0, 0, 0, 0, 1, 1, 0, 0, 0, 0, 0, 1, 0, 0, 0, 0, 0, 1, 1, 0, 0, 0, 0, 0, 0, 0, 0, 1, 0, 1, 1, 1, 0, 0, 1, 1, 0, 1, 0, 0, 1, 1, 0, 0, 1, 0, 0, 0, 1, 0, 1, 0, 0, 0, 0, 0, 0, 0, 0, 0, 0, 0, 1, 0, 1, 0, 0, 0, 0, 0, 0, 0, 1, 1, 0, 1, 1, 0, 0, 0, 1, 0, 1, 0, 1, 0, 0, 0, 0, 0, 0, 0, 0, 0, 0, 1, 1, 0, 1, 1, 0, 1, 0, 0, 0, 1, 1, 0, 0, 0, 0, 0, 1, 0, 0, 1, 0, 0, 0, 0, 0, 0, 1, 1, 0, 0, 0, 0, 0, 0, 0, 0, 1, 1, 1, 0, 0, 0, 0, 0, 1, 0, 1, 1, 0, 1, 1, 0, 0, 0, 0, 0, 1, 1, 1, 0, 1, 0, 0, 1, 1, 0, 0, 1, 1, 0, 1, 0, 0, 0, 0, 0, 1, 0, 1, 0, 1, 0, 0, 1, 1, 0, 0, 1, 0, 1, 1, 1, 1, 0, 0, 1, 1, 0, 0, 0, 0, 0, 1, 0, 1, 0, 0, 0, 1, 0, 0, 0, 0, 1, 0, 0, 0, 0, 0, 1, 1, 0, 1, 0, 1, 0, 1, 1, 0, 1, 1, 0, 0, 0, 0, 0, 0, 0, 0, 1, 0, 1, 0, 0, 0, 1, 0, 0, 0, 0, 0, 1, 0, 0, 1, 1, 0, 0, 0, 0, 0, 1, 0, 0, 1, 0, 0, 0, 0, 0, 0, 0, 0, 1, 1, 0, 1, 0, 0, 1, 0, 0, 0, 0, 0, 0, 0, 0, 0, 0, 1, 1, 0, 0, 0, 1, 1, 1, 0, 0, 0, 0, 0, 0, 0, 1, 0, 1, 0, 0, 1, 0, 1, 0, 0, 1, 0, 0, 0, 0, 1, 0, 0, 0, 0, 0, 0, 1, 1, 1, 0, 0, 0, 0, 0, 1, 0, 0, 0, 1, 0, 1, 0, 1, 1, 0, 0, 1, 1, 1, 1, 0, 0, 0, 0, 1, 0, 0, 0, 1, 0, 1, 0, 1, 1, 1, 0, 1, 0, 0, 0, 0, 0, 0, 0, 0, 1, 0, 1, 0, 0, 1, 0, 1, 1, 0, 0, 0, 0, 0, 1, 0, 0, 1, 0, 1, 0, 0, 1, 0, 0, 0, 0, 0, 1, 1, 0, 1, 0, 1, 0, 0, 0, 0, 1, 1, 0, 1, 0, 0, 1, 1, 0, 1, 0, 0, 1, 0, 0, 0, 0, 0, 0, 0, 1, 0, 0, 0, 0, 1, 0, 0, 0, 1, 1, 0, 0, 0, 0, 1, 1, 0, 0, 0, 0, 0, 0, 1, 0, 0, 0, 0, 1, 0, 1, 0, 0, 1, 0, 1, 0, 0, 1, 1, 1, 1, 0, 1, 0, 1, 1, 1, 0, 0, 1, 1, 0, 0, 0, 0, 0, 0, 0, 0, 1, 0, 0, 0, 0, 0, 0, 0, 1, 1, 0, 0, 1, 0, 1, 1, 0, 1, 0, 0, 0, 1, 0, 1, 1, 1, 0, 0, 1, 0, 0, 1, 0, 1, 0, 1, 1, 1, 0, 1, 0, 0, 1, 1, 1, 1, 1, 1, 0, 0, 0, 1, 0, 0, 0, 1, 0, 0, 0, 0, 0, 0, 0, 0, 0, 0, 0, 1, 0, 0, 0, 0, 1, 0, 0, 0, 1, 0, 0, 1, 0, 0, 1, 0, 1, 1, 0, 0, 0, 0, 0, 0, 0, 1, 0, 0, 0, 1, 1, 0, 0, 1, 1, 1, 0, 0, 1, 1, 0, 1, 0, 0, 1, 1, 0, 0, 0, 1, 0, 0, 0, 0, 1, 0, 0, 0, 1, 0, 1, 1, 0, 0, 0, 0, 1, 1, 1, 0, 0, 0, 0, 0, 1, 1, 0, 0, 0, 0, 0, 1, 0, 1, 0, 1, 0, 0, 1, 0, 0, 0, 0, 0, 0, 1, 1, 0, 0, 0, 1, 0, 1, 1, 0, 0, 0, 1, 1, 0, 0, 1, 0, 1, 0, 1, 1, 1, 0, 0, 0, 0, 1, 0, 0, 1, 1, 1, 0, 0, 0, 1, 0, 1, 1, 0, 0, 1, 1, 0, 0, 0, 1, 0, 0, 1, 0, 0, 0, 0, 1, 0, 0, 0, 1, 0, 1, 0, 0, 0, 1, 0, 0, 1, 1, 0, 0, 1, 0, 1, 1, 0, 0, 0, 0, 1, 0, 0, 1, 1, 1, 0, 1, 1, 0, 0, 0, 1, 0, 0, 1, 1, 0, 0, 1, 0, 1, 0, 0, 1, 0, 0, 1, 1, 1, 1, 0, 0, 0, 1, 0, 0, 0, 1, 1, 0, 0, 0, 0, 0, 0, 0, 1, 0, 1, 1, 0, 0, 0, 0, 1, 0, 1, 0, 0, 0, 0, 0, 1, 1, 0, 1, 1, 0, 0, 0, 1, 0, 1, 0, 0, 0, 1, 0, 0, 1, 0, 0, 0, 1, 0, 1, 1, 0, 0, 0, 0, 0, 0, 1, 1, 1, 1, 0, 0, 0, 0, 0, 0, 0, 0, 0, 1, 0, 1, 1, 0, 1, 0, 1, 0, 0, 0, 1, 0, 1, 0, 0, 0, 0, 0, 1, 1, 0, 0, 0, 0, 0, 0, 1, 1, 1, 0, 0, 1, 0, 0, 0, 1, 0, 0, 0, 0, 0, 0, 1, 0, 1, 0, 0, 0, 1, 1, 0, 0, 0, 1, 0, 0, 1, 1, 0, 1, 0, 0, 0, 0, 1, 1, 0, 0, 1, 0, 0, 1, 0, 0, 1, 1, 0, 0, 1, 0, 1, 0, 0, 1, 0, 0, 0, 0, 0, 1, 0, 1, 0, 1, 1, 0, 0, 0, 1, 1, 0, 1, 0, 0, 0, 0, 1, 0, 1, 0, 1, 0, 1, 1, 0, 1, 1, 0, 0, 0, 1, 0, 0, 1, 0, 0, 0, 0, 1, 0, 1, 1, 0, 1, 0, 0, 0, 0, 1, 1, 1, 0, 1, 0, 1, 1, 1, 1, 0, 0, 0, 1, 1, 0, 1, 1, 0, 1, 1, 0, 0, 0, 0, 0, 0, 0, 0, 0, 0, 1, 1, 1, 0, 1, 0, 0, 0, 1, 0, 0, 0, 0, 1, 1, 1, 0, 0, 0, 0, 0, 0, 1, 1, 0, 1, 0, 1, 1, 0, 1, 0, 0, 0, 1, 0, 1, 0, 1, 1, 1, 0, 1, 0, 1, 0, 0, 0, 1, 1, 1, 0, 0, 1, 0, 1, 0, 0, 0, 0, 0, 0, 0, 0, 0, 1, 0, 0, 0, 1, 0, 0, 0, 0, 0, 1, 0, 1, 0, 0, 0, 0, 1, 0, 1, 0, 1, 0, 0, 1, 0, 0, 0, 1, 1, 0, 1, 1, 0, 0, 0, 1, 0, 1, 1, 0, 1, 1, 1, 0, 1, 0, 0, 0, 0, 0, 0, 0, 1, 1, 0, 0, 0, 1, 1, 1, 0, 1, 0, 0, 1, 0, 0, 0, 0, 0, 0, 0, 0, 1, 0, 1, 0, 1, 0, 0, 1, 0, 1, 0, 1, 1, 0, 1, 1, 1, 1, 0, 0, 1, 0, 1, 1, 0, 0, 0, 0, 1, 1, 0, 0, 0, 0, 1, 0, 1, 1, 1, 0, 0, 0, 0, 0, 0, 0, 0, 1, 1, 0, 0, 0, 1, 1, 0, 0, 1, 1, 1, 0, 1, 0, 1, 0, 0, 1, 1, 0, 0, 0, 0, 1, 0, 0, 0, 0, 0, 1, 0, 0, 0, 0, 1, 0, 1, 0, 1, 0, 1, 0, 0, 0, 0, 1, 0, 0, 0, 0, 0, 0, 0, 1, 0, 0, 1, 0, 1, 0, 0, 1, 1, 1, 0, 1, 0, 0, 0, 0, 0, 0, 0, 1, 0, 0, 1, 1, 0, 1, 0, 1, 0, 0, 1, 1, 1, 0, 1, 0, 0, 0, 0, 0, 1, 0, 0, 0, 0, 0, 0, 0, 0, 0, 1, 0, 0, 0, 0, 0, 0, 0, 1, 0, 0, 1, 0, 0, 1, 0, 0, 1, 0, 1, 0, 0, 1, 0, 0, 0, 1, 0, 0, 0, 1, 0, 1, 1, 0, 0, 1, 0, 1, 0, 0, 0, 1, 0, 0, 0, 0, 0, 1, 0, 0, 0, 0, 1, 0, 0, 0, 1, 1, 1, 1, 1, 1, 0, 0, 0, 1, 0, 0, 0, 1, 0, 0, 1, 0, 1, 1, 1, 0, 1, 0, 0, 0, 0, 0, 1, 1, 0, 1, 1, 0, 0, 0, 0, 0, 0, 1, 0, 0, 0, 0, 0, 0, 1, 0, 0, 0, 0, 1, 0, 1, 0, 0, 0, 0, 0, 0, 1, 1, 0, 0, 1, 0, 0, 0, 0, 1, 1, 1, 0, 0, 0, 1, 1, 0, 1, 1, 0, 0, 0, 0, 0, 0, 1, 0, 0, 0, 0, 0, 0, 0, 1, 0, 1, 1, 1, 0, 0, 0, 1, 0, 1, 0, 1, 0, 1, 1, 0, 1, 0, 1, 0, 1, 1, 1, 0, 0, 0, 1, 0, 0, 0, 0, 0, 0, 0, 1, 1, 0, 1, 1, 1, 1, 1, 1, 0, 1, 0, 0, 0, 0, 0, 0, 1, 0, 1, 1, 1, 1, 0, 0, 0, 0, 1, 0, 0, 0, 0, 0, 0, 1, 1, 0, 1, 0, 0, 0, 1, 1, 0, 1, 0, 1, 0, 0, 0, 0, 0, 0, 1, 0, 0, 0, 0, 0, 1, 0, 0, 1, 1, 0, 1, 0, 0, 1, 1, 1, 0, 0, 0, 0, 1, 0, 1, 0, 0, 0, 1, 0, 0, 0, 1, 0, 0, 0, 0, 0, 0, 1, 1, 1, 0, 1, 0, 0, 1, 0, 0, 0, 0, 1, 0, 0, 0, 1, 1, 0, 0, 1, 0, 1, 0, 0, 1, 0, 1, 1, 0, 0, 1, 1, 1, 0, 0, 0, 0, 1, 0, 0, 0, 0, 0, 0, 0, 0, 0, 0, 1, 1, 0, 1, 0, 1, 0, 0, 1, 0, 0, 1, 0, 0, 0, 1, 1, 0, 0, 0, 0, 0, 1, 1, 1, 0, 0, 1, 0, 0, 0, 1, 1, 1, 1, 0, 1, 0, 1, 0, 1, 0, 0, 1, 0, 0, 0, 1, 0, 0, 1, 0, 0, 0, 0, 0, 1, 0, 1, 0, 1, 0, 0, 1, 1, 1, 0, 1, 0, 1, 0, 0, 1, 1, 0, 0, 1, 0, 1, 0, 1, 0, 0, 1, 0, 0, 1, 0, 0, 0, 1, 0, 1, 1, 1, 0, 1, 1, 0, 1, 0, 0, 0, 1, 1, 0, 1, 0, 0, 1, 0, 1, 0, 0, 0, 1, 0, 0, 1, 0, 0, 0, 1, 0, 1, 1, 0, 0, 0, 1, 0, 0, 0, 0, 0, 0, 0, 1, 0, 0, 1, 1, 1, 0, 1, 1, 0, 0, 0, 0, 0, 0, 0, 0, 0, 1, 1, 0, 0, 1, 1, 1, 1, 0, 1, 0, 0, 0, 0, 0, 0, 1, 0, 0, 0, 1, 0, 0, 1, 0, 1, 1, 0, 0, 1, 0, 1, 0, 0, 1, 1, 0, 1, 0, 0, 1, 1, 1, 0, 1, 0, 0, 0, 0, 0, 0, 0, 0, 0, 1, 0, 1, 0, 0, 0, 0, 0, 1, 1, 1, 0, 0, 1, 0, 0, 0, 0, 0, 0, 0, 1, 0, 0, 0, 1, 0, 1, 0, 0, 0, 1, 0, 1, 1, 0, 1, 1, 0, 1, 0, 1, 0, 0, 0, 0, 0, 0, 1, 0, 0, 0, 1, 0, 1, 0, 0, 0, 0, 0, 1, 1, 0, 1, 1, 0, 0, 0, 1, 1, 0, 1, 0, 0, 0, 1, 0, 1, 1, 0, 1, 0, 0, 0, 0, 0, 0, 0, 0, 0, 0, 0, 0, 1, 0, 1, 1, 1, 0, 0, 0, 1, 0, 0, 0, 1, 1, 0, 1, 0, 1, 1, 1, 1, 0, 0, 0, 1, 0, 1, 1, 0, 0, 0, 1, 1, 0, 0, 0, 0, 1, 0, 0, 0, 0, 1, 0, 0, 0, 1, 0, 0, 1, 0, 0, 1, 0, 1, 1, 0, 1, 1, 0, 0, 1, 0, 0, 1, 0, 1, 0, 0, 1, 0, 1, 0, 0, 0, 0, 0, 0, 1, 0, 0, 0, 1, 1, 0, 0, 0, 1, 1, 0, 1, 1, 1, 0, 0, 0, 0, 0, 0, 0, 1, 0, 0, 1, 1, 0, 0, 0, 1, 1, 0, 0, 1, 1, 1, 1, 0, 0, 0, 0, 0, 0, 1, 1, 0, 0, 0, 0, 0, 0, 0, 0, 0, 0, 0, 0, 1, 1, 0, 1, 1, 0, 0, 0, 0, 1, 0, 0, 1, 0, 0, 0, 0, 0, 1, 0, 0, 0, 0, 0, 0, 0, 0, 0, 0, 0, 1, 0, 0, 0, 0, 1, 0, 0, 1, 1, 0, 1, 0, 1, 0, 0, 0, 0, 0, 0, 0, 1, 0, 0, 1, 1, 1, 1, 0, 0, 0, 1, 0, 0, 0, 0, 0, 0, 1, 1, 1, 0, 0, 1, 0, 0, 1, 0, 0, 0, 0, 0, 0, 0, 0, 0, 1, 0, 0, 0, 1, 1, 1, 0, 0, 1, 1, 0, 0, 1, 0, 0, 0, 0, 1, 0, 1, 1, 0, 0, 0, 0, 0, 0, 0, 0, 0, 0, 0, 1, 0, 0, 1, 0, 1, 0, 1, 1, 1, 0, 1, 0, 0, 1, 0, 0, 1, 1, 1, 0, 0, 0, 0, 0, 0, 0, 0, 1, 0, 1, 0, 0, 0, 0, 1, 1, 1, 1, 0, 1, 1, 0, 0, 0, 0, 0, 1, 0, 0, 0, 1, 0, 1, 1, 1, 0, 0, 1, 1, 1, 1, 0, 0, 0, 0, 0, 1, 1, 0, 0, 1, 1, 0, 0, 0, 1, 0, 0, 1, 0, 0, 0, 0, 0, 0, 0, 1, 1, 0, 0, 0, 0, 1, 0, 0, 0, 0, 0, 1, 0, 0, 0, 0, 1, 1, 0, 1, 1, 1, 1, 0, 0, 0, 0, 1, 0, 0, 0, 0, 1, 0, 0, 1, 0, 1, 0, 0, 0, 1, 0, 1, 1, 0, 0, 0, 1, 0, 0, 0, 1, 1, 0, 0, 0, 1, 0, 1, 0, 1, 0, 0, 1, 1, 1, 1, 0, 0, 1, 0, 0, 1, 0, 0, 0, 0, 1, 1, 1, 1, 0, 0, 0, 0, 0, 0, 0, 0, 0, 0, 1, 1, 0, 1, 0, 1, 1, 1, 1, 1, 0, 1, 0, 1, 1, 0, 0, 0, 0, 0, 1, 0, 1, 0, 1, 0, 1, 0, 0, 0, 0, 0, 0, 0, 1, 0, 0, 0, 0, 0, 1, 1, 0, 0, 0, 1, 0, 0, 0, 0, 0, 0, 0, 1, 1, 1, 0, 0, 0, 0, 0, 0, 1, 1, 0, 0, 0, 1, 0, 1, 1, 1, 0, 1, 1, 1, 0, 1, 1, 0, 1, 0, 1, 0, 0, 0, 0, 0, 0, 1, 1, 0, 0, 1, 1, 0, 0, 1, 1, 0, 1, 0, 0, 0, 1, 0, 1, 1, 0, 1, 0, 0, 1, 0, 0, 0, 0, 0, 0, 0, 1, 0, 0, 0, 0, 1, 1, 0, 0, 0, 0, 0, 1, 1, 1, 1, 0, 1, 1, 0, 1, 0, 0, 0, 0, 1, 0, 0, 0, 0, 0, 1, 0, 0, 0, 1, 1, 0, 0, 0, 0, 0, 1, 0, 0, 0, 0, 0, 0, 0, 1, 0, 1, 0, 0, 1, 0, 0, 0, 1, 0, 1, 0, 1, 0, 1, 0, 1, 1, 0, 1, 0, 1, 0, 1, 0, 0, 0, 1, 0, 1, 0, 1, 0, 0, 1, 1, 0, 0, 1, 1, 1, 0, 1, 0, 0, 1, 0, 0, 0, 1, 0, 0, 1, 0, 1, 0, 0, 0, 1, 0, 1, 0, 0, 1, 0, 0, 1, 0, 0, 1, 0, 0, 0, 1, 0, 0, 0, 0, 0, 0, 0, 0, 0, 0, 0, 0, 0, 1, 1, 0, 1, 1, 0, 0, 0, 0, 0, 0, 0, 0, 0, 0, 0, 0, 1, 0, 0, 0, 0, 1, 0, 0, 1, 0, 1, 0, 0, 0, 0, 0, 1, 0, 0, 0, 0, 0, 0, 0, 0, 0, 0, 1, 0, 0, 1, 0, 0, 1, 0, 0, 0, 0, 0, 1, 0, 1, 0, 1, 0, 0, 0, 1, 1, 0, 1, 0, 0, 1, 1, 0, 0, 0, 0, 0, 0, 1, 0, 1, 0, 0, 0, 0, 1, 0, 0, 0, 1, 1, 0, 0, 1, 0, 1, 0, 0, 0, 0, 0, 0, 0, 1, 1, 1, 0, 1, 1, 0, 0, 0, 0, 1, 0, 0, 0, 0, 0, 0, 0, 0, 0, 0, 1, 0, 0, 0, 0, 1, 0, 1, 0, 1, 0, 1, 0, 0, 0, 0, 0, 1, 0, 1, 0, 1, 1, 0, 0, 0, 1, 1, 1, 0, 0, 0, 1, 0, 1, 0, 1, 0, 0, 1, 0, 1, 1, 0, 0, 0, 0, 0, 1, 0, 0, 0, 0, 1, 1, 1, 0, 0, 0, 1, 0, 0, 1, 1, 1, 0, 0, 0, 1, 0, 0, 1, 1, 1, 0, 0, 1, 0, 1, 1, 1, 1, 0, 0, 1, 0, 0, 1, 1, 0, 0, 1, 1, 1, 0, 1, 1, 1, 0, 1, 1, 0, 0, 1, 0, 0, 0, 1, 0, 0, 0, 0, 0, 0, 0, 1, 0, 0, 1, 0, 0, 0, 1, 0, 0, 1, 1, 1, 1, 0, 1, 0, 0, 0, 0, 0, 1, 0, 0, 1, 0, 1, 1, 1, 0, 0, 0, 0, 0, 1, 0, 0, 0, 0, 0, 1, 0, 0, 1, 0, 0, 1, 1, 0, 1, 0, 1, 0, 0, 1, 1, 0, 0, 1, 0, 0, 0, 1, 0, 0, 0, 1, 0, 0, 0, 0, 0, 1, 0, 0, 0, 0, 0, 0, 0, 1, 0, 0, 0, 0, 1, 0, 0, 0, 1, 0, 0, 0, 1, 0, 0, 0, 1, 0, 0, 1, 0, 0, 0, 0, 0, 0, 1, 0, 1, 1, 0, 0, 1, 0, 0, 0, 0, 0, 1, 0, 1, 0, 0, 0, 0, 0, 0, 1, 0, 1, 0, 0, 1, 1, 1, 0, 1, 1, 0, 0, 0, 0, 0, 0, 0, 1, 0, 1, 0, 1, 1, 1, 0, 0, 0, 0, 0, 1, 0, 0, 0, 0, 0, 0, 1, 0, 0, 0, 1, 0, 1, 0, 0, 1, 0, 1, 1, 0, 0, 0, 0, 0, 0, 1, 1, 0, 0, 0, 0, 0, 1, 1, 0, 1, 0, 0, 0, 1, 0, 0, 0, 0, 1, 1, 0, 0, 0, 1, 0, 1, 0, 0, 0, 1, 0, 0, 0, 1, 1, 1, 0, 0, 0, 1, 0, 0, 0, 1, 0, 0, 0, 0, 0, 0, 0, 1, 1, 0, 1, 0, 1, 0, 0, 1, 0, 0, 1, 0, 0, 1, 0, 0, 0, 0, 0, 0, 0, 1, 0, 0, 0, 0, 0, 0, 0, 0, 0, 0, 0, 1, 1, 0, 0, 1, 0, 0, 0, 1, 0, 0, 0, 0, 1, 1, 1, 0, 0, 0, 0, 0, 0, 0, 1, 1, 0, 0, 0, 0, 0, 0, 0, 0, 0, 1, 0, 0, 1, 0, 0, 0, 1, 0, 0, 1, 1, 0, 0, 1, 0, 1, 0, 1, 1, 1, 0, 1, 0, 0, 0, 0, 0, 0, 1, 0, 0, 0, 0, 1, 0, 1, 1, 0, 0, 0, 1, 0, 1, 0, 0, 0, 1, 1, 0, 0, 1, 1, 1, 0, 1, 1, 0, 0, 0, 0, 0, 0, 0, 1, 0, 0, 1, 1, 1, 1, 0, 0, 1, 1, 1, 0, 1, 1, 0, 0, 0, 0, 0, 0, 0, 1, 0, 0, 0, 0, 0, 1, 1, 0, 1, 0, 0, 1, 0, 1, 0, 1, 0, 0, 1, 0, 0, 0, 1, 0, 0, 0, 0, 0, 1, 0, 0, 0, 0, 0, 0, 0, 1, 0, 0, 0, 0, 1, 0, 0, 1, 0, 1, 0, 0, 0, 0, 0, 0, 1, 0, 0, 1, 0, 1, 0, 0, 1, 0, 0, 1, 1, 0, 1, 0, 0, 1, 0, 1, 1, 1, 0, 1, 1, 0, 0, 0, 1, 1, 1, 1, 0, 0, 0, 0, 0, 1, 1, 1, 0, 0, 0, 0, 0, 1, 1, 0, 0, 0, 1, 1, 0, 0, 0, 1, 0, 1, 0, 0, 1, 0, 1, 1, 0, 0, 1, 0, 1, 0, 1, 1, 0, 0, 1, 0, 0, 0, 0, 0, 0, 0, 0, 0, 0, 1, 0, 0, 0, 0, 0, 0, 1, 1, 1, 1, 0, 0, 0, 0, 1, 0, 1, 0, 1, 0, 0, 0, 0, 1, 0, 0, 1, 0, 1, 0, 1, 1, 0, 0, 0, 1, 0, 0, 0, 1, 0, 0, 1, 0, 0, 0, 1, 0, 0, 1, 0, 1, 1, 0, 1, 0, 0, 0, 1, 0, 0, 0, 0, 0, 1, 0, 0, 0, 0, 0, 0, 0, 1, 0, 1, 0, 0, 1, 1, 0, 1, 0, 1, 0, 0, 0, 0, 0, 0, 0, 0, 0, 1, 0, 0, 1, 0, 1, 0, 0, 1, 0, 0, 0, 0, 0, 0, 0, 0, 0, 0, 0, 0, 1, 1, 0, 1, 0, 0, 0, 0, 0, 0, 0, 0, 0, 0, 0, 0, 1, 0, 1, 0, 0, 1, 1, 0, 0, 0, 0, 0, 1, 0, 0, 1, 0, 1, 1, 0, 0, 1, 0, 0, 0, 1, 0, 0, 0, 1, 1, 0, 0, 1, 0, 0, 0, 0, 0, 1, 1, 0, 0, 1, 0, 0, 0, 1, 0, 0, 1, 0, 0, 0, 0, 0, 0, 0, 0, 0, 0, 1, 0, 0, 1, 0, 0, 0, 1, 0, 1, 0, 0, 0, 1, 1, 0, 0, 1, 0, 1, 1, 1, 0, 0, 0, 1, 0, 0, 0, 0, 0, 0, 1, 0, 0, 0, 1, 1, 0, 1, 1, 1, 1, 0, 0, 1, 0, 0, 0, 0, 1, 1, 1, 0, 0, 0, 0, 1, 0, 0, 0, 1, 1, 0, 0, 1, 0, 0, 1, 0, 0, 1, 1, 0, 1, 0, 1, 0, 1, 0, 0, 0, 0, 0, 0, 0, 1, 0, 0, 0, 1, 0, 1, 0, 0, 1, 0, 0, 0, 1, 0, 0, 1, 1, 1, 1, 0, 0, 1, 1, 0, 0, 0, 0, 1, 0, 0, 0, 1, 0, 0, 0, 0, 0, 1, 1, 0, 0, 0, 0, 0, 1, 0, 0, 0, 1, 0, 1, 1, 0, 1, 0, 1, 1, 1, 1, 0, 1, 0, 0, 0, 0, 0, 1, 1, 1, 0, 0, 0, 0, 1, 1, 1, 0, 0, 1, 0, 0, 1, 1, 0, 0, 1, 0, 1, 0, 0, 0, 0, 0, 0, 1, 0, 0, 1, 1, 0, 1, 1, 0, 0, 0, 0, 1, 0, 0, 0, 1, 0, 1, 1, 1, 0, 0, 0, 0, 1, 0, 1, 0, 1, 0, 0, 1, 1, 0, 1, 1, 0, 0, 0, 0, 1, 0, 0, 0, 0, 1, 0, 0, 0, 0, 0, 1, 0, 1, 0, 1, 1, 1, 1, 0, 1, 1, 0, 0, 0, 1, 0, 0, 0, 0, 0, 0, 1, 0, 1, 0, 0, 0, 0, 0, 0, 1, 0, 1, 0, 0, 1, 1, 1, 0, 0, 0, 1, 0, 0, 0, 1, 0, 0, 1, 1, 1, 0, 1, 0, 0, 0, 0, 0, 1, 0, 0, 0, 1, 0, 0, 0, 0, 0, 0, 0, 1, 1, 0, 1, 1, 0, 0, 1, 1, 0, 1, 0, 0, 0, 0, 0, 0, 1, 0, 0, 1, 0, 0, 1, 0, 1, 1, 1, 0, 1, 0, 0, 1, 0, 0, 0, 0, 0, 1, 1, 1, 0, 1, 0, 1, 0, 0, 0, 1, 1, 1, 0, 0, 0, 0, 1, 0, 1, 0, 0, 0, 1, 1, 0, 0, 0, 0, 0, 1, 1, 0, 0, 1, 0, 0, 0, 0, 0, 0, 0, 1, 0, 0, 1, 0, 1, 0, 0, 1, 0, 1, 1, 0, 0, 0, 0, 1, 0, 0, 0, 0, 0, 0, 1, 1, 1, 0, 0, 0, 0, 0, 1, 0, 0, 1, 0, 1, 1, 0, 0, 0, 0, 0, 1, 0, 0, 0, 0, 0, 1, 1, 0, 0, 1, 0, 0, 0, 1, 1, 0, 1, 0, 1, 0, 1, 1, 0, 0, 0, 0, 0, 0, 1, 0, 1, 0, 1, 0, 0, 0, 1, 1, 1, 1, 0, 1, 0, 0, 0, 0, 1, 1, 0, 0, 0, 0, 0, 1, 1, 0, 0, 0, 0, 0, 1, 1, 1, 0, 0, 1, 0, 0, 1, 0, 1, 1, 0, 0, 0, 0, 1, 0, 0, 1, 0, 0, 0, 1, 1, 0, 0, 1, 0, 1, 1, 1, 0, 0, 1, 0, 0, 0, 1, 0, 1, 0, 0, 0, 1, 0, 1, 0, 1, 0, 1, 0, 1, 1, 0, 0, 1, 0, 1, 0, 0, 1, 0, 0, 0, 0, 0, 0, 0, 0, 1, 0, 0, 0, 1, 1, 1, 0, 0, 0, 0, 1, 0, 0, 1, 0, 1, 0, 0, 1, 0, 0, 0, 1, 0, 0, 1, 0, 0, 1, 0, 1, 0, 0, 1, 0, 0, 0, 0, 1, 0, 0, 0, 1, 0, 1, 0, 1, 1, 0, 0, 1, 1, 0, 0, 1, 0, 0, 0, 0, 0, 1, 0, 0, 1, 0, 0, 0, 1, 1, 0, 1, 1, 0, 0, 0, 0, 0, 0, 0, 0, 0, 0, 0, 1, 0, 1, 0, 1, 1, 1, 0, 1, 0, 0, 1, 1, 0, 1, 0, 0, 1, 0, 0, 0, 1, 1, 1, 0, 1, 0, 0, 1, 0, 0, 1, 0, 1, 0, 1, 0, 1, 1, 1, 1, 0, 1, 0, 0, 0, 1, 0, 0, 0, 1, 0, 1, 1, 1, 0, 1, 0, 0, 0, 0, 0, 0, 1, 0, 0, 0, 1, 0, 1, 0, 0, 0, 0, 0, 0, 0, 0, 1, 0, 1, 1, 1, 0, 0, 0, 1, 0, 0, 1, 0, 0, 0, 0, 1, 1, 1, 0, 0, 0, 0, 0, 0, 0, 1, 0, 1, 0, 1, 0, 0, 1, 1, 0, 1, 0, 0, 1, 1, 0, 0, 0, 0, 0, 0, 0, 0, 0, 0, 0, 0, 0, 0, 0, 0, 0, 0, 1, 1, 1, 1, 1, 1, 0, 1, 0, 0, 0, 0, 0, 1, 0, 1, 0, 1, 0, 1, 0, 0, 0, 1, 0, 0, 0, 0, 1, 0, 0, 0, 0, 0, 0, 0, 1, 0, 0, 1, 0, 0, 0, 1, 0, 0, 0, 0, 0, 0, 1, 0, 0, 0, 0, 0, 1, 1, 0, 1, 1, 0, 1, 1, 0, 1, 1, 0, 1, 1, 0, 0, 1, 0, 0, 1, 0, 0, 0, 0, 1, 1, 0, 0, 0, 0, 0, 0, 0, 1, 1, 1, 0, 1, 1, 0, 0, 0, 0, 1, 0, 1, 0, 0, 0, 1, 0, 0, 1, 0, 0, 0, 0, 0, 0, 1, 0, 0, 0, 0, 0, 1, 1, 1, 0, 0, 0, 1, 1, 1, 0, 0, 0, 0, 1, 0, 1, 0, 0, 0, 0, 1, 0, 1, 1, 0, 0, 0, 0, 1, 0, 0, 1, 1, 1, 0, 1, 1, 1, 0, 0, 1, 1, 0, 0, 0, 1, 0, 0, 0, 1, 0, 0, 0, 1, 0, 1, 0, 1, 0, 0, 1, 0, 0, 0, 0, 0, 0, 0, 1, 0, 1, 0, 1, 1, 1, 0, 0, 0, 1, 1, 0, 0, 1, 0, 1, 0, 0, 0, 1, 1, 1, 0, 1, 0, 0, 0, 0, 0, 1, 0, 0, 0, 0, 1, 0, 0, 0, 0, 0, 0, 0, 0, 0, 0, 0, 0, 1, 0, 0, 0, 0, 0, 1, 0, 0, 0, 0, 0, 0, 0, 0, 0, 0, 0, 1, 0, 1, 0, 1, 0, 1, 0, 0, 0, 0, 1, 1, 0, 0, 1, 0, 1, 1, 0, 0, 0, 1, 0, 0, 0, 1, 1, 0, 0, 0, 1, 0, 1, 1, 0, 0, 1, 1, 1, 0, 0, 0, 1, 0, 0, 1, 0, 1, 0, 1, 0, 0, 0, 0, 0, 0, 0, 0, 1, 1, 0, 1, 0, 0, 0, 0, 0, 1, 0, 0, 0, 1, 0, 1, 1, 0, 1, 0, 1, 0, 0, 0, 0, 0, 0, 0, 0, 0, 0, 1, 0, 0, 0, 0, 0, 0, 0, 0, 1, 0, 0, 0, 1, 0, 0, 1, 1, 0, 0, 0, 1, 1, 1, 0, 0, 1, 0, 1, 0, 0, 1, 0, 0, 0, 0, 0, 0, 0, 0, 1, 0, 1, 0, 1, 0, 0, 1, 0, 0, 1, 1, 0, 1, 0, 0, 0, 0, 0, 0, 0, 1, 1, 0, 1, 1, 0, 0, 0, 1, 1, 1, 1, 0, 0, 1, 0, 0, 0, 0, 1, 1, 1, 0, 0, 0, 1, 1, 0, 0, 0, 0, 1, 1, 1, 0, 1, 0, 1, 1, 1, 0, 0, 1, 1, 0, 0, 0, 0, 1, 1, 1, 1, 0, 1, 1, 1, 0, 1, 0, 0, 0, 1, 1, 0, 0, 0, 0, 1, 0, 1, 1, 0, 0, 0, 0, 0, 1, 0, 0, 0, 0, 1, 0, 1, 0, 1, 0, 1, 0, 1, 0, 0, 1, 0, 1, 1, 0, 1, 1, 1, 1, 1, 0, 1, 0, 0, 0, 0, 0, 0, 0, 1, 0, 1, 1, 0, 0, 0, 0, 0, 1, 1, 1, 0, 0, 1, 0, 0, 0, 0, 1, 0, 0, 0, 0, 0, 1, 0, 0, 1, 1, 0, 1, 0, 0, 0, 0, 0, 1, 0, 0, 0, 0, 0, 1, 0, 0, 0, 0, 0, 0, 0, 0, 0, 0, 0, 1, 1, 0, 0, 0, 1, 0, 1, 1, 1, 0, 0, 1, 0, 1, 0, 0, 0, 0, 1, 0, 1, 1, 1, 1, 0, 0, 0, 0, 1, 0, 0, 0, 1, 0, 0, 0, 0, 1, 1, 1, 1, 0, 1, 0, 1, 0, 1, 0, 1, 0, 0, 0, 0, 0, 0, 1, 1, 1, 0, 0, 0, 0, 1, 0, 0, 0, 0, 0, 0, 1, 1, 0, 0, 1, 0, 0, 0, 1, 0, 0, 0, 0, 1, 0, 1, 1, 0, 1, 1, 0, 1, 1, 0, 0, 1, 0, 0, 0, 0, 1, 0, 0, 1, 0, 1, 1, 0, 0, 1, 0, 0, 0, 0, 1, 0, 0, 1, 1, 0, 1, 0, 0, 1, 0, 1, 1, 0, 1, 1, 1, 0, 1, 1, 1, 0, 0, 0, 1, 1, 1, 0, 0, 0, 1, 1, 1, 0, 0, 0, 1, 0, 1, 0, 0, 0, 0, 0, 0, 0, 0, 0, 0, 1, 0, 1, 0, 0, 0, 0, 0, 1, 0, 1, 1, 0, 0, 0, 1, 0, 0, 0, 0, 1, 0, 1, 0, 0, 0, 1, 0, 0, 0, 1, 0, 0, 0, 0, 1, 0, 0, 0, 0, 0, 0, 1, 0, 1]\n"
          ]
        }
      ]
    },
    {
      "cell_type": "code",
      "source": [
        "print(X['AGE'])\n",
        "\n",
        "\n",
        "X['AGE'] = idade\n",
        "\n",
        "\n",
        "print(X['AGE'])"
      ],
      "metadata": {
        "colab": {
          "base_uri": "https://localhost:8080/"
        },
        "id": "LkDCxVnxAVzF",
        "outputId": "aedcfa9f-8d11-4484-f831-1284d89e753e"
      },
      "execution_count": 80,
      "outputs": [
        {
          "output_type": "stream",
          "name": "stdout",
          "text": [
            "0         65+\n",
            "1       16-25\n",
            "2       16-25\n",
            "3       16-25\n",
            "4       26-39\n",
            "        ...  \n",
            "9995    26-39\n",
            "9996    26-39\n",
            "9997    26-39\n",
            "9998    26-39\n",
            "9999    26-39\n",
            "Name: AGE, Length: 10000, dtype: object\n",
            "0       0\n",
            "1       1\n",
            "2       1\n",
            "3       1\n",
            "4       0\n",
            "       ..\n",
            "9995    0\n",
            "9996    0\n",
            "9997    0\n",
            "9998    0\n",
            "9999    0\n",
            "Name: AGE, Length: 10000, dtype: int64\n"
          ]
        }
      ]
    },
    {
      "cell_type": "code",
      "source": [
        "X['AGE']"
      ],
      "metadata": {
        "id": "1R5VetnZMnS_",
        "colab": {
          "base_uri": "https://localhost:8080/"
        },
        "outputId": "b9b0b013-c002-4529-e720-a4859b60bf39"
      },
      "execution_count": 81,
      "outputs": [
        {
          "output_type": "execute_result",
          "data": {
            "text/plain": [
              "0       0\n",
              "1       1\n",
              "2       1\n",
              "3       1\n",
              "4       0\n",
              "       ..\n",
              "9995    0\n",
              "9996    0\n",
              "9997    0\n",
              "9998    0\n",
              "9999    0\n",
              "Name: AGE, Length: 10000, dtype: int64"
            ]
          },
          "metadata": {},
          "execution_count": 81
        }
      ]
    },
    {
      "cell_type": "code",
      "source": [
        "print(X['AGE'])"
      ],
      "metadata": {
        "colab": {
          "base_uri": "https://localhost:8080/"
        },
        "id": "JK6nqvqyAQPV",
        "outputId": "920f1c35-4cf9-40d7-8c60-d42cf46ef6d3"
      },
      "execution_count": 82,
      "outputs": [
        {
          "output_type": "stream",
          "name": "stdout",
          "text": [
            "0       0\n",
            "1       1\n",
            "2       1\n",
            "3       1\n",
            "4       0\n",
            "       ..\n",
            "9995    0\n",
            "9996    0\n",
            "9997    0\n",
            "9998    0\n",
            "9999    0\n",
            "Name: AGE, Length: 10000, dtype: int64\n"
          ]
        }
      ]
    },
    {
      "cell_type": "code",
      "source": [
        "X['DRIVING_EXPERIENCE'] = experiencia"
      ],
      "metadata": {
        "id": "T_QL8cG19_BN"
      },
      "execution_count": 83,
      "outputs": []
    },
    {
      "cell_type": "code",
      "source": [
        "#transforma INCOME em numero\n",
        "inco = []\n",
        "for x in X['INCOME']:\n",
        "  if x == 'upper class\t':\n",
        "    inco.append(1)\n",
        "  elif x == 'poverty':\n",
        "    inco.append(2)\n",
        "  else :\n",
        "    inco.append(0)"
      ],
      "metadata": {
        "id": "NkEaDLY3QXnz"
      },
      "execution_count": 84,
      "outputs": []
    },
    {
      "cell_type": "code",
      "source": [
        "X['AGE']"
      ],
      "metadata": {
        "colab": {
          "base_uri": "https://localhost:8080/"
        },
        "id": "rHcDDBU-85q5",
        "outputId": "f80ca189-b783-4dc2-f90a-853deb112c45"
      },
      "execution_count": 85,
      "outputs": [
        {
          "output_type": "execute_result",
          "data": {
            "text/plain": [
              "0       0\n",
              "1       1\n",
              "2       1\n",
              "3       1\n",
              "4       0\n",
              "       ..\n",
              "9995    0\n",
              "9996    0\n",
              "9997    0\n",
              "9998    0\n",
              "9999    0\n",
              "Name: AGE, Length: 10000, dtype: int64"
            ]
          },
          "metadata": {},
          "execution_count": 85
        }
      ]
    },
    {
      "cell_type": "code",
      "source": [
        "X['INCOME'] = inco"
      ],
      "metadata": {
        "id": "T4RW8pNQQ0ek"
      },
      "execution_count": 86,
      "outputs": []
    },
    {
      "cell_type": "code",
      "source": [
        "X['INCOME']"
      ],
      "metadata": {
        "colab": {
          "base_uri": "https://localhost:8080/"
        },
        "id": "dyENZG23-ZcL",
        "outputId": "bb843a39-69d5-4d99-dfe2-476449d6ad31"
      },
      "execution_count": 87,
      "outputs": [
        {
          "output_type": "execute_result",
          "data": {
            "text/plain": [
              "0       0\n",
              "1       2\n",
              "2       0\n",
              "3       0\n",
              "4       0\n",
              "       ..\n",
              "9995    0\n",
              "9996    0\n",
              "9997    0\n",
              "9998    2\n",
              "9999    0\n",
              "Name: INCOME, Length: 10000, dtype: int64"
            ]
          },
          "metadata": {},
          "execution_count": 87
        }
      ]
    },
    {
      "cell_type": "code",
      "source": [
        "#transforma VEHICLE_YEAR em numero\n",
        "generos = []\n",
        "for x in X['VEHICLE_YEAR']:\n",
        "  if x == 'after 2015':\n",
        "    generos.append(1)\n",
        "  else:\n",
        "    generos.append(0)"
      ],
      "metadata": {
        "id": "sOPcOR70RBds"
      },
      "execution_count": 88,
      "outputs": []
    },
    {
      "cell_type": "code",
      "source": [
        "X['VEHICLE_YEAR'] = [1 if x == '>2015\t' else 0 for x in X['VEHICLE_YEAR']]"
      ],
      "metadata": {
        "id": "6emHAKSJRBWE"
      },
      "execution_count": 89,
      "outputs": []
    },
    {
      "cell_type": "code",
      "source": [
        "X.head(10)"
      ],
      "metadata": {
        "id": "0chT9146MyLA",
        "colab": {
          "base_uri": "https://localhost:8080/",
          "height": 363
        },
        "outputId": "87f8eb76-2432-45cd-ac5c-27e61e5f4e67"
      },
      "execution_count": 90,
      "outputs": [
        {
          "output_type": "execute_result",
          "data": {
            "text/plain": [
              "   AGE  GENDER  DRIVING_EXPERIENCE  INCOME  VEHICLE_YEAR  SPEEDING_VIOLATIONS  \\\n",
              "0    0       0                   1       0             0                    0   \n",
              "1    1       1                   1       2             0                    0   \n",
              "2    1       0                   1       0             0                    0   \n",
              "3    1       1                   1       0             0                    0   \n",
              "4    0       1                   0       0             0                    2   \n",
              "5    2       0                   0       0             0                    3   \n",
              "6    0       1                   0       0             0                    7   \n",
              "7    0       0                   1       0             0                    0   \n",
              "8    2       0                   0       0             0                    0   \n",
              "9    2       0                   1       0             0                    0   \n",
              "\n",
              "   PAST_ACCIDENTS  OUTCOME  \n",
              "0               0      0.0  \n",
              "1               0      1.0  \n",
              "2               0      0.0  \n",
              "3               0      0.0  \n",
              "4               1      1.0  \n",
              "5               3      0.0  \n",
              "6               3      0.0  \n",
              "7               0      1.0  \n",
              "8               0      0.0  \n",
              "9               0      1.0  "
            ],
            "text/html": [
              "\n",
              "  <div id=\"df-f1f22db3-8b1f-45d3-b12a-ca209947a130\">\n",
              "    <div class=\"colab-df-container\">\n",
              "      <div>\n",
              "<style scoped>\n",
              "    .dataframe tbody tr th:only-of-type {\n",
              "        vertical-align: middle;\n",
              "    }\n",
              "\n",
              "    .dataframe tbody tr th {\n",
              "        vertical-align: top;\n",
              "    }\n",
              "\n",
              "    .dataframe thead th {\n",
              "        text-align: right;\n",
              "    }\n",
              "</style>\n",
              "<table border=\"1\" class=\"dataframe\">\n",
              "  <thead>\n",
              "    <tr style=\"text-align: right;\">\n",
              "      <th></th>\n",
              "      <th>AGE</th>\n",
              "      <th>GENDER</th>\n",
              "      <th>DRIVING_EXPERIENCE</th>\n",
              "      <th>INCOME</th>\n",
              "      <th>VEHICLE_YEAR</th>\n",
              "      <th>SPEEDING_VIOLATIONS</th>\n",
              "      <th>PAST_ACCIDENTS</th>\n",
              "      <th>OUTCOME</th>\n",
              "    </tr>\n",
              "  </thead>\n",
              "  <tbody>\n",
              "    <tr>\n",
              "      <th>0</th>\n",
              "      <td>0</td>\n",
              "      <td>0</td>\n",
              "      <td>1</td>\n",
              "      <td>0</td>\n",
              "      <td>0</td>\n",
              "      <td>0</td>\n",
              "      <td>0</td>\n",
              "      <td>0.0</td>\n",
              "    </tr>\n",
              "    <tr>\n",
              "      <th>1</th>\n",
              "      <td>1</td>\n",
              "      <td>1</td>\n",
              "      <td>1</td>\n",
              "      <td>2</td>\n",
              "      <td>0</td>\n",
              "      <td>0</td>\n",
              "      <td>0</td>\n",
              "      <td>1.0</td>\n",
              "    </tr>\n",
              "    <tr>\n",
              "      <th>2</th>\n",
              "      <td>1</td>\n",
              "      <td>0</td>\n",
              "      <td>1</td>\n",
              "      <td>0</td>\n",
              "      <td>0</td>\n",
              "      <td>0</td>\n",
              "      <td>0</td>\n",
              "      <td>0.0</td>\n",
              "    </tr>\n",
              "    <tr>\n",
              "      <th>3</th>\n",
              "      <td>1</td>\n",
              "      <td>1</td>\n",
              "      <td>1</td>\n",
              "      <td>0</td>\n",
              "      <td>0</td>\n",
              "      <td>0</td>\n",
              "      <td>0</td>\n",
              "      <td>0.0</td>\n",
              "    </tr>\n",
              "    <tr>\n",
              "      <th>4</th>\n",
              "      <td>0</td>\n",
              "      <td>1</td>\n",
              "      <td>0</td>\n",
              "      <td>0</td>\n",
              "      <td>0</td>\n",
              "      <td>2</td>\n",
              "      <td>1</td>\n",
              "      <td>1.0</td>\n",
              "    </tr>\n",
              "    <tr>\n",
              "      <th>5</th>\n",
              "      <td>2</td>\n",
              "      <td>0</td>\n",
              "      <td>0</td>\n",
              "      <td>0</td>\n",
              "      <td>0</td>\n",
              "      <td>3</td>\n",
              "      <td>3</td>\n",
              "      <td>0.0</td>\n",
              "    </tr>\n",
              "    <tr>\n",
              "      <th>6</th>\n",
              "      <td>0</td>\n",
              "      <td>1</td>\n",
              "      <td>0</td>\n",
              "      <td>0</td>\n",
              "      <td>0</td>\n",
              "      <td>7</td>\n",
              "      <td>3</td>\n",
              "      <td>0.0</td>\n",
              "    </tr>\n",
              "    <tr>\n",
              "      <th>7</th>\n",
              "      <td>0</td>\n",
              "      <td>0</td>\n",
              "      <td>1</td>\n",
              "      <td>0</td>\n",
              "      <td>0</td>\n",
              "      <td>0</td>\n",
              "      <td>0</td>\n",
              "      <td>1.0</td>\n",
              "    </tr>\n",
              "    <tr>\n",
              "      <th>8</th>\n",
              "      <td>2</td>\n",
              "      <td>0</td>\n",
              "      <td>0</td>\n",
              "      <td>0</td>\n",
              "      <td>0</td>\n",
              "      <td>0</td>\n",
              "      <td>0</td>\n",
              "      <td>0.0</td>\n",
              "    </tr>\n",
              "    <tr>\n",
              "      <th>9</th>\n",
              "      <td>2</td>\n",
              "      <td>0</td>\n",
              "      <td>1</td>\n",
              "      <td>0</td>\n",
              "      <td>0</td>\n",
              "      <td>0</td>\n",
              "      <td>0</td>\n",
              "      <td>1.0</td>\n",
              "    </tr>\n",
              "  </tbody>\n",
              "</table>\n",
              "</div>\n",
              "      <button class=\"colab-df-convert\" onclick=\"convertToInteractive('df-f1f22db3-8b1f-45d3-b12a-ca209947a130')\"\n",
              "              title=\"Convert this dataframe to an interactive table.\"\n",
              "              style=\"display:none;\">\n",
              "        \n",
              "  <svg xmlns=\"http://www.w3.org/2000/svg\" height=\"24px\"viewBox=\"0 0 24 24\"\n",
              "       width=\"24px\">\n",
              "    <path d=\"M0 0h24v24H0V0z\" fill=\"none\"/>\n",
              "    <path d=\"M18.56 5.44l.94 2.06.94-2.06 2.06-.94-2.06-.94-.94-2.06-.94 2.06-2.06.94zm-11 1L8.5 8.5l.94-2.06 2.06-.94-2.06-.94L8.5 2.5l-.94 2.06-2.06.94zm10 10l.94 2.06.94-2.06 2.06-.94-2.06-.94-.94-2.06-.94 2.06-2.06.94z\"/><path d=\"M17.41 7.96l-1.37-1.37c-.4-.4-.92-.59-1.43-.59-.52 0-1.04.2-1.43.59L10.3 9.45l-7.72 7.72c-.78.78-.78 2.05 0 2.83L4 21.41c.39.39.9.59 1.41.59.51 0 1.02-.2 1.41-.59l7.78-7.78 2.81-2.81c.8-.78.8-2.07 0-2.86zM5.41 20L4 18.59l7.72-7.72 1.47 1.35L5.41 20z\"/>\n",
              "  </svg>\n",
              "      </button>\n",
              "      \n",
              "  <style>\n",
              "    .colab-df-container {\n",
              "      display:flex;\n",
              "      flex-wrap:wrap;\n",
              "      gap: 12px;\n",
              "    }\n",
              "\n",
              "    .colab-df-convert {\n",
              "      background-color: #E8F0FE;\n",
              "      border: none;\n",
              "      border-radius: 50%;\n",
              "      cursor: pointer;\n",
              "      display: none;\n",
              "      fill: #1967D2;\n",
              "      height: 32px;\n",
              "      padding: 0 0 0 0;\n",
              "      width: 32px;\n",
              "    }\n",
              "\n",
              "    .colab-df-convert:hover {\n",
              "      background-color: #E2EBFA;\n",
              "      box-shadow: 0px 1px 2px rgba(60, 64, 67, 0.3), 0px 1px 3px 1px rgba(60, 64, 67, 0.15);\n",
              "      fill: #174EA6;\n",
              "    }\n",
              "\n",
              "    [theme=dark] .colab-df-convert {\n",
              "      background-color: #3B4455;\n",
              "      fill: #D2E3FC;\n",
              "    }\n",
              "\n",
              "    [theme=dark] .colab-df-convert:hover {\n",
              "      background-color: #434B5C;\n",
              "      box-shadow: 0px 1px 3px 1px rgba(0, 0, 0, 0.15);\n",
              "      filter: drop-shadow(0px 1px 2px rgba(0, 0, 0, 0.3));\n",
              "      fill: #FFFFFF;\n",
              "    }\n",
              "  </style>\n",
              "\n",
              "      <script>\n",
              "        const buttonEl =\n",
              "          document.querySelector('#df-f1f22db3-8b1f-45d3-b12a-ca209947a130 button.colab-df-convert');\n",
              "        buttonEl.style.display =\n",
              "          google.colab.kernel.accessAllowed ? 'block' : 'none';\n",
              "\n",
              "        async function convertToInteractive(key) {\n",
              "          const element = document.querySelector('#df-f1f22db3-8b1f-45d3-b12a-ca209947a130');\n",
              "          const dataTable =\n",
              "            await google.colab.kernel.invokeFunction('convertToInteractive',\n",
              "                                                     [key], {});\n",
              "          if (!dataTable) return;\n",
              "\n",
              "          const docLinkHtml = 'Like what you see? Visit the ' +\n",
              "            '<a target=\"_blank\" href=https://colab.research.google.com/notebooks/data_table.ipynb>data table notebook</a>'\n",
              "            + ' to learn more about interactive tables.';\n",
              "          element.innerHTML = '';\n",
              "          dataTable['output_type'] = 'display_data';\n",
              "          await google.colab.output.renderOutput(dataTable, element);\n",
              "          const docLink = document.createElement('div');\n",
              "          docLink.innerHTML = docLinkHtml;\n",
              "          element.appendChild(docLink);\n",
              "        }\n",
              "      </script>\n",
              "    </div>\n",
              "  </div>\n",
              "  "
            ]
          },
          "metadata": {},
          "execution_count": 90
        }
      ]
    },
    {
      "cell_type": "markdown",
      "source": [
        "## Treinamento do modelo"
      ],
      "metadata": {
        "id": "C7-sDiF_MmrD"
      }
    },
    {
      "cell_type": "code",
      "source": [
        "y = dataframe['OUTCOME']"
      ],
      "metadata": {
        "id": "yRMWecgZX7FA"
      },
      "execution_count": 91,
      "outputs": []
    },
    {
      "cell_type": "code",
      "source": [
        "y.head()"
      ],
      "metadata": {
        "id": "V6mR2DCPqwrP",
        "colab": {
          "base_uri": "https://localhost:8080/"
        },
        "outputId": "b6f03050-48c1-4f78-ea40-f6a86c5087ab"
      },
      "execution_count": 92,
      "outputs": [
        {
          "output_type": "execute_result",
          "data": {
            "text/plain": [
              "0    0.0\n",
              "1    1.0\n",
              "2    0.0\n",
              "3    0.0\n",
              "4    1.0\n",
              "Name: OUTCOME, dtype: float64"
            ]
          },
          "metadata": {},
          "execution_count": 92
        }
      ]
    },
    {
      "cell_type": "code",
      "source": [
        "from sklearn.model_selection import train_test_split"
      ],
      "metadata": {
        "id": "K7al5H0Z4Xce"
      },
      "execution_count": 93,
      "outputs": []
    },
    {
      "cell_type": "code",
      "source": [
        "X_train, X_test, y_train, y_test = train_test_split(X, y, test_size=0.1, random_state=0, stratify=y)"
      ],
      "metadata": {
        "id": "21pM2P3M-zLB"
      },
      "execution_count": 94,
      "outputs": []
    },
    {
      "cell_type": "code",
      "source": [
        "X_train.shape, X_test.shape"
      ],
      "metadata": {
        "id": "SPnNZWeGZlU3",
        "colab": {
          "base_uri": "https://localhost:8080/"
        },
        "outputId": "36867bf8-bc0f-42f8-fa1a-ddef1b94a944"
      },
      "execution_count": 95,
      "outputs": [
        {
          "output_type": "execute_result",
          "data": {
            "text/plain": [
              "((9000, 8), (1000, 8))"
            ]
          },
          "metadata": {},
          "execution_count": 95
        }
      ]
    },
    {
      "cell_type": "code",
      "source": [
        "y_train.shape, y_test.shape"
      ],
      "metadata": {
        "id": "sK0nLHQkZlSn",
        "colab": {
          "base_uri": "https://localhost:8080/"
        },
        "outputId": "48c6f445-0be0-4063-95da-a60b951a412f"
      },
      "execution_count": 96,
      "outputs": [
        {
          "output_type": "execute_result",
          "data": {
            "text/plain": [
              "((9000,), (1000,))"
            ]
          },
          "metadata": {},
          "execution_count": 96
        }
      ]
    },
    {
      "cell_type": "code",
      "source": [
        "y_train.value_counts()"
      ],
      "metadata": {
        "id": "Tc7gUlAHZlQX",
        "colab": {
          "base_uri": "https://localhost:8080/"
        },
        "outputId": "97529467-4cd2-4bef-8456-f34dd393fdba"
      },
      "execution_count": 97,
      "outputs": [
        {
          "output_type": "execute_result",
          "data": {
            "text/plain": [
              "0.0    6180\n",
              "1.0    2820\n",
              "Name: OUTCOME, dtype: int64"
            ]
          },
          "metadata": {},
          "execution_count": 97
        }
      ]
    },
    {
      "cell_type": "code",
      "source": [
        "from sklearn.tree import DecisionTreeClassifier"
      ],
      "metadata": {
        "id": "MKL1Mp4oZrox"
      },
      "execution_count": 98,
      "outputs": []
    },
    {
      "cell_type": "code",
      "source": [
        "classificador = DecisionTreeClassifier(class_weight='balanced')"
      ],
      "metadata": {
        "id": "H5ySBGp0Zrmf"
      },
      "execution_count": 99,
      "outputs": []
    },
    {
      "cell_type": "code",
      "source": [
        "print(X_train)"
      ],
      "metadata": {
        "id": "H6pc6K3P3cXG",
        "colab": {
          "base_uri": "https://localhost:8080/"
        },
        "outputId": "ba20b60c-3618-483a-9384-87ab66dddda5"
      },
      "execution_count": 100,
      "outputs": [
        {
          "output_type": "stream",
          "name": "stdout",
          "text": [
            "      AGE  GENDER  DRIVING_EXPERIENCE  INCOME  VEHICLE_YEAR  \\\n",
            "6790    1       1                   1       0             0   \n",
            "103     0       1                   1       2             0   \n",
            "376     1       0                   1       2             0   \n",
            "1627    2       1                   0       0             0   \n",
            "3828    0       1                   1       2             0   \n",
            "...   ...     ...                 ...     ...           ...   \n",
            "6483    0       0                   0       0             0   \n",
            "3573    2       0                   0       0             0   \n",
            "1650    0       1                   0       0             0   \n",
            "8803    0       1                   0       0             0   \n",
            "334     2       0                   1       0             0   \n",
            "\n",
            "      SPEEDING_VIOLATIONS  PAST_ACCIDENTS  OUTCOME  \n",
            "6790                    0               0      1.0  \n",
            "103                     0               0      0.0  \n",
            "376                     0               0      1.0  \n",
            "1627                    1               2      0.0  \n",
            "3828                    0               0      1.0  \n",
            "...                   ...             ...      ...  \n",
            "6483                    4               1      0.0  \n",
            "3573                    0               1      0.0  \n",
            "1650                    0               2      0.0  \n",
            "8803                    0               0      0.0  \n",
            "334                     0               0      1.0  \n",
            "\n",
            "[9000 rows x 8 columns]\n"
          ]
        }
      ]
    },
    {
      "cell_type": "code",
      "source": [
        "y_train.values"
      ],
      "metadata": {
        "id": "hzk-jSj93lZc",
        "colab": {
          "base_uri": "https://localhost:8080/"
        },
        "outputId": "1fc261ef-a48b-4253-f606-76dee50442fa"
      },
      "execution_count": 101,
      "outputs": [
        {
          "output_type": "execute_result",
          "data": {
            "text/plain": [
              "array([1., 0., 1., ..., 0., 0., 1.])"
            ]
          },
          "metadata": {},
          "execution_count": 101
        }
      ]
    },
    {
      "cell_type": "code",
      "source": [
        "lista = list(X_train)\n",
        "for teste in lista:\n",
        "  print(type(lista))"
      ],
      "metadata": {
        "colab": {
          "base_uri": "https://localhost:8080/"
        },
        "id": "vZN6uvHJzabj",
        "outputId": "ef61abb4-5649-46a7-a143-b84696eb3aff"
      },
      "execution_count": 102,
      "outputs": [
        {
          "output_type": "stream",
          "name": "stdout",
          "text": [
            "<class 'list'>\n",
            "<class 'list'>\n",
            "<class 'list'>\n",
            "<class 'list'>\n",
            "<class 'list'>\n",
            "<class 'list'>\n",
            "<class 'list'>\n",
            "<class 'list'>\n"
          ]
        }
      ]
    },
    {
      "cell_type": "code",
      "source": [
        "# REALIZA O TREINAMENTO DO MACHINE LEARNING\n",
        "classificador.fit(X_train, y_train)"
      ],
      "metadata": {
        "id": "LqtkC31wZrkX",
        "colab": {
          "base_uri": "https://localhost:8080/"
        },
        "outputId": "d39d0278-88ff-4d6e-e752-89a74b00f9bd"
      },
      "execution_count": 103,
      "outputs": [
        {
          "output_type": "execute_result",
          "data": {
            "text/plain": [
              "DecisionTreeClassifier(class_weight='balanced')"
            ]
          },
          "metadata": {},
          "execution_count": 103
        }
      ]
    },
    {
      "cell_type": "code",
      "source": [
        "resultado = classificador.predict(X_test)"
      ],
      "metadata": {
        "id": "pRl1NiiFZ97O"
      },
      "execution_count": 109,
      "outputs": []
    },
    {
      "cell_type": "code",
      "source": [
        "resultado"
      ],
      "metadata": {
        "id": "v4hq3vzAZ93m",
        "colab": {
          "base_uri": "https://localhost:8080/"
        },
        "outputId": "b9eda6dd-0014-41bd-df58-cacb46540719"
      },
      "execution_count": 105,
      "outputs": [
        {
          "output_type": "execute_result",
          "data": {
            "text/plain": [
              "array([1., 0., 1., ..., 0., 0., 1.])"
            ]
          },
          "metadata": {},
          "execution_count": 105
        }
      ]
    },
    {
      "cell_type": "code",
      "source": [
        "from sklearn import metrics"
      ],
      "metadata": {
        "id": "XxH8K3KZaSRf"
      },
      "execution_count": 106,
      "outputs": []
    },
    {
      "cell_type": "code",
      "source": [
        "print(metrics.classification_report(y_test, resultado))"
      ],
      "metadata": {
        "id": "PsqGrI65aTuP",
        "colab": {
          "base_uri": "https://localhost:8080/"
        },
        "outputId": "99290e0c-cfc5-476c-bcde-0d84709d39bf"
      },
      "execution_count": 110,
      "outputs": [
        {
          "output_type": "stream",
          "name": "stdout",
          "text": [
            "              precision    recall  f1-score   support\n",
            "\n",
            "         0.0       1.00      1.00      1.00       687\n",
            "         1.0       1.00      1.00      1.00       313\n",
            "\n",
            "    accuracy                           1.00      1000\n",
            "   macro avg       1.00      1.00      1.00      1000\n",
            "weighted avg       1.00      1.00      1.00      1000\n",
            "\n"
          ]
        }
      ]
    },
    {
      "cell_type": "code",
      "source": [
        "from sklearn.metrics import confusion_matrix\n",
        "confusion_matrix(y_test, resultado)"
      ],
      "metadata": {
        "colab": {
          "base_uri": "https://localhost:8080/"
        },
        "id": "uRp5r4hZhUSt",
        "outputId": "112f0620-f859-48ed-c25f-39ff9eafbe8f"
      },
      "execution_count": 111,
      "outputs": [
        {
          "output_type": "execute_result",
          "data": {
            "text/plain": [
              "array([[687,   0],\n",
              "       [  0, 313]])"
            ]
          },
          "metadata": {},
          "execution_count": 111
        }
      ]
    },
    {
      "cell_type": "code",
      "metadata": {
        "id": "EFRWslMlMyf4"
      },
      "source": [
        "import numpy as np"
      ],
      "execution_count": 112,
      "outputs": []
    },
    {
      "cell_type": "code",
      "source": [
        "X.head(1)"
      ],
      "metadata": {
        "colab": {
          "base_uri": "https://localhost:8080/",
          "height": 81
        },
        "id": "Smlv-EBWtU0b",
        "outputId": "1ed32881-9f0f-47d9-d1f7-4f8613d071cb"
      },
      "execution_count": 113,
      "outputs": [
        {
          "output_type": "execute_result",
          "data": {
            "text/plain": [
              "   AGE  GENDER  DRIVING_EXPERIENCE  INCOME  VEHICLE_YEAR  SPEEDING_VIOLATIONS  \\\n",
              "0    0       0                   1       0             0                    0   \n",
              "\n",
              "   PAST_ACCIDENTS  OUTCOME  \n",
              "0               0      0.0  "
            ],
            "text/html": [
              "\n",
              "  <div id=\"df-8441aabe-7eb8-47bc-aafa-010bd66c7ca9\">\n",
              "    <div class=\"colab-df-container\">\n",
              "      <div>\n",
              "<style scoped>\n",
              "    .dataframe tbody tr th:only-of-type {\n",
              "        vertical-align: middle;\n",
              "    }\n",
              "\n",
              "    .dataframe tbody tr th {\n",
              "        vertical-align: top;\n",
              "    }\n",
              "\n",
              "    .dataframe thead th {\n",
              "        text-align: right;\n",
              "    }\n",
              "</style>\n",
              "<table border=\"1\" class=\"dataframe\">\n",
              "  <thead>\n",
              "    <tr style=\"text-align: right;\">\n",
              "      <th></th>\n",
              "      <th>AGE</th>\n",
              "      <th>GENDER</th>\n",
              "      <th>DRIVING_EXPERIENCE</th>\n",
              "      <th>INCOME</th>\n",
              "      <th>VEHICLE_YEAR</th>\n",
              "      <th>SPEEDING_VIOLATIONS</th>\n",
              "      <th>PAST_ACCIDENTS</th>\n",
              "      <th>OUTCOME</th>\n",
              "    </tr>\n",
              "  </thead>\n",
              "  <tbody>\n",
              "    <tr>\n",
              "      <th>0</th>\n",
              "      <td>0</td>\n",
              "      <td>0</td>\n",
              "      <td>1</td>\n",
              "      <td>0</td>\n",
              "      <td>0</td>\n",
              "      <td>0</td>\n",
              "      <td>0</td>\n",
              "      <td>0.0</td>\n",
              "    </tr>\n",
              "  </tbody>\n",
              "</table>\n",
              "</div>\n",
              "      <button class=\"colab-df-convert\" onclick=\"convertToInteractive('df-8441aabe-7eb8-47bc-aafa-010bd66c7ca9')\"\n",
              "              title=\"Convert this dataframe to an interactive table.\"\n",
              "              style=\"display:none;\">\n",
              "        \n",
              "  <svg xmlns=\"http://www.w3.org/2000/svg\" height=\"24px\"viewBox=\"0 0 24 24\"\n",
              "       width=\"24px\">\n",
              "    <path d=\"M0 0h24v24H0V0z\" fill=\"none\"/>\n",
              "    <path d=\"M18.56 5.44l.94 2.06.94-2.06 2.06-.94-2.06-.94-.94-2.06-.94 2.06-2.06.94zm-11 1L8.5 8.5l.94-2.06 2.06-.94-2.06-.94L8.5 2.5l-.94 2.06-2.06.94zm10 10l.94 2.06.94-2.06 2.06-.94-2.06-.94-.94-2.06-.94 2.06-2.06.94z\"/><path d=\"M17.41 7.96l-1.37-1.37c-.4-.4-.92-.59-1.43-.59-.52 0-1.04.2-1.43.59L10.3 9.45l-7.72 7.72c-.78.78-.78 2.05 0 2.83L4 21.41c.39.39.9.59 1.41.59.51 0 1.02-.2 1.41-.59l7.78-7.78 2.81-2.81c.8-.78.8-2.07 0-2.86zM5.41 20L4 18.59l7.72-7.72 1.47 1.35L5.41 20z\"/>\n",
              "  </svg>\n",
              "      </button>\n",
              "      \n",
              "  <style>\n",
              "    .colab-df-container {\n",
              "      display:flex;\n",
              "      flex-wrap:wrap;\n",
              "      gap: 12px;\n",
              "    }\n",
              "\n",
              "    .colab-df-convert {\n",
              "      background-color: #E8F0FE;\n",
              "      border: none;\n",
              "      border-radius: 50%;\n",
              "      cursor: pointer;\n",
              "      display: none;\n",
              "      fill: #1967D2;\n",
              "      height: 32px;\n",
              "      padding: 0 0 0 0;\n",
              "      width: 32px;\n",
              "    }\n",
              "\n",
              "    .colab-df-convert:hover {\n",
              "      background-color: #E2EBFA;\n",
              "      box-shadow: 0px 1px 2px rgba(60, 64, 67, 0.3), 0px 1px 3px 1px rgba(60, 64, 67, 0.15);\n",
              "      fill: #174EA6;\n",
              "    }\n",
              "\n",
              "    [theme=dark] .colab-df-convert {\n",
              "      background-color: #3B4455;\n",
              "      fill: #D2E3FC;\n",
              "    }\n",
              "\n",
              "    [theme=dark] .colab-df-convert:hover {\n",
              "      background-color: #434B5C;\n",
              "      box-shadow: 0px 1px 3px 1px rgba(0, 0, 0, 0.15);\n",
              "      filter: drop-shadow(0px 1px 2px rgba(0, 0, 0, 0.3));\n",
              "      fill: #FFFFFF;\n",
              "    }\n",
              "  </style>\n",
              "\n",
              "      <script>\n",
              "        const buttonEl =\n",
              "          document.querySelector('#df-8441aabe-7eb8-47bc-aafa-010bd66c7ca9 button.colab-df-convert');\n",
              "        buttonEl.style.display =\n",
              "          google.colab.kernel.accessAllowed ? 'block' : 'none';\n",
              "\n",
              "        async function convertToInteractive(key) {\n",
              "          const element = document.querySelector('#df-8441aabe-7eb8-47bc-aafa-010bd66c7ca9');\n",
              "          const dataTable =\n",
              "            await google.colab.kernel.invokeFunction('convertToInteractive',\n",
              "                                                     [key], {});\n",
              "          if (!dataTable) return;\n",
              "\n",
              "          const docLinkHtml = 'Like what you see? Visit the ' +\n",
              "            '<a target=\"_blank\" href=https://colab.research.google.com/notebooks/data_table.ipynb>data table notebook</a>'\n",
              "            + ' to learn more about interactive tables.';\n",
              "          element.innerHTML = '';\n",
              "          dataTable['output_type'] = 'display_data';\n",
              "          await google.colab.output.renderOutput(dataTable, element);\n",
              "          const docLink = document.createElement('div');\n",
              "          docLink.innerHTML = docLinkHtml;\n",
              "          element.appendChild(docLink);\n",
              "        }\n",
              "      </script>\n",
              "    </div>\n",
              "  </div>\n",
              "  "
            ]
          },
          "metadata": {},
          "execution_count": 113
        }
      ]
    },
    {
      "cell_type": "code",
      "source": [
        "# gera arquivo para usar como \"api\" na web\n",
        "import cloudpickle\n",
        "\n",
        "model = cloudpickle.dumps(classificador)\n",
        "\n",
        "with open('model.pkl', 'wb') as file_out:\n",
        "  file_out.write(model)"
      ],
      "metadata": {
        "id": "qhGCzRI4r_56"
      },
      "execution_count": 108,
      "outputs": []
    }
  ]
}